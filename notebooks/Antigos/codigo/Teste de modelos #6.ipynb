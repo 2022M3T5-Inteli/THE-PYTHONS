{
  "nbformat": 4,
  "nbformat_minor": 0,
  "metadata": {
    "colab": {
      "provenance": [],
      "collapsed_sections": []
    },
    "kernelspec": {
      "name": "python3",
      "display_name": "Python 3"
    },
    "language_info": {
      "name": "python"
    }
  },
  "cells": [
    {
      "cell_type": "code",
      "execution_count": 2,
      "metadata": {
        "colab": {
          "base_uri": "https://localhost:8080/"
        },
        "id": "KnBv0Q3yJ790",
        "outputId": "275d9df9-cf0a-4dfa-cfc1-55fe2ac9ea21"
      },
      "outputs": [
        {
          "output_type": "stream",
          "name": "stdout",
          "text": [
            "Drive already mounted at /content/drive; to attempt to forcibly remount, call drive.mount(\"/content/drive\", force_remount=True).\n"
          ]
        }
      ],
      "source": [
        "from google.colab import drive, files\n",
        "drive.mount('/content/drive')"
      ]
    },
    {
      "cell_type": "code",
      "source": [
        "#Importando bibliotecas e arquivo csv\n",
        "\n",
        "import numpy as np\n",
        "import matplotlib.pyplot as plt\n",
        "import pandas as pd\n",
        "from google.colab.data_table import DataTable\n",
        "DataTable.max_columns = 120\n",
        "\n",
        "tv_0 = pd.read_csv(\"/content/drive/MyDrive/2022-2A-T05/Grupo 3/datasets/CSV/tv_0_ukn.csv\", encoding=\"UTF-8\")\n"
      ],
      "metadata": {
        "id": "bmw0I_iiKJ78"
      },
      "execution_count": 3,
      "outputs": []
    },
    {
      "cell_type": "markdown",
      "source": [
        "#Definindo os sets de treinamento\n"
      ],
      "metadata": {
        "id": "e9MEUq_eKRCR"
      }
    },
    {
      "cell_type": "code",
      "source": [
        "from sklearn.model_selection import train_test_split\n",
        "\n",
        "# Dividindo x e y\n",
        "x = tv_0[['Categoria_AUDITORIO',\n",
        "       'Categoria_CARROS E MOTORES', 'Categoria_CULINARIO', 'Categoria_DEBATE',\n",
        "       'Categoria_DOCUMENTARIO', 'Categoria_EDUCATIVO', 'Categoria_ENTREVISTA',\n",
        "       'Categoria_ESPORTE', 'Categoria_FEMININO', 'Categoria_FILME',\n",
        "       'Categoria_FUTEBOL', 'Categoria_GAME SHOW', 'Categoria_HUMORISTICO',\n",
        "       'Categoria_JORNALISMO', 'Categoria_MINISSERIE', 'Categoria_MUSICAL',\n",
        "       'Categoria_NAO CONSTA', 'Categoria_NOVELA', 'Categoria_OUTROS',\n",
        "       'Categoria_POLITICO', 'Categoria_PREMIACAO', 'Categoria_REALITY SHOW',\n",
        "       'Categoria_RELIGIOSO', 'Categoria_REPORTAGEM', 'Categoria_RURAL',\n",
        "       'Categoria_SERIES', 'Categoria_SHOW', 'Categoria_SORTEIO',\n",
        "       'Categoria_TELE VENDAS', 'Mês','Hora Início', 'Dia da Semana_1','Dia da Semana_2','Dia da Semana_3',\n",
        "       'Dia da Semana_4','Dia da Semana_5','Dia da Semana_6','Dia da Semana_7', 'Dia do Mês']]\n",
        "y = tv_0[['Total Domicílios | Rat%']]\n",
        "\n",
        "\n",
        "# Dividindo dados para treino e dados para teste\n",
        "x_train, x_test, y_train, y_test = train_test_split(x, y, \n",
        "                                                    test_size = 0.2, \n",
        "                                                    random_state = 1) # qualquer valor como semente do pseudo-random\n"
      ],
      "metadata": {
        "id": "tgG9qoY6KOpr"
      },
      "execution_count": 4,
      "outputs": []
    },
    {
      "cell_type": "markdown",
      "source": [
        "# 4.4.2 Random Forest Regressor"
      ],
      "metadata": {
        "id": "iu_59i7IKebI"
      }
    },
    {
      "cell_type": "markdown",
      "source": [
        "Nesta primeira etapa, iremos treinar o método random forest regressor "
      ],
      "metadata": {
        "id": "FzKIPLEkKilM"
      }
    },
    {
      "cell_type": "code",
      "source": [
        "# Importando bibliotecas e treinando o modelo \n",
        "from sklearn.ensemble import RandomForestRegressor\n",
        "from sklearn.datasets import make_regression\n",
        "from sklearn import metrics\n",
        "\n",
        "regressor = RandomForestRegressor(n_estimators=289, random_state=0)\n",
        "regressor.fit (x_train, y_train)\n",
        "y_pred_regressor = regressor.predict(x_test)"
      ],
      "metadata": {
        "colab": {
          "base_uri": "https://localhost:8080/"
        },
        "id": "SMkodX0yKh0a",
        "outputId": "39a54d61-93c6-44a4-acec-5364fcf2609f"
      },
      "execution_count": 5,
      "outputs": [
        {
          "output_type": "stream",
          "name": "stderr",
          "text": [
            "/usr/local/lib/python3.7/dist-packages/ipykernel_launcher.py:7: DataConversionWarning: A column-vector y was passed when a 1d array was expected. Please change the shape of y to (n_samples,), for example using ravel().\n",
            "  import sys\n"
          ]
        }
      ]
    },
    {
      "cell_type": "markdown",
      "source": [
        "\n",
        "\n",
        "> Avaliando a acurácia do modelo \n",
        "\n"
      ],
      "metadata": {
        "id": "JP-QYir9PT2x"
      }
    },
    {
      "cell_type": "code",
      "source": [
        "metrics.r2_score(y_test, y_pred_regressor)"
      ],
      "metadata": {
        "colab": {
          "base_uri": "https://localhost:8080/"
        },
        "id": "ALxHWMPmPRew",
        "outputId": "61591fdb-7771-4361-e8bb-3c9c3c21347d"
      },
      "execution_count": 6,
      "outputs": [
        {
          "output_type": "execute_result",
          "data": {
            "text/plain": [
              "0.9760959640818353"
            ]
          },
          "metadata": {},
          "execution_count": 6
        }
      ]
    },
    {
      "cell_type": "code",
      "source": [
        "#Distribuição das previsões \n",
        "\n",
        "plt.scatter(y_test, y_pred_regressor)"
      ],
      "metadata": {
        "colab": {
          "base_uri": "https://localhost:8080/",
          "height": 282
        },
        "id": "BJ10vOD_KtQe",
        "outputId": "6d23177e-f2f9-4be5-9ff5-ccb46a848086"
      },
      "execution_count": 7,
      "outputs": [
        {
          "output_type": "execute_result",
          "data": {
            "text/plain": [
              "<matplotlib.collections.PathCollection at 0x7f34be813810>"
            ]
          },
          "metadata": {},
          "execution_count": 7
        },
        {
          "output_type": "display_data",
          "data": {
            "text/plain": [
              "<Figure size 432x288 with 1 Axes>"
            ],
            "image/png": "[encoded data removed]"
          },
          "metadata": {
            "needs_background": "light"
          }
        }
      ]
    },
    {
      "cell_type": "code",
      "source": [
        "#Calculando os erros do modelo e gerando um histograma dos erros\n",
        "y_normalizado  = y_test.values.flatten()\n",
        "errors = (y_pred_regressor - y_normalizado)\n",
        "plt.hist(errors)"
      ],
      "metadata": {
        "colab": {
          "base_uri": "https://localhost:8080/",
          "height": 369
        },
        "id": "SNUxhZ9RPnd8",
        "outputId": "b5e509fd-bf54-4a16-9a79-53c5360f25cc"
      },
      "execution_count": 8,
      "outputs": [
        {
          "output_type": "execute_result",
          "data": {
            "text/plain": [
              "(array([3.000e+00, 8.000e+00, 8.800e+01, 7.090e+02, 3.542e+04, 7.381e+03,\n",
              "        1.350e+02, 2.200e+01, 5.000e+00, 5.000e+00]),\n",
              " array([-14.11708824, -11.16292616,  -8.20876408,  -5.254602  ,\n",
              "         -2.30043992,   0.65372215,   3.60788423,   6.56204631,\n",
              "          9.51620839,  12.47037046,  15.42453254]),\n",
              " <a list of 10 Patch objects>)"
            ]
          },
          "metadata": {},
          "execution_count": 8
        },
        {
          "output_type": "display_data",
          "data": {
            "text/plain": [
              "<Figure size 432x288 with 1 Axes>"
            ],
            "image/png": "[encoded data removed]"
          },
          "metadata": {
            "needs_background": "light"
          }
        }
      ]
    },
    {
      "cell_type": "code",
      "source": [
        "#Desvio padrão dos erros do random forest generator \n",
        "errors.std()"
      ],
      "metadata": {
        "colab": {
          "base_uri": "https://localhost:8080/"
        },
        "id": "Lr-blCXfQTl0",
        "outputId": "bb08f788-441a-421a-c0f5-d4dfeeaf065c"
      },
      "execution_count": 9,
      "outputs": [
        {
          "output_type": "execute_result",
          "data": {
            "text/plain": [
              "1.008094457567484"
            ]
          },
          "metadata": {},
          "execution_count": 9
        }
      ]
    },
    {
      "cell_type": "markdown",
      "source": [
        "# 4.4.3 KNN Regressor\n"
      ],
      "metadata": {
        "id": "C85G9pTvQ0Ob"
      }
    },
    {
      "cell_type": "code",
      "source": [
        "from sklearn.neighbors import KNeighborsRegressor\n",
        "\n",
        "#Instanciar e fazer o fit das variaveis com o modelo \n",
        "knn_model = KNeighborsRegressor(n_neighbors=5).fit(x_train, y_train)\n",
        "\n",
        "#Calculando o score\n",
        "score_knn = knn_model.score(x_test, y_test)\n"
      ],
      "metadata": {
        "id": "cdIYTES5Qu8w"
      },
      "execution_count": 10,
      "outputs": []
    },
    {
      "cell_type": "code",
      "source": [
        "#Calculando a predição \n",
        "\n",
        "y_pred_knn = knn_model.predict(x_test)\n"
      ],
      "metadata": {
        "id": "SkJVwq3YQ4Va"
      },
      "execution_count": 11,
      "outputs": []
    },
    {
      "cell_type": "markdown",
      "source": [
        "Avaliando a acurácia do modelo "
      ],
      "metadata": {
        "id": "fWYy7sfSSEYR"
      }
    },
    {
      "cell_type": "code",
      "source": [
        "from sklearn import metrics\n",
        "\n",
        "metrics.r2_score(y_test, y_pred_knn)"
      ],
      "metadata": {
        "colab": {
          "base_uri": "https://localhost:8080/"
        },
        "id": "2oP8je05RMKa",
        "outputId": "b30b36ca-d417-45c0-bc2c-4fa44fed2000"
      },
      "execution_count": 12,
      "outputs": [
        {
          "output_type": "execute_result",
          "data": {
            "text/plain": [
              "0.9746902506950349"
            ]
          },
          "metadata": {},
          "execution_count": 12
        }
      ]
    },
    {
      "cell_type": "code",
      "source": [
        "#Distribuição das previsões \n",
        "\n",
        "plt.scatter(y_test, y_pred_knn)"
      ],
      "metadata": {
        "colab": {
          "base_uri": "https://localhost:8080/",
          "height": 282
        },
        "id": "j3v8COkUSpVP",
        "outputId": "2dc5fd4b-9a1e-44a3-b476-36568b94b26c"
      },
      "execution_count": 13,
      "outputs": [
        {
          "output_type": "execute_result",
          "data": {
            "text/plain": [
              "<matplotlib.collections.PathCollection at 0x7f34bba28710>"
            ]
          },
          "metadata": {},
          "execution_count": 13
        },
        {
          "output_type": "display_data",
          "data": {
            "text/plain": [
              "<Figure size 432x288 with 1 Axes>"
            ],
            "image/png": "[encoded data removed]"
          },
          "metadata": {
            "needs_background": "light"
          }
        }
      ]
    },
    {
      "cell_type": "markdown",
      "source": [
        "# 4.4.4 Regressão linear múltipla "
      ],
      "metadata": {
        "id": "ItMOU-DTUznj"
      }
    },
    {
      "cell_type": "code",
      "source": [
        "#Importando as bibliotecas e definindo parâmetros \n",
        "from sklearn import linear_model\n",
        "import statsmodels.api as sm\n",
        "\n",
        "#Treinando \n",
        "\n",
        "regr = linear_model.LinearRegression()\n",
        "regr.fit(x, y)\n",
        "\n"
      ],
      "metadata": {
        "id": "nVNYvmsfU9H-",
        "colab": {
          "base_uri": "https://localhost:8080/"
        },
        "outputId": "28c69b9d-499b-49c7-d1dd-ece0399842ea"
      },
      "execution_count": 14,
      "outputs": [
        {
          "output_type": "execute_result",
          "data": {
            "text/plain": [
              "LinearRegression()"
            ]
          },
          "metadata": {},
          "execution_count": 14
        }
      ]
    },
    {
      "cell_type": "code",
      "source": [
        "#Adicionando a constante\n",
        "x = sm.add_constant(x) \n",
        " \n",
        "#Realizando a predição  \n",
        "model = sm.OLS(y, x).fit()\n",
        "predictions = model.predict(x) \n",
        " "
      ],
      "metadata": {
        "id": "us9mQOFAVJOH",
        "colab": {
          "base_uri": "https://localhost:8080/"
        },
        "outputId": "44bd7fd5-5395-4035-e0cc-f750028f8325"
      },
      "execution_count": 15,
      "outputs": [
        {
          "output_type": "stream",
          "name": "stderr",
          "text": [
            "/usr/local/lib/python3.7/dist-packages/statsmodels/tsa/tsatools.py:142: FutureWarning: In a future version of pandas all arguments of concat except for the argument 'objs' will be keyword-only\n",
            "  x = pd.concat(x[::order], 1)\n"
          ]
        }
      ]
    },
    {
      "cell_type": "code",
      "source": [
        "#Sumário dos resultados da regressão linear múltipla\n",
        "# with statsmodels\n",
        "print_model = model.summary()\n",
        "print(print_model) "
      ],
      "metadata": {
        "id": "PlEo0ET_V3-r",
        "colab": {
          "base_uri": "https://localhost:8080/"
        },
        "outputId": "2431e635-0096-43bc-8e14-f6940ce13c4e"
      },
      "execution_count": 16,
      "outputs": [
        {
          "output_type": "stream",
          "name": "stdout",
          "text": [
            "                               OLS Regression Results                              \n",
            "===================================================================================\n",
            "Dep. Variable:     Total Domicílios | Rat%   R-squared:                       0.418\n",
            "Model:                                 OLS   Adj. R-squared:                  0.418\n",
            "Method:                      Least Squares   F-statistic:                     4248.\n",
            "Date:                     Sat, 10 Sep 2022   Prob (F-statistic):               0.00\n",
            "Time:                             19:03:10   Log-Likelihood:            -6.6146e+05\n",
            "No. Observations:                   218880   AIC:                         1.323e+06\n",
            "Df Residuals:                       218842   BIC:                         1.323e+06\n",
            "Df Model:                               37                                         \n",
            "Covariance Type:                 nonrobust                                         \n",
            "==============================================================================================\n",
            "                                 coef    std err          t      P>|t|      [0.025      0.975]\n",
            "----------------------------------------------------------------------------------------------\n",
            "const                          9.5061      0.154     61.835      0.000       9.205       9.807\n",
            "Categoria_AUDITORIO           -0.6823      0.175     -3.907      0.000      -1.025      -0.340\n",
            "Categoria_CARROS E MOTORES    -1.8623      0.252     -7.385      0.000      -2.357      -1.368\n",
            "Categoria_CULINARIO           -4.6576      0.484     -9.630      0.000      -5.606      -3.710\n",
            "Categoria_DEBATE               2.6358      1.342      1.963      0.050       0.005       5.267\n",
            "Categoria_DOCUMENTARIO         0.1193      0.841      0.142      0.887      -1.529       1.767\n",
            "Categoria_EDUCATIVO           -5.9911      0.231    -25.974      0.000      -6.443      -5.539\n",
            "Categoria_ENTREVISTA          -3.7536      0.189    -19.851      0.000      -4.124      -3.383\n",
            "Categoria_ESPORTE              0.3333      0.178      1.876      0.061      -0.015       0.682\n",
            "Categoria_FEMININO            -4.5275      0.197    -23.031      0.000      -4.913      -4.142\n",
            "Categoria_FILME               -1.7006      0.173     -9.857      0.000      -2.039      -1.362\n",
            "Categoria_FUTEBOL              9.0318      0.185     48.932      0.000       8.670       9.394\n",
            "Categoria_GAME SHOW           -2.0764      0.414     -5.019      0.000      -2.887      -1.266\n",
            "Categoria_HUMORISTICO         -1.2773      0.212     -6.017      0.000      -1.693      -0.861\n",
            "Categoria_JORNALISMO           0.6012      0.172      3.502      0.000       0.265       0.938\n",
            "Categoria_MINISSERIE           6.9685      0.599     11.632      0.000       5.794       8.143\n",
            "Categoria_MUSICAL              0.0017      0.295      0.006      0.995      -0.576       0.580\n",
            "Categoria_NAO CONSTA          -7.1267      1.396     -5.103      0.000      -9.864      -4.390\n",
            "Categoria_NOVELA              10.1132      0.173     58.417      0.000       9.774      10.452\n",
            "Categoria_OUTROS              -0.9174      1.822     -0.503      0.615      -4.489       2.654\n",
            "Categoria_POLITICO             6.4828      0.407     15.933      0.000       5.685       7.280\n",
            "Categoria_PREMIACAO            1.8323      1.062      1.726      0.084      -0.248       3.913\n",
            "Categoria_REALITY SHOW         6.0944      0.182     33.522      0.000       5.738       6.451\n",
            "Categoria_RELIGIOSO           -4.9985      0.216    -23.147      0.000      -5.422      -4.575\n",
            "Categoria_REPORTAGEM           0.1036      0.198      0.525      0.600      -0.283       0.491\n",
            "Categoria_RURAL               -2.0145      0.275     -7.314      0.000      -2.554      -1.475\n",
            "Categoria_SERIES               3.1583      0.181     17.442      0.000       2.803       3.513\n",
            "Categoria_SHOW                -2.9109      0.176    -16.520      0.000      -3.256      -2.566\n",
            "Categoria_SORTEIO              7.3839      3.398      2.173      0.030       0.724      14.044\n",
            "Categoria_TELE VENDAS         -0.8572      1.706     -0.503      0.615      -4.200       2.486\n",
            "Mês                           -0.0638      0.003    -20.016      0.000      -0.070      -0.058\n",
            "Hora Início                   -0.1052      0.002    -58.506      0.000      -0.109      -0.102\n",
            "Dia da Semana_1                2.1156      0.034     61.427      0.000       2.048       2.183\n",
            "Dia da Semana_2                1.4029      0.034     40.782      0.000       1.335       1.470\n",
            "Dia da Semana_3                1.2385      0.034     36.131      0.000       1.171       1.306\n",
            "Dia da Semana_4                1.1235      0.034     32.657      0.000       1.056       1.191\n",
            "Dia da Semana_5                0.9422      0.034     27.540      0.000       0.875       1.009\n",
            "Dia da Semana_6                1.1915      0.036     33.086      0.000       1.121       1.262\n",
            "Dia da Semana_7                1.4918      0.036     41.686      0.000       1.422       1.562\n",
            "Dia do Mês                    -0.0012      0.001     -0.975      0.330      -0.004       0.001\n",
            "==============================================================================\n",
            "Omnibus:                    31617.562   Durbin-Watson:                   0.120\n",
            "Prob(Omnibus):                  0.000   Jarque-Bera (JB):            52737.421\n",
            "Skew:                           0.977   Prob(JB):                         0.00\n",
            "Kurtosis:                       4.402   Cond. No.                     1.11e+16\n",
            "==============================================================================\n",
            "\n",
            "Notes:\n",
            "[1] Standard Errors assume that the covariance matrix of the errors is correctly specified.\n",
            "[2] The smallest eigenvalue is 1.19e-24. This might indicate that there are\n",
            "strong multicollinearity problems or that the design matrix is singular.\n"
          ]
        }
      ]
    },
    {
      "cell_type": "markdown",
      "source": [
        "#Comparando predições com valores originais "
      ],
      "metadata": {
        "id": "2T3ZDq81Wz7k"
      }
    },
    {
      "cell_type": "markdown",
      "source": [
        "Nesta etapa, iremos comparar o resultado da predição de audiência total com o resultado da vida real.\n",
        "\n",
        "Devido aos valores de r^2 gerados a partir de cada modelo, resolvemos testar com o Random Forest Regressor, visto que o mesmo possui um r^2 maior. \n"
      ],
      "metadata": {
        "id": "49c4gGJHW5mL"
      }
    },
    {
      "cell_type": "markdown",
      "source": [
        "### Testando com o Random Forest Regressor (4.4.2)\n"
      ],
      "metadata": {
        "id": "Aov_ZV5TbSiE"
      }
    },
    {
      "cell_type": "code",
      "source": [
        "#Escolhendo uma linha aleatoria do modelo de teste\n",
        "testPredition = x_test.iloc[['1092']].values.flatten()\n",
        "\n",
        "\n",
        "#Guardando esse números em uma variável \n",
        "testPredition\n"
      ],
      "metadata": {
        "id": "IqTcjoX1bPCT",
        "colab": {
          "base_uri": "https://localhost:8080/"
        },
        "outputId": "8843e799-5f16-40e6-b08b-4ca4074b7f2a"
      },
      "execution_count": 17,
      "outputs": [
        {
          "output_type": "execute_result",
          "data": {
            "text/plain": [
              "array([ 0.,  0.,  0.,  0.,  0.,  0.,  0.,  0.,  0.,  0.,  0.,  0.,  0.,\n",
              "        0.,  0.,  0.,  0.,  0.,  0.,  0.,  0.,  0.,  0.,  0.,  0.,  0.,\n",
              "        1.,  0.,  0.,  7., 14.,  0.,  0.,  0.,  0.,  0.,  1.,  0., 18.])"
            ]
          },
          "metadata": {},
          "execution_count": 17
        }
      ]
    },
    {
      "cell_type": "code",
      "source": [
        "#Testando o modelo com a linha selecionada acima\n",
        "predition_RFR = regressor.predict([testPredition])\n",
        "\n"
      ],
      "metadata": {
        "id": "kP4og1gYbgw1",
        "colab": {
          "base_uri": "https://localhost:8080/"
        },
        "outputId": "412086af-adf5-4a96-a97b-9ec7cdf4e650"
      },
      "execution_count": 18,
      "outputs": [
        {
          "output_type": "stream",
          "name": "stderr",
          "text": [
            "/usr/local/lib/python3.7/dist-packages/sklearn/base.py:451: UserWarning: X does not have valid feature names, but RandomForestRegressor was fitted with feature names\n",
            "  \"X does not have valid feature names, but\"\n"
          ]
        }
      ]
    },
    {
      "cell_type": "code",
      "source": [
        "#Comparando o valor da predição com o valor real do RAT\n",
        "tv_0['Total Domicílios | Rat%'].iloc[[1092]]"
      ],
      "metadata": {
        "id": "S1CGFqiHb2MC",
        "colab": {
          "base_uri": "https://localhost:8080/"
        },
        "outputId": "992addd4-0dc8-4d5e-a717-0776115f7742"
      },
      "execution_count": 19,
      "outputs": [
        {
          "output_type": "execute_result",
          "data": {
            "text/plain": [
              "1092    5.35\n",
              "Name: Total Domicílios | Rat%, dtype: float64"
            ]
          },
          "metadata": {},
          "execution_count": 19
        }
      ]
    },
    {
      "cell_type": "code",
      "source": [
        "predition_RFR = regressor.predict([testPredition])\n",
        "\n",
        "print(predition_RFR)"
      ],
      "metadata": {
        "colab": {
          "base_uri": "https://localhost:8080/"
        },
        "id": "1wwpF8AJ1De7",
        "outputId": "d5e736da-aa83-42e8-e6f6-e0ee33c9337e"
      },
      "execution_count": 20,
      "outputs": [
        {
          "output_type": "stream",
          "name": "stdout",
          "text": [
            "[10.47753576]\n"
          ]
        },
        {
          "output_type": "stream",
          "name": "stderr",
          "text": [
            "/usr/local/lib/python3.7/dist-packages/sklearn/base.py:451: UserWarning: X does not have valid feature names, but RandomForestRegressor was fitted with feature names\n",
            "  \"X does not have valid feature names, but\"\n"
          ]
        }
      ]
    },
    {
      "cell_type": "markdown",
      "source": [
        "### Testando com o KNN (4.4.3)"
      ],
      "metadata": {
        "id": "HNJ7LkYEbPk_"
      }
    },
    {
      "cell_type": "code",
      "source": [
        "#Escolhendo uma linha aleatoria do modelo de teste\n",
        "testPredition = x_test.iloc[[1092]].values.flatten()\n",
        "\n",
        "#Guardando esse números em uma variável \n",
        "testPredition"
      ],
      "metadata": {
        "id": "yKM49hBAXUc0",
        "colab": {
          "base_uri": "https://localhost:8080/"
        },
        "outputId": "62b5cdc9-60e0-4e33-860d-295de276c208"
      },
      "execution_count": 21,
      "outputs": [
        {
          "output_type": "execute_result",
          "data": {
            "text/plain": [
              "array([ 0.,  0.,  0.,  0.,  0.,  0.,  0.,  0.,  0.,  0.,  0.,  0.,  0.,\n",
              "        0.,  0.,  0.,  0.,  0.,  0.,  0.,  0.,  0.,  0.,  0.,  0.,  0.,\n",
              "        1.,  0.,  0.,  7., 14.,  0.,  0.,  0.,  0.,  0.,  1.,  0., 18.])"
            ]
          },
          "metadata": {},
          "execution_count": 21
        }
      ]
    },
    {
      "cell_type": "code",
      "source": [
        "#Testando o modelo com a linha selecionada acima\n",
        "predition_knn = knn_model.predict([testPredition])\n",
        "\n",
        "print(predition_knn)"
      ],
      "metadata": {
        "id": "CSlJqhT5Xn3w",
        "colab": {
          "base_uri": "https://localhost:8080/"
        },
        "outputId": "01f04ec1-3383-4f60-ac37-7ac77944ba34"
      },
      "execution_count": 22,
      "outputs": [
        {
          "output_type": "stream",
          "name": "stderr",
          "text": [
            "/usr/local/lib/python3.7/dist-packages/sklearn/base.py:451: UserWarning: X does not have valid feature names, but KNeighborsRegressor was fitted with feature names\n",
            "  \"X does not have valid feature names, but\"\n"
          ]
        },
        {
          "output_type": "stream",
          "name": "stdout",
          "text": [
            "[[10.876]]\n"
          ]
        }
      ]
    },
    {
      "cell_type": "code",
      "source": [
        "#Comparando o valor da predição com o valor real do RAT\n",
        "tv_0.iloc[[1092]]"
      ],
      "metadata": {
        "id": "eahNOzwLZU4x",
        "colab": {
          "base_uri": "https://localhost:8080/",
          "height": 226
        },
        "outputId": "c3e44891-9256-4bd8-f327-4a343f7d1920"
      },
      "execution_count": 23,
      "outputs": [
        {
          "output_type": "execute_result",
          "data": {
            "text/plain": [
              "      Unnamed: 0  Unnamed: 0.1  Unnamed: 0.1.1        Data  Hora Início  \\\n",
              "1092        1092          1092            1092  2020-06-04         25.0   \n",
              "\n",
              "     Emissora  Mês  Dia do Mês  Total Domicílios | Rat%  AB | Rat%  ...  \\\n",
              "1092     tv_0    6           4                     5.35        2.1  ...   \n",
              "\n",
              "      Categoria_SHOW  Categoria_SORTEIO  Categoria_TELE VENDAS  \\\n",
              "1092               0                  0                      0   \n",
              "\n",
              "      Dia da Semana_1  Dia da Semana_2  Dia da Semana_3  Dia da Semana_4  \\\n",
              "1092                0                0                0                1   \n",
              "\n",
              "      Dia da Semana_5  Dia da Semana_6  Dia da Semana_7  \n",
              "1092                0                0                0  \n",
              "\n",
              "[1 rows x 102 columns]"
            ],
            "text/html": [
              "\n",
              "  <div id=\"df-59230b8f-f124-4f5a-a23a-ec8579d868c5\">\n",
              "    <div class=\"colab-df-container\">\n",
              "      <div>\n",
              "<style scoped>\n",
              "    .dataframe tbody tr th:only-of-type {\n",
              "        vertical-align: middle;\n",
              "    }\n",
              "\n",
              "    .dataframe tbody tr th {\n",
              "        vertical-align: top;\n",
              "    }\n",
              "\n",
              "    .dataframe thead th {\n",
              "        text-align: right;\n",
              "    }\n",
              "</style>\n",
              "<table border=\"1\" class=\"dataframe\">\n",
              "  <thead>\n",
              "    <tr style=\"text-align: right;\">\n",
              "      <th></th>\n",
              "      <th>Unnamed: 0</th>\n",
              "      <th>Unnamed: 0.1</th>\n",
              "      <th>Unnamed: 0.1.1</th>\n",
              "      <th>Data</th>\n",
              "      <th>Hora Início</th>\n",
              "      <th>Emissora</th>\n",
              "      <th>Mês</th>\n",
              "      <th>Dia do Mês</th>\n",
              "      <th>Total Domicílios | Rat%</th>\n",
              "      <th>AB | Rat%</th>\n",
              "      <th>...</th>\n",
              "      <th>Categoria_SHOW</th>\n",
              "      <th>Categoria_SORTEIO</th>\n",
              "      <th>Categoria_TELE VENDAS</th>\n",
              "      <th>Dia da Semana_1</th>\n",
              "      <th>Dia da Semana_2</th>\n",
              "      <th>Dia da Semana_3</th>\n",
              "      <th>Dia da Semana_4</th>\n",
              "      <th>Dia da Semana_5</th>\n",
              "      <th>Dia da Semana_6</th>\n",
              "      <th>Dia da Semana_7</th>\n",
              "    </tr>\n",
              "  </thead>\n",
              "  <tbody>\n",
              "    <tr>\n",
              "      <th>1092</th>\n",
              "      <td>1092</td>\n",
              "      <td>1092</td>\n",
              "      <td>1092</td>\n",
              "      <td>2020-06-04</td>\n",
              "      <td>25.0</td>\n",
              "      <td>tv_0</td>\n",
              "      <td>6</td>\n",
              "      <td>4</td>\n",
              "      <td>5.35</td>\n",
              "      <td>2.1</td>\n",
              "      <td>...</td>\n",
              "      <td>0</td>\n",
              "      <td>0</td>\n",
              "      <td>0</td>\n",
              "      <td>0</td>\n",
              "      <td>0</td>\n",
              "      <td>0</td>\n",
              "      <td>1</td>\n",
              "      <td>0</td>\n",
              "      <td>0</td>\n",
              "      <td>0</td>\n",
              "    </tr>\n",
              "  </tbody>\n",
              "</table>\n",
              "<p>1 rows × 102 columns</p>\n",
              "</div>\n",
              "      <button class=\"colab-df-convert\" onclick=\"convertToInteractive('df-59230b8f-f124-4f5a-a23a-ec8579d868c5')\"\n",
              "              title=\"Convert this dataframe to an interactive table.\"\n",
              "              style=\"display:none;\">\n",
              "        \n",
              "  <svg xmlns=\"http://www.w3.org/2000/svg\" height=\"24px\"viewBox=\"0 0 24 24\"\n",
              "       width=\"24px\">\n",
              "    <path d=\"M0 0h24v24H0V0z\" fill=\"none\"/>\n",
              "    <path d=\"M18.56 5.44l.94 2.06.94-2.06 2.06-.94-2.06-.94-.94-2.06-.94 2.06-2.06.94zm-11 1L8.5 8.5l.94-2.06 2.06-.94-2.06-.94L8.5 2.5l-.94 2.06-2.06.94zm10 10l.94 2.06.94-2.06 2.06-.94-2.06-.94-.94-2.06-.94 2.06-2.06.94z\"/><path d=\"M17.41 7.96l-1.37-1.37c-.4-.4-.92-.59-1.43-.59-.52 0-1.04.2-1.43.59L10.3 9.45l-7.72 7.72c-.78.78-.78 2.05 0 2.83L4 21.41c.39.39.9.59 1.41.59.51 0 1.02-.2 1.41-.59l7.78-7.78 2.81-2.81c.8-.78.8-2.07 0-2.86zM5.41 20L4 18.59l7.72-7.72 1.47 1.35L5.41 20z\"/>\n",
              "  </svg>\n",
              "      </button>\n",
              "      \n",
              "  <style>\n",
              "    .colab-df-container {\n",
              "      display:flex;\n",
              "      flex-wrap:wrap;\n",
              "      gap: 12px;\n",
              "    }\n",
              "\n",
              "    .colab-df-convert {\n",
              "      background-color: #E8F0FE;\n",
              "      border: none;\n",
              "      border-radius: 50%;\n",
              "      cursor: pointer;\n",
              "      display: none;\n",
              "      fill: #1967D2;\n",
              "      height: 32px;\n",
              "      padding: 0 0 0 0;\n",
              "      width: 32px;\n",
              "    }\n",
              "\n",
              "    .colab-df-convert:hover {\n",
              "      background-color: #E2EBFA;\n",
              "      box-shadow: 0px 1px 2px rgba(60, 64, 67, 0.3), 0px 1px 3px 1px rgba(60, 64, 67, 0.15);\n",
              "      fill: #174EA6;\n",
              "    }\n",
              "\n",
              "    [theme=dark] .colab-df-convert {\n",
              "      background-color: #3B4455;\n",
              "      fill: #D2E3FC;\n",
              "    }\n",
              "\n",
              "    [theme=dark] .colab-df-convert:hover {\n",
              "      background-color: #434B5C;\n",
              "      box-shadow: 0px 1px 3px 1px rgba(0, 0, 0, 0.15);\n",
              "      filter: drop-shadow(0px 1px 2px rgba(0, 0, 0, 0.3));\n",
              "      fill: #FFFFFF;\n",
              "    }\n",
              "  </style>\n",
              "\n",
              "      <script>\n",
              "        const buttonEl =\n",
              "          document.querySelector('#df-59230b8f-f124-4f5a-a23a-ec8579d868c5 button.colab-df-convert');\n",
              "        buttonEl.style.display =\n",
              "          google.colab.kernel.accessAllowed ? 'block' : 'none';\n",
              "\n",
              "        async function convertToInteractive(key) {\n",
              "          const element = document.querySelector('#df-59230b8f-f124-4f5a-a23a-ec8579d868c5');\n",
              "          const dataTable =\n",
              "            await google.colab.kernel.invokeFunction('convertToInteractive',\n",
              "                                                     [key], {});\n",
              "          if (!dataTable) return;\n",
              "\n",
              "          const docLinkHtml = 'Like what you see? Visit the ' +\n",
              "            '<a target=\"_blank\" href=https://colab.research.google.com/notebooks/data_table.ipynb>data table notebook</a>'\n",
              "            + ' to learn more about interactive tables.';\n",
              "          element.innerHTML = '';\n",
              "          dataTable['output_type'] = 'display_data';\n",
              "          await google.colab.output.renderOutput(dataTable, element);\n",
              "          const docLink = document.createElement('div');\n",
              "          docLink.innerHTML = docLinkHtml;\n",
              "          element.appendChild(docLink);\n",
              "        }\n",
              "      </script>\n",
              "    </div>\n",
              "  </div>\n",
              "  "
            ]
          },
          "metadata": {},
          "execution_count": 23
        }
      ]
    },
    {
      "cell_type": "markdown",
      "source": [
        "## Como notado nos testes acima, o Random Forest têm uma melhor acurácia. "
      ],
      "metadata": {
        "id": "ZnJCi960c1AJ"
      }
    }
  ]
}
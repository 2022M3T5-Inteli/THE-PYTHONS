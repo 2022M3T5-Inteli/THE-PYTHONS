{
  "cells": [
    {
      "cell_type": "markdown",
      "metadata": {
        "id": "fXooqOb4enlg"
      },
      "source": [
        "# Nesse Colab você encontrará todos os modelos de predição realizados pelo grupo ThePythons - projeto Agamotto.\n",
        "\n",
        "Os algoritmos estão separados por etapas de testes, ou seja, por ordem cronológica de testagem. \n",
        "\n",
        "Para cada modelo, você encontrará: \n",
        "\n",
        "\n",
        "*   Sua biblioteca;\n",
        "*   Execução da predição;\n",
        "*   Resultados e erros;\n"
      ]
    },
    {
      "cell_type": "markdown",
      "metadata": {
        "id": "20KoOH28gA3A"
      },
      "source": [
        "###Importando bibliotecas."
      ]
    },
    {
      "cell_type": "code",
      "execution_count": null,
      "metadata": {
        "id": "KnBv0Q3yJ790",
        "colab": {
          "base_uri": "https://localhost:8080/"
        },
        "outputId": "73adb266-119e-4198-f44f-df41964c86c4"
      },
      "outputs": [
        {
          "output_type": "stream",
          "name": "stdout",
          "text": [
            "Drive already mounted at /content/drive; to attempt to forcibly remount, call drive.mount(\"/content/drive\", force_remount=True).\n"
          ]
        }
      ],
      "source": [
        "from google.colab import drive, files\n",
        "drive.mount('/content/drive')"
      ]
    },
    {
      "cell_type": "code",
      "execution_count": null,
      "metadata": {
        "id": "Fd5kzMy4MSnc",
        "colab": {
          "base_uri": "https://localhost:8080/"
        },
        "outputId": "15df0cce-ac45-47f4-c05d-b04f148245d8"
      },
      "outputs": [
        {
          "output_type": "stream",
          "name": "stdout",
          "text": [
            "Downloading...\n",
            "From: https://drive.google.com/uc?id=15Q92WN4FpdWgzmiQmBwNkUtL1z2ffl3F\n",
            "To: /content/tv_0_ukn_5_min.csv\n",
            "100% 93.5M/93.5M [00:00<00:00, 261MB/s]\n",
            "Downloading...\n",
            "From: https://drive.google.com/uc?id=1xDPBbfT3QMWbYGBua2YWMAuh2Q4h_ylS\n",
            "To: /content/tv_1_ukn_5_min.csv\n",
            "100% 88.4M/88.4M [00:00<00:00, 224MB/s]\n",
            "Downloading...\n",
            "From: https://drive.google.com/uc?id=1x-jypscVE3g3dNoACd2WPjPoI83kjKyx\n",
            "To: /content/tv_2_ukn_5_min.csv\n",
            "100% 87.5M/87.5M [00:00<00:00, 293MB/s]\n"
          ]
        }
      ],
      "source": [
        "#importando a base de dados da tv_0:\n",
        "!gdown 15Q92WN4FpdWgzmiQmBwNkUtL1z2ffl3F\n",
        "#base de dados da tv_1\n",
        "!gdown 1xDPBbfT3QMWbYGBua2YWMAuh2Q4h_ylS\n",
        "#base de dados da tv_0\n",
        "!gdown 1x-jypscVE3g3dNoACd2WPjPoI83kjKyx"
      ]
    },
    {
      "cell_type": "code",
      "execution_count": null,
      "metadata": {
        "id": "BSWdCzPAModX"
      },
      "outputs": [],
      "source": [
        "import warnings\n",
        "warnings.filterwarnings('ignore')"
      ]
    },
    {
      "cell_type": "code",
      "execution_count": null,
      "metadata": {
        "id": "bmw0I_iiKJ78"
      },
      "outputs": [],
      "source": [
        "#Importando bibliotecas\n",
        "\n",
        "import numpy as np\n",
        "import matplotlib.pyplot as plt\n",
        "import pandas as pd\n",
        "from google.colab.data_table import DataTable\n",
        "from sklearn import metrics\n",
        "DataTable.max_columns = 120\n"
      ]
    },
    {
      "cell_type": "markdown",
      "metadata": {
        "id": "LvLm7a3ngUDc"
      },
      "source": [
        "# Primeira etapa de testes\n",
        "Modelos desenvolvidos durante a sprint 2:\n",
        "\n",
        "\n",
        "*   Regressão Linear TV 0\n",
        "*   Regressão Linear TV 1\n",
        "*   Regressão Linear TV 2\n",
        "\n"
      ]
    },
    {
      "cell_type": "markdown",
      "metadata": {
        "id": "yNLWTjFlPNWS"
      },
      "source": [
        "## REGRESSÃO LINEAR TV 0 \n",
        "HORA INÍCIO X RAT"
      ]
    },
    {
      "cell_type": "markdown",
      "metadata": {
        "id": "FwnYO5A_nsLe"
      },
      "source": [
        "### Importando Dataset e definindo X e Y"
      ]
    },
    {
      "cell_type": "code",
      "execution_count": null,
      "metadata": {
        "id": "mp1iZFCQRuqK",
        "colab": {
          "base_uri": "https://localhost:8080/"
        },
        "outputId": "ed293267-4404-49b8-e798-5521bebb7361"
      },
      "outputs": [
        {
          "output_type": "stream",
          "name": "stdout",
          "text": [
            "Drive already mounted at /content/drive; to attempt to forcibly remount, call drive.mount(\"/content/drive\", force_remount=True).\n"
          ]
        }
      ],
      "source": [
        "#importando arquivos do drive\n",
        "from google.colab import drive, files\n",
        "drive.mount('/content/drive')"
      ]
    },
    {
      "cell_type": "code",
      "execution_count": null,
      "metadata": {
        "id": "-OKS7D4fSJCZ"
      },
      "outputs": [],
      "source": [
        "#importando pandas e lendo o dataset\n",
        "import pandas as pd\n",
        "tv_0_ukn = pd.read_csv('/content/tv_0_ukn_5_min.csv')"
      ]
    },
    {
      "cell_type": "code",
      "execution_count": null,
      "metadata": {
        "id": "C9zg9Xb9VDbY",
        "colab": {
          "base_uri": "https://localhost:8080/",
          "height": 296
        },
        "outputId": "1dbf5804-d23c-47de-f6bd-131d88d71df3"
      },
      "outputs": [
        {
          "output_type": "execute_result",
          "data": {
            "text/plain": [
              "<matplotlib.axes._subplots.AxesSubplot at 0x7f4ce3ca5ed0>"
            ]
          },
          "metadata": {},
          "execution_count": 14
        },
        {
          "output_type": "display_data",
          "data": {
            "text/plain": [
              "<Figure size 432x288 with 1 Axes>"
            ],
            "image/png": "[encoded data removed]"
          },
          "metadata": {
            "needs_background": "light"
          }
        }
      ],
      "source": [
        "#importando as bibliotecas:\n",
        "import seaborn as sns\n",
        "import matplotlib.pyplot as plt\n",
        "\n",
        "#plotagem do gráfico da relação hora início x Rat\n",
        "sns.scatterplot(data = tv_0_ukn, x= 'Hora Início', y= 'Total Domicílios | Rat%')\n"
      ]
    },
    {
      "cell_type": "code",
      "execution_count": null,
      "metadata": {
        "id": "C8fokD9wVHEd"
      },
      "outputs": [],
      "source": [
        "from sklearn.model_selection import train_test_split\n",
        "\n",
        "# Dividindo x e y\n",
        "x = tv_0_ukn[['Hora Início']]\n",
        "y = tv_0_ukn[['Total Domicílios | Rat%']]\n",
        "\n",
        "# Dividindo dados para treino e dados para teste\n",
        "x_train, x_test, y_train, y_test = train_test_split(x, y, \n",
        "                                                    test_size = 0.3, \n",
        "                                                    random_state = 42)\n"
      ]
    },
    {
      "cell_type": "code",
      "execution_count": null,
      "metadata": {
        "id": "2m4ZEW7MSjfv",
        "colab": {
          "base_uri": "https://localhost:8080/",
          "height": 424
        },
        "outputId": "24146863-18c5-4deb-c6a5-0caad11a9779"
      },
      "outputs": [
        {
          "output_type": "execute_result",
          "data": {
            "text/plain": [
              "        Total Domicílios | Rat%\n",
              "128012                    14.09\n",
              "195960                     9.63\n",
              "34794                      6.03\n",
              "207890                     2.71\n",
              "185292                     7.42\n",
              "...                         ...\n",
              "105378                     3.62\n",
              "126030                    21.02\n",
              "176542                     2.21\n",
              "8013                       7.75\n",
              "159460                    20.31\n",
              "\n",
              "[65664 rows x 1 columns]"
            ],
            "text/html": [
              "\n",
              "  <div id=\"df-06f2d425-1a88-4fd2-bd28-184e2481aa5a\">\n",
              "    <div class=\"colab-df-container\">\n",
              "      <div>\n",
              "<style scoped>\n",
              "    .dataframe tbody tr th:only-of-type {\n",
              "        vertical-align: middle;\n",
              "    }\n",
              "\n",
              "    .dataframe tbody tr th {\n",
              "        vertical-align: top;\n",
              "    }\n",
              "\n",
              "    .dataframe thead th {\n",
              "        text-align: right;\n",
              "    }\n",
              "</style>\n",
              "<table border=\"1\" class=\"dataframe\">\n",
              "  <thead>\n",
              "    <tr style=\"text-align: right;\">\n",
              "      <th></th>\n",
              "      <th>Total Domicílios | Rat%</th>\n",
              "    </tr>\n",
              "  </thead>\n",
              "  <tbody>\n",
              "    <tr>\n",
              "      <th>128012</th>\n",
              "      <td>14.09</td>\n",
              "    </tr>\n",
              "    <tr>\n",
              "      <th>195960</th>\n",
              "      <td>9.63</td>\n",
              "    </tr>\n",
              "    <tr>\n",
              "      <th>34794</th>\n",
              "      <td>6.03</td>\n",
              "    </tr>\n",
              "    <tr>\n",
              "      <th>207890</th>\n",
              "      <td>2.71</td>\n",
              "    </tr>\n",
              "    <tr>\n",
              "      <th>185292</th>\n",
              "      <td>7.42</td>\n",
              "    </tr>\n",
              "    <tr>\n",
              "      <th>...</th>\n",
              "      <td>...</td>\n",
              "    </tr>\n",
              "    <tr>\n",
              "      <th>105378</th>\n",
              "      <td>3.62</td>\n",
              "    </tr>\n",
              "    <tr>\n",
              "      <th>126030</th>\n",
              "      <td>21.02</td>\n",
              "    </tr>\n",
              "    <tr>\n",
              "      <th>176542</th>\n",
              "      <td>2.21</td>\n",
              "    </tr>\n",
              "    <tr>\n",
              "      <th>8013</th>\n",
              "      <td>7.75</td>\n",
              "    </tr>\n",
              "    <tr>\n",
              "      <th>159460</th>\n",
              "      <td>20.31</td>\n",
              "    </tr>\n",
              "  </tbody>\n",
              "</table>\n",
              "<p>65664 rows × 1 columns</p>\n",
              "</div>\n",
              "      <button class=\"colab-df-convert\" onclick=\"convertToInteractive('df-06f2d425-1a88-4fd2-bd28-184e2481aa5a')\"\n",
              "              title=\"Convert this dataframe to an interactive table.\"\n",
              "              style=\"display:none;\">\n",
              "        \n",
              "  <svg xmlns=\"http://www.w3.org/2000/svg\" height=\"24px\"viewBox=\"0 0 24 24\"\n",
              "       width=\"24px\">\n",
              "    <path d=\"M0 0h24v24H0V0z\" fill=\"none\"/>\n",
              "    <path d=\"M18.56 5.44l.94 2.06.94-2.06 2.06-.94-2.06-.94-.94-2.06-.94 2.06-2.06.94zm-11 1L8.5 8.5l.94-2.06 2.06-.94-2.06-.94L8.5 2.5l-.94 2.06-2.06.94zm10 10l.94 2.06.94-2.06 2.06-.94-2.06-.94-.94-2.06-.94 2.06-2.06.94z\"/><path d=\"M17.41 7.96l-1.37-1.37c-.4-.4-.92-.59-1.43-.59-.52 0-1.04.2-1.43.59L10.3 9.45l-7.72 7.72c-.78.78-.78 2.05 0 2.83L4 21.41c.39.39.9.59 1.41.59.51 0 1.02-.2 1.41-.59l7.78-7.78 2.81-2.81c.8-.78.8-2.07 0-2.86zM5.41 20L4 18.59l7.72-7.72 1.47 1.35L5.41 20z\"/>\n",
              "  </svg>\n",
              "      </button>\n",
              "      \n",
              "  <style>\n",
              "    .colab-df-container {\n",
              "      display:flex;\n",
              "      flex-wrap:wrap;\n",
              "      gap: 12px;\n",
              "    }\n",
              "\n",
              "    .colab-df-convert {\n",
              "      background-color: #E8F0FE;\n",
              "      border: none;\n",
              "      border-radius: 50%;\n",
              "      cursor: pointer;\n",
              "      display: none;\n",
              "      fill: #1967D2;\n",
              "      height: 32px;\n",
              "      padding: 0 0 0 0;\n",
              "      width: 32px;\n",
              "    }\n",
              "\n",
              "    .colab-df-convert:hover {\n",
              "      background-color: #E2EBFA;\n",
              "      box-shadow: 0px 1px 2px rgba(60, 64, 67, 0.3), 0px 1px 3px 1px rgba(60, 64, 67, 0.15);\n",
              "      fill: #174EA6;\n",
              "    }\n",
              "\n",
              "    [theme=dark] .colab-df-convert {\n",
              "      background-color: #3B4455;\n",
              "      fill: #D2E3FC;\n",
              "    }\n",
              "\n",
              "    [theme=dark] .colab-df-convert:hover {\n",
              "      background-color: #434B5C;\n",
              "      box-shadow: 0px 1px 3px 1px rgba(0, 0, 0, 0.15);\n",
              "      filter: drop-shadow(0px 1px 2px rgba(0, 0, 0, 0.3));\n",
              "      fill: #FFFFFF;\n",
              "    }\n",
              "  </style>\n",
              "\n",
              "      <script>\n",
              "        const buttonEl =\n",
              "          document.querySelector('#df-06f2d425-1a88-4fd2-bd28-184e2481aa5a button.colab-df-convert');\n",
              "        buttonEl.style.display =\n",
              "          google.colab.kernel.accessAllowed ? 'block' : 'none';\n",
              "\n",
              "        async function convertToInteractive(key) {\n",
              "          const element = document.querySelector('#df-06f2d425-1a88-4fd2-bd28-184e2481aa5a');\n",
              "          const dataTable =\n",
              "            await google.colab.kernel.invokeFunction('convertToInteractive',\n",
              "                                                     [key], {});\n",
              "          if (!dataTable) return;\n",
              "\n",
              "          const docLinkHtml = 'Like what you see? Visit the ' +\n",
              "            '<a target=\"_blank\" href=https://colab.research.google.com/notebooks/data_table.ipynb>data table notebook</a>'\n",
              "            + ' to learn more about interactive tables.';\n",
              "          element.innerHTML = '';\n",
              "          dataTable['output_type'] = 'display_data';\n",
              "          await google.colab.output.renderOutput(dataTable, element);\n",
              "          const docLink = document.createElement('div');\n",
              "          docLink.innerHTML = docLinkHtml;\n",
              "          element.appendChild(docLink);\n",
              "        }\n",
              "      </script>\n",
              "    </div>\n",
              "  </div>\n",
              "  "
            ]
          },
          "metadata": {},
          "execution_count": 16
        }
      ],
      "source": [
        "x_train\n",
        "y_train\n",
        "x_test\n",
        "y_test\n"
      ]
    },
    {
      "cell_type": "markdown",
      "metadata": {
        "id": "Kwr8_H8-TiWS"
      },
      "source": [
        "### **Treinando o modelo:**"
      ]
    },
    {
      "cell_type": "code",
      "execution_count": null,
      "metadata": {
        "id": "GI3bq-W5VOrs",
        "colab": {
          "base_uri": "https://localhost:8080/"
        },
        "outputId": "c4be06ce-ac81-45be-f783-61bb1561d9fc"
      },
      "outputs": [
        {
          "output_type": "stream",
          "name": "stdout",
          "text": [
            "LinearRegression()\n"
          ]
        }
      ],
      "source": [
        "from sklearn.linear_model import LinearRegression\n",
        "\n",
        "\n",
        "# Treinando o modelo\n",
        "model = LinearRegression()\n",
        "model.fit(x_train, y_train)\n",
        "\n",
        "print(model)"
      ]
    },
    {
      "cell_type": "code",
      "execution_count": null,
      "metadata": {
        "id": "-J0Ox7EwVQ5f",
        "colab": {
          "base_uri": "https://localhost:8080/",
          "height": 238
        },
        "outputId": "835f4804-4304-4d82-dd84-8c4abe440611"
      },
      "outputs": [
        {
          "output_type": "execute_result",
          "data": {
            "text/plain": [
              "        Hora Início\n",
              "128012         17.4\n",
              "195960         16.0\n",
              "34794          25.3\n",
              "207890         26.1\n",
              "185292         15.0\n",
              "22096          23.2"
            ],
            "text/html": [
              "\n",
              "  <div id=\"df-dafee851-1734-4242-84b0-c853c7ff7bc7\">\n",
              "    <div class=\"colab-df-container\">\n",
              "      <div>\n",
              "<style scoped>\n",
              "    .dataframe tbody tr th:only-of-type {\n",
              "        vertical-align: middle;\n",
              "    }\n",
              "\n",
              "    .dataframe tbody tr th {\n",
              "        vertical-align: top;\n",
              "    }\n",
              "\n",
              "    .dataframe thead th {\n",
              "        text-align: right;\n",
              "    }\n",
              "</style>\n",
              "<table border=\"1\" class=\"dataframe\">\n",
              "  <thead>\n",
              "    <tr style=\"text-align: right;\">\n",
              "      <th></th>\n",
              "      <th>Hora Início</th>\n",
              "    </tr>\n",
              "  </thead>\n",
              "  <tbody>\n",
              "    <tr>\n",
              "      <th>128012</th>\n",
              "      <td>17.4</td>\n",
              "    </tr>\n",
              "    <tr>\n",
              "      <th>195960</th>\n",
              "      <td>16.0</td>\n",
              "    </tr>\n",
              "    <tr>\n",
              "      <th>34794</th>\n",
              "      <td>25.3</td>\n",
              "    </tr>\n",
              "    <tr>\n",
              "      <th>207890</th>\n",
              "      <td>26.1</td>\n",
              "    </tr>\n",
              "    <tr>\n",
              "      <th>185292</th>\n",
              "      <td>15.0</td>\n",
              "    </tr>\n",
              "    <tr>\n",
              "      <th>22096</th>\n",
              "      <td>23.2</td>\n",
              "    </tr>\n",
              "  </tbody>\n",
              "</table>\n",
              "</div>\n",
              "      <button class=\"colab-df-convert\" onclick=\"convertToInteractive('df-dafee851-1734-4242-84b0-c853c7ff7bc7')\"\n",
              "              title=\"Convert this dataframe to an interactive table.\"\n",
              "              style=\"display:none;\">\n",
              "        \n",
              "  <svg xmlns=\"http://www.w3.org/2000/svg\" height=\"24px\"viewBox=\"0 0 24 24\"\n",
              "       width=\"24px\">\n",
              "    <path d=\"M0 0h24v24H0V0z\" fill=\"none\"/>\n",
              "    <path d=\"M18.56 5.44l.94 2.06.94-2.06 2.06-.94-2.06-.94-.94-2.06-.94 2.06-2.06.94zm-11 1L8.5 8.5l.94-2.06 2.06-.94-2.06-.94L8.5 2.5l-.94 2.06-2.06.94zm10 10l.94 2.06.94-2.06 2.06-.94-2.06-.94-.94-2.06-.94 2.06-2.06.94z\"/><path d=\"M17.41 7.96l-1.37-1.37c-.4-.4-.92-.59-1.43-.59-.52 0-1.04.2-1.43.59L10.3 9.45l-7.72 7.72c-.78.78-.78 2.05 0 2.83L4 21.41c.39.39.9.59 1.41.59.51 0 1.02-.2 1.41-.59l7.78-7.78 2.81-2.81c.8-.78.8-2.07 0-2.86zM5.41 20L4 18.59l7.72-7.72 1.47 1.35L5.41 20z\"/>\n",
              "  </svg>\n",
              "      </button>\n",
              "      \n",
              "  <style>\n",
              "    .colab-df-container {\n",
              "      display:flex;\n",
              "      flex-wrap:wrap;\n",
              "      gap: 12px;\n",
              "    }\n",
              "\n",
              "    .colab-df-convert {\n",
              "      background-color: #E8F0FE;\n",
              "      border: none;\n",
              "      border-radius: 50%;\n",
              "      cursor: pointer;\n",
              "      display: none;\n",
              "      fill: #1967D2;\n",
              "      height: 32px;\n",
              "      padding: 0 0 0 0;\n",
              "      width: 32px;\n",
              "    }\n",
              "\n",
              "    .colab-df-convert:hover {\n",
              "      background-color: #E2EBFA;\n",
              "      box-shadow: 0px 1px 2px rgba(60, 64, 67, 0.3), 0px 1px 3px 1px rgba(60, 64, 67, 0.15);\n",
              "      fill: #174EA6;\n",
              "    }\n",
              "\n",
              "    [theme=dark] .colab-df-convert {\n",
              "      background-color: #3B4455;\n",
              "      fill: #D2E3FC;\n",
              "    }\n",
              "\n",
              "    [theme=dark] .colab-df-convert:hover {\n",
              "      background-color: #434B5C;\n",
              "      box-shadow: 0px 1px 3px 1px rgba(0, 0, 0, 0.15);\n",
              "      filter: drop-shadow(0px 1px 2px rgba(0, 0, 0, 0.3));\n",
              "      fill: #FFFFFF;\n",
              "    }\n",
              "  </style>\n",
              "\n",
              "      <script>\n",
              "        const buttonEl =\n",
              "          document.querySelector('#df-dafee851-1734-4242-84b0-c853c7ff7bc7 button.colab-df-convert');\n",
              "        buttonEl.style.display =\n",
              "          google.colab.kernel.accessAllowed ? 'block' : 'none';\n",
              "\n",
              "        async function convertToInteractive(key) {\n",
              "          const element = document.querySelector('#df-dafee851-1734-4242-84b0-c853c7ff7bc7');\n",
              "          const dataTable =\n",
              "            await google.colab.kernel.invokeFunction('convertToInteractive',\n",
              "                                                     [key], {});\n",
              "          if (!dataTable) return;\n",
              "\n",
              "          const docLinkHtml = 'Like what you see? Visit the ' +\n",
              "            '<a target=\"_blank\" href=https://colab.research.google.com/notebooks/data_table.ipynb>data table notebook</a>'\n",
              "            + ' to learn more about interactive tables.';\n",
              "          element.innerHTML = '';\n",
              "          dataTable['output_type'] = 'display_data';\n",
              "          await google.colab.output.renderOutput(dataTable, element);\n",
              "          const docLink = document.createElement('div');\n",
              "          docLink.innerHTML = docLinkHtml;\n",
              "          element.appendChild(docLink);\n",
              "        }\n",
              "      </script>\n",
              "    </div>\n",
              "  </div>\n",
              "  "
            ]
          },
          "metadata": {},
          "execution_count": 18
        }
      ],
      "source": [
        "x_test.head(6)\n"
      ]
    },
    {
      "cell_type": "code",
      "execution_count": null,
      "metadata": {
        "id": "USJGSpZ8VS6_",
        "colab": {
          "base_uri": "https://localhost:8080/"
        },
        "outputId": "4d04a1f1-0934-4554-f835-7bdd37365c09"
      },
      "outputs": [
        {
          "output_type": "execute_result",
          "data": {
            "text/plain": [
              "array([[9.94148419],\n",
              "       [9.99841912],\n",
              "       [9.62020854],\n",
              "       ...,\n",
              "       [9.44940377],\n",
              "       [9.61410837],\n",
              "       [9.74627874]])"
            ]
          },
          "metadata": {},
          "execution_count": 19
        }
      ],
      "source": [
        "#fazendo as previsões\n",
        "y_pred = model.predict(x_test)\n",
        "y_pred"
      ]
    },
    {
      "cell_type": "code",
      "execution_count": null,
      "metadata": {
        "id": "Kl-0YkA0LetC",
        "colab": {
          "base_uri": "https://localhost:8080/",
          "height": 296
        },
        "outputId": "912c0b4a-0847-43a9-8522-540069479850"
      },
      "outputs": [
        {
          "output_type": "execute_result",
          "data": {
            "text/plain": [
              "<matplotlib.axes._subplots.AxesSubplot at 0x7f4ce1af3110>"
            ]
          },
          "metadata": {},
          "execution_count": 20
        },
        {
          "output_type": "display_data",
          "data": {
            "text/plain": [
              "<Figure size 432x288 with 1 Axes>"
            ],
            "image/png": "[encoded data removed]"
          },
          "metadata": {
            "needs_background": "light"
          }
        }
      ],
      "source": [
        "#reta das previsões feitas:\n",
        "sns.regplot(x = x_test, y = y_pred\n",
        "            )"
      ]
    },
    {
      "cell_type": "markdown",
      "metadata": {
        "id": "OAxXJVMnV5Nw"
      },
      "source": [
        "### **Avaliando o modelo:**"
      ]
    },
    {
      "cell_type": "code",
      "execution_count": null,
      "metadata": {
        "id": "ji4yTkxFVVFg",
        "colab": {
          "base_uri": "https://localhost:8080/"
        },
        "outputId": "98020d3e-4301-432b-e82c-65324eab5828"
      },
      "outputs": [
        {
          "output_type": "stream",
          "name": "stdout",
          "text": [
            "Erro quadrático: 42.45\n",
            "Erro absoluto: 5.23\n",
            "R²: 0.00%\n"
          ]
        }
      ],
      "source": [
        "from sklearn.metrics import mean_squared_error, mean_absolute_error, r2_score\n",
        "\n",
        "#Erro quadrático médio \n",
        "erroQuadratico = mean_squared_error(y_test, y_pred)\n",
        "\n",
        "#Erro absoluto médio\n",
        "erroAbsoluto = mean_absolute_error(y_test, y_pred)\n",
        "\n",
        "#R quadrado \n",
        "rQuadrado = r2_score(y_test, y_pred)\n",
        "\n",
        "print(f\"Erro quadrático: {erroQuadratico:.2f}\")\n",
        "print(f\"Erro absoluto: {erroAbsoluto:.2f}\")\n",
        "print(f\"R²: {rQuadrado:.2f}%\")"
      ]
    },
    {
      "cell_type": "code",
      "execution_count": null,
      "metadata": {
        "id": "PaQCvYwX1zzj",
        "colab": {
          "base_uri": "https://localhost:8080/",
          "height": 296
        },
        "outputId": "7f2263c2-8897-4b86-fc69-0cc95863153c"
      },
      "outputs": [
        {
          "output_type": "display_data",
          "data": {
            "text/plain": [
              "<Figure size 432x288 with 1 Axes>"
            ],
            "image/png": "[encoded data removed]"
          },
          "metadata": {
            "needs_background": "light"
          }
        }
      ],
      "source": [
        "graph_regressor = sns.regplot(x=y_test, y=y_pred, \n",
        "                 scatter_kws={\"color\": \"purple\"}, line_kws={\"color\": \"springgreen\"}).set_title(\"Regressão Linear \")\n",
        "\n",
        "plt.show()"
      ]
    },
    {
      "cell_type": "markdown",
      "metadata": {
        "id": "OYv9l7RFn26u"
      },
      "source": [
        "## REGRESSÃO LINEAR TV 1\n",
        "HORA INÍCIO X RAT"
      ]
    },
    {
      "cell_type": "markdown",
      "metadata": {
        "id": "naJRbegnoSBB"
      },
      "source": [
        "### Importando dataset e definindo x e y "
      ]
    },
    {
      "cell_type": "code",
      "execution_count": null,
      "metadata": {
        "id": "uOPGxz_8obdG",
        "colab": {
          "base_uri": "https://localhost:8080/"
        },
        "outputId": "ab391a95-8be6-46de-817e-af3e83da3ec6"
      },
      "outputs": [
        {
          "output_type": "stream",
          "name": "stdout",
          "text": [
            "Drive already mounted at /content/drive; to attempt to forcibly remount, call drive.mount(\"/content/drive\", force_remount=True).\n"
          ]
        }
      ],
      "source": [
        "#importando arquivos do drive\n",
        "from google.colab import drive, files\n",
        "drive.mount('/content/drive')"
      ]
    },
    {
      "cell_type": "code",
      "execution_count": null,
      "metadata": {
        "id": "-c1RW5xdobdH"
      },
      "outputs": [],
      "source": [
        "#importando pandas e lendo o dataset\n",
        "import pandas as pd\n",
        "tv_1_ukn = pd.read_csv('/content/tv_1_ukn_5_min.csv')"
      ]
    },
    {
      "cell_type": "code",
      "execution_count": null,
      "metadata": {
        "id": "ojjojO4gobdH",
        "colab": {
          "base_uri": "https://localhost:8080/",
          "height": 296
        },
        "outputId": "b4053283-9a96-443d-d4d4-30a088d1566e"
      },
      "outputs": [
        {
          "output_type": "execute_result",
          "data": {
            "text/plain": [
              "<matplotlib.axes._subplots.AxesSubplot at 0x7f4cdf0fb810>"
            ]
          },
          "metadata": {},
          "execution_count": 25
        },
        {
          "output_type": "display_data",
          "data": {
            "text/plain": [
              "<Figure size 432x288 with 1 Axes>"
            ],
            "image/png": "[encoded data removed]"
          },
          "metadata": {
            "needs_background": "light"
          }
        }
      ],
      "source": [
        "#importando as bibliotecas:\n",
        "import seaborn as sns\n",
        "import matplotlib.pyplot as plt\n",
        "\n",
        "#plotagem do gráfico da relação hora início x Rat\n",
        "sns.scatterplot(data = tv_1_ukn, x= 'Hora Início', y= 'Total Domicílios | Rat%')\n"
      ]
    },
    {
      "cell_type": "code",
      "execution_count": null,
      "metadata": {
        "id": "XSJDgyfJobdH"
      },
      "outputs": [],
      "source": [
        "from sklearn.model_selection import train_test_split\n",
        "\n",
        "# Dividindo x e y - Sendo x: Hora Inicio e y: o Rat de Total de Domicilios \n",
        "x = tv_1_ukn[['Hora Início']]\n",
        "y = tv_1_ukn[['Total Domicílios | Rat%']]\n",
        "\n",
        "# Dividindo dados para treino e dados para teste\n",
        "x_train, x_test, y_train, y_test = train_test_split(x, y, \n",
        "                                                    test_size = 0.3, \n",
        "                                                    random_state = 42)\n"
      ]
    },
    {
      "cell_type": "code",
      "execution_count": null,
      "metadata": {
        "id": "erWuol0xVMwW",
        "colab": {
          "base_uri": "https://localhost:8080/",
          "height": 424
        },
        "outputId": "ba52bea7-f93a-4809-eac8-f9dd3259020d"
      },
      "outputs": [
        {
          "output_type": "execute_result",
          "data": {
            "text/plain": [
              "        Total Domicílios | Rat%\n",
              "128012                     5.14\n",
              "195960                     3.52\n",
              "34794                      2.35\n",
              "207890                     0.43\n",
              "185292                     6.75\n",
              "...                         ...\n",
              "105378                     1.27\n",
              "126030                     4.31\n",
              "176542                     1.31\n",
              "8013                       1.48\n",
              "159460                     5.01\n",
              "\n",
              "[65664 rows x 1 columns]"
            ],
            "text/html": [
              "\n",
              "  <div id=\"df-5ab95ea6-8fa9-4d56-96ec-83c36ce700b1\">\n",
              "    <div class=\"colab-df-container\">\n",
              "      <div>\n",
              "<style scoped>\n",
              "    .dataframe tbody tr th:only-of-type {\n",
              "        vertical-align: middle;\n",
              "    }\n",
              "\n",
              "    .dataframe tbody tr th {\n",
              "        vertical-align: top;\n",
              "    }\n",
              "\n",
              "    .dataframe thead th {\n",
              "        text-align: right;\n",
              "    }\n",
              "</style>\n",
              "<table border=\"1\" class=\"dataframe\">\n",
              "  <thead>\n",
              "    <tr style=\"text-align: right;\">\n",
              "      <th></th>\n",
              "      <th>Total Domicílios | Rat%</th>\n",
              "    </tr>\n",
              "  </thead>\n",
              "  <tbody>\n",
              "    <tr>\n",
              "      <th>128012</th>\n",
              "      <td>5.14</td>\n",
              "    </tr>\n",
              "    <tr>\n",
              "      <th>195960</th>\n",
              "      <td>3.52</td>\n",
              "    </tr>\n",
              "    <tr>\n",
              "      <th>34794</th>\n",
              "      <td>2.35</td>\n",
              "    </tr>\n",
              "    <tr>\n",
              "      <th>207890</th>\n",
              "      <td>0.43</td>\n",
              "    </tr>\n",
              "    <tr>\n",
              "      <th>185292</th>\n",
              "      <td>6.75</td>\n",
              "    </tr>\n",
              "    <tr>\n",
              "      <th>...</th>\n",
              "      <td>...</td>\n",
              "    </tr>\n",
              "    <tr>\n",
              "      <th>105378</th>\n",
              "      <td>1.27</td>\n",
              "    </tr>\n",
              "    <tr>\n",
              "      <th>126030</th>\n",
              "      <td>4.31</td>\n",
              "    </tr>\n",
              "    <tr>\n",
              "      <th>176542</th>\n",
              "      <td>1.31</td>\n",
              "    </tr>\n",
              "    <tr>\n",
              "      <th>8013</th>\n",
              "      <td>1.48</td>\n",
              "    </tr>\n",
              "    <tr>\n",
              "      <th>159460</th>\n",
              "      <td>5.01</td>\n",
              "    </tr>\n",
              "  </tbody>\n",
              "</table>\n",
              "<p>65664 rows × 1 columns</p>\n",
              "</div>\n",
              "      <button class=\"colab-df-convert\" onclick=\"convertToInteractive('df-5ab95ea6-8fa9-4d56-96ec-83c36ce700b1')\"\n",
              "              title=\"Convert this dataframe to an interactive table.\"\n",
              "              style=\"display:none;\">\n",
              "        \n",
              "  <svg xmlns=\"http://www.w3.org/2000/svg\" height=\"24px\"viewBox=\"0 0 24 24\"\n",
              "       width=\"24px\">\n",
              "    <path d=\"M0 0h24v24H0V0z\" fill=\"none\"/>\n",
              "    <path d=\"M18.56 5.44l.94 2.06.94-2.06 2.06-.94-2.06-.94-.94-2.06-.94 2.06-2.06.94zm-11 1L8.5 8.5l.94-2.06 2.06-.94-2.06-.94L8.5 2.5l-.94 2.06-2.06.94zm10 10l.94 2.06.94-2.06 2.06-.94-2.06-.94-.94-2.06-.94 2.06-2.06.94z\"/><path d=\"M17.41 7.96l-1.37-1.37c-.4-.4-.92-.59-1.43-.59-.52 0-1.04.2-1.43.59L10.3 9.45l-7.72 7.72c-.78.78-.78 2.05 0 2.83L4 21.41c.39.39.9.59 1.41.59.51 0 1.02-.2 1.41-.59l7.78-7.78 2.81-2.81c.8-.78.8-2.07 0-2.86zM5.41 20L4 18.59l7.72-7.72 1.47 1.35L5.41 20z\"/>\n",
              "  </svg>\n",
              "      </button>\n",
              "      \n",
              "  <style>\n",
              "    .colab-df-container {\n",
              "      display:flex;\n",
              "      flex-wrap:wrap;\n",
              "      gap: 12px;\n",
              "    }\n",
              "\n",
              "    .colab-df-convert {\n",
              "      background-color: #E8F0FE;\n",
              "      border: none;\n",
              "      border-radius: 50%;\n",
              "      cursor: pointer;\n",
              "      display: none;\n",
              "      fill: #1967D2;\n",
              "      height: 32px;\n",
              "      padding: 0 0 0 0;\n",
              "      width: 32px;\n",
              "    }\n",
              "\n",
              "    .colab-df-convert:hover {\n",
              "      background-color: #E2EBFA;\n",
              "      box-shadow: 0px 1px 2px rgba(60, 64, 67, 0.3), 0px 1px 3px 1px rgba(60, 64, 67, 0.15);\n",
              "      fill: #174EA6;\n",
              "    }\n",
              "\n",
              "    [theme=dark] .colab-df-convert {\n",
              "      background-color: #3B4455;\n",
              "      fill: #D2E3FC;\n",
              "    }\n",
              "\n",
              "    [theme=dark] .colab-df-convert:hover {\n",
              "      background-color: #434B5C;\n",
              "      box-shadow: 0px 1px 3px 1px rgba(0, 0, 0, 0.15);\n",
              "      filter: drop-shadow(0px 1px 2px rgba(0, 0, 0, 0.3));\n",
              "      fill: #FFFFFF;\n",
              "    }\n",
              "  </style>\n",
              "\n",
              "      <script>\n",
              "        const buttonEl =\n",
              "          document.querySelector('#df-5ab95ea6-8fa9-4d56-96ec-83c36ce700b1 button.colab-df-convert');\n",
              "        buttonEl.style.display =\n",
              "          google.colab.kernel.accessAllowed ? 'block' : 'none';\n",
              "\n",
              "        async function convertToInteractive(key) {\n",
              "          const element = document.querySelector('#df-5ab95ea6-8fa9-4d56-96ec-83c36ce700b1');\n",
              "          const dataTable =\n",
              "            await google.colab.kernel.invokeFunction('convertToInteractive',\n",
              "                                                     [key], {});\n",
              "          if (!dataTable) return;\n",
              "\n",
              "          const docLinkHtml = 'Like what you see? Visit the ' +\n",
              "            '<a target=\"_blank\" href=https://colab.research.google.com/notebooks/data_table.ipynb>data table notebook</a>'\n",
              "            + ' to learn more about interactive tables.';\n",
              "          element.innerHTML = '';\n",
              "          dataTable['output_type'] = 'display_data';\n",
              "          await google.colab.output.renderOutput(dataTable, element);\n",
              "          const docLink = document.createElement('div');\n",
              "          docLink.innerHTML = docLinkHtml;\n",
              "          element.appendChild(docLink);\n",
              "        }\n",
              "      </script>\n",
              "    </div>\n",
              "  </div>\n",
              "  "
            ]
          },
          "metadata": {},
          "execution_count": 27
        }
      ],
      "source": [
        "x_train\n",
        "y_train\n",
        "x_test\n",
        "y_test"
      ]
    },
    {
      "cell_type": "markdown",
      "metadata": {
        "id": "-SND8qr5odGu"
      },
      "source": [
        "### **Treinando o modelo:**"
      ]
    },
    {
      "cell_type": "code",
      "execution_count": null,
      "metadata": {
        "id": "wlRXz7QDobdI",
        "colab": {
          "base_uri": "https://localhost:8080/"
        },
        "outputId": "3b0c4e36-1f0f-4ed8-90e7-038bb4863caa"
      },
      "outputs": [
        {
          "output_type": "execute_result",
          "data": {
            "text/plain": [
              "LinearRegression()"
            ]
          },
          "metadata": {},
          "execution_count": 28
        }
      ],
      "source": [
        "from sklearn.linear_model import LinearRegression\n",
        "\n",
        "# Treinando o modelo\n",
        "model = LinearRegression()\n",
        "model.fit(x_train, y_train)"
      ]
    },
    {
      "cell_type": "code",
      "execution_count": null,
      "metadata": {
        "id": "5X8FxOrQobdI",
        "colab": {
          "base_uri": "https://localhost:8080/",
          "height": 238
        },
        "outputId": "bbb7c0a9-451b-4c3f-aa30-78f9f6b2075a"
      },
      "outputs": [
        {
          "output_type": "execute_result",
          "data": {
            "text/plain": [
              "        Hora Início\n",
              "128012         17.4\n",
              "195960         16.0\n",
              "34794          25.3\n",
              "207890         26.1\n",
              "185292         15.0\n",
              "22096          23.2"
            ],
            "text/html": [
              "\n",
              "  <div id=\"df-4c9f5938-9e3f-497a-9b38-91d003392587\">\n",
              "    <div class=\"colab-df-container\">\n",
              "      <div>\n",
              "<style scoped>\n",
              "    .dataframe tbody tr th:only-of-type {\n",
              "        vertical-align: middle;\n",
              "    }\n",
              "\n",
              "    .dataframe tbody tr th {\n",
              "        vertical-align: top;\n",
              "    }\n",
              "\n",
              "    .dataframe thead th {\n",
              "        text-align: right;\n",
              "    }\n",
              "</style>\n",
              "<table border=\"1\" class=\"dataframe\">\n",
              "  <thead>\n",
              "    <tr style=\"text-align: right;\">\n",
              "      <th></th>\n",
              "      <th>Hora Início</th>\n",
              "    </tr>\n",
              "  </thead>\n",
              "  <tbody>\n",
              "    <tr>\n",
              "      <th>128012</th>\n",
              "      <td>17.4</td>\n",
              "    </tr>\n",
              "    <tr>\n",
              "      <th>195960</th>\n",
              "      <td>16.0</td>\n",
              "    </tr>\n",
              "    <tr>\n",
              "      <th>34794</th>\n",
              "      <td>25.3</td>\n",
              "    </tr>\n",
              "    <tr>\n",
              "      <th>207890</th>\n",
              "      <td>26.1</td>\n",
              "    </tr>\n",
              "    <tr>\n",
              "      <th>185292</th>\n",
              "      <td>15.0</td>\n",
              "    </tr>\n",
              "    <tr>\n",
              "      <th>22096</th>\n",
              "      <td>23.2</td>\n",
              "    </tr>\n",
              "  </tbody>\n",
              "</table>\n",
              "</div>\n",
              "      <button class=\"colab-df-convert\" onclick=\"convertToInteractive('df-4c9f5938-9e3f-497a-9b38-91d003392587')\"\n",
              "              title=\"Convert this dataframe to an interactive table.\"\n",
              "              style=\"display:none;\">\n",
              "        \n",
              "  <svg xmlns=\"http://www.w3.org/2000/svg\" height=\"24px\"viewBox=\"0 0 24 24\"\n",
              "       width=\"24px\">\n",
              "    <path d=\"M0 0h24v24H0V0z\" fill=\"none\"/>\n",
              "    <path d=\"M18.56 5.44l.94 2.06.94-2.06 2.06-.94-2.06-.94-.94-2.06-.94 2.06-2.06.94zm-11 1L8.5 8.5l.94-2.06 2.06-.94-2.06-.94L8.5 2.5l-.94 2.06-2.06.94zm10 10l.94 2.06.94-2.06 2.06-.94-2.06-.94-.94-2.06-.94 2.06-2.06.94z\"/><path d=\"M17.41 7.96l-1.37-1.37c-.4-.4-.92-.59-1.43-.59-.52 0-1.04.2-1.43.59L10.3 9.45l-7.72 7.72c-.78.78-.78 2.05 0 2.83L4 21.41c.39.39.9.59 1.41.59.51 0 1.02-.2 1.41-.59l7.78-7.78 2.81-2.81c.8-.78.8-2.07 0-2.86zM5.41 20L4 18.59l7.72-7.72 1.47 1.35L5.41 20z\"/>\n",
              "  </svg>\n",
              "      </button>\n",
              "      \n",
              "  <style>\n",
              "    .colab-df-container {\n",
              "      display:flex;\n",
              "      flex-wrap:wrap;\n",
              "      gap: 12px;\n",
              "    }\n",
              "\n",
              "    .colab-df-convert {\n",
              "      background-color: #E8F0FE;\n",
              "      border: none;\n",
              "      border-radius: 50%;\n",
              "      cursor: pointer;\n",
              "      display: none;\n",
              "      fill: #1967D2;\n",
              "      height: 32px;\n",
              "      padding: 0 0 0 0;\n",
              "      width: 32px;\n",
              "    }\n",
              "\n",
              "    .colab-df-convert:hover {\n",
              "      background-color: #E2EBFA;\n",
              "      box-shadow: 0px 1px 2px rgba(60, 64, 67, 0.3), 0px 1px 3px 1px rgba(60, 64, 67, 0.15);\n",
              "      fill: #174EA6;\n",
              "    }\n",
              "\n",
              "    [theme=dark] .colab-df-convert {\n",
              "      background-color: #3B4455;\n",
              "      fill: #D2E3FC;\n",
              "    }\n",
              "\n",
              "    [theme=dark] .colab-df-convert:hover {\n",
              "      background-color: #434B5C;\n",
              "      box-shadow: 0px 1px 3px 1px rgba(0, 0, 0, 0.15);\n",
              "      filter: drop-shadow(0px 1px 2px rgba(0, 0, 0, 0.3));\n",
              "      fill: #FFFFFF;\n",
              "    }\n",
              "  </style>\n",
              "\n",
              "      <script>\n",
              "        const buttonEl =\n",
              "          document.querySelector('#df-4c9f5938-9e3f-497a-9b38-91d003392587 button.colab-df-convert');\n",
              "        buttonEl.style.display =\n",
              "          google.colab.kernel.accessAllowed ? 'block' : 'none';\n",
              "\n",
              "        async function convertToInteractive(key) {\n",
              "          const element = document.querySelector('#df-4c9f5938-9e3f-497a-9b38-91d003392587');\n",
              "          const dataTable =\n",
              "            await google.colab.kernel.invokeFunction('convertToInteractive',\n",
              "                                                     [key], {});\n",
              "          if (!dataTable) return;\n",
              "\n",
              "          const docLinkHtml = 'Like what you see? Visit the ' +\n",
              "            '<a target=\"_blank\" href=https://colab.research.google.com/notebooks/data_table.ipynb>data table notebook</a>'\n",
              "            + ' to learn more about interactive tables.';\n",
              "          element.innerHTML = '';\n",
              "          dataTable['output_type'] = 'display_data';\n",
              "          await google.colab.output.renderOutput(dataTable, element);\n",
              "          const docLink = document.createElement('div');\n",
              "          docLink.innerHTML = docLinkHtml;\n",
              "          element.appendChild(docLink);\n",
              "        }\n",
              "      </script>\n",
              "    </div>\n",
              "  </div>\n",
              "  "
            ]
          },
          "metadata": {},
          "execution_count": 29
        }
      ],
      "source": [
        "x_test.head(6)\n"
      ]
    },
    {
      "cell_type": "code",
      "execution_count": null,
      "metadata": {
        "id": "U8dnLfayobdI",
        "colab": {
          "base_uri": "https://localhost:8080/"
        },
        "outputId": "5c2d6132-ff8f-464e-f3c3-1015efae0bf6"
      },
      "outputs": [
        {
          "output_type": "execute_result",
          "data": {
            "text/plain": [
              "array([[3.44679026],\n",
              "       [3.42843939],\n",
              "       [3.5503416 ],\n",
              "       ...,\n",
              "       [3.60539421],\n",
              "       [3.55230777],\n",
              "       [3.50970753]])"
            ]
          },
          "metadata": {},
          "execution_count": 30
        }
      ],
      "source": [
        "#fazendo as previsões\n",
        "y_pred = model.predict(x_test)\n",
        "y_pred"
      ]
    },
    {
      "cell_type": "code",
      "execution_count": null,
      "metadata": {
        "id": "CPhDjC_0o_Z3",
        "colab": {
          "base_uri": "https://localhost:8080/",
          "height": 296
        },
        "outputId": "88fa860d-bff1-466a-c5ab-0565dd257902"
      },
      "outputs": [
        {
          "output_type": "execute_result",
          "data": {
            "text/plain": [
              "<matplotlib.axes._subplots.AxesSubplot at 0x7f4cdef10790>"
            ]
          },
          "metadata": {},
          "execution_count": 31
        },
        {
          "output_type": "display_data",
          "data": {
            "text/plain": [
              "<Figure size 432x288 with 1 Axes>"
            ],
            "image/png": "[encoded data removed]"
          },
          "metadata": {
            "needs_background": "light"
          }
        }
      ],
      "source": [
        "#reta das previsões feitas:\n",
        "sns.regplot(x = x_test, y = y_pred)"
      ]
    },
    {
      "cell_type": "markdown",
      "metadata": {
        "id": "Yj_gBRvxpaWm"
      },
      "source": [
        "### **Avaliando o modelo:**"
      ]
    },
    {
      "cell_type": "code",
      "execution_count": null,
      "metadata": {
        "id": "eA-mzTIgobdJ",
        "colab": {
          "base_uri": "https://localhost:8080/"
        },
        "outputId": "f7e15d8b-566c-47e1-b847-2e8eca49d4bd"
      },
      "outputs": [
        {
          "output_type": "stream",
          "name": "stdout",
          "text": [
            "Erro quadrático: 6.13\n",
            "Erro absoluto: 1.92\n",
            "O valor de R quadrado é: 0.17%\n"
          ]
        }
      ],
      "source": [
        "from sklearn.metrics import mean_squared_error, mean_absolute_error, r2_score\n",
        "\n",
        "#Erro quadrático médio \n",
        "erroQuadratico1 = mean_squared_error(y_test, y_pred)\n",
        "\n",
        "#Erro absoluto médio\n",
        "erroAbsoluto1 = mean_absolute_error(y_test, y_pred)\n",
        "\n",
        "#R quadrado \n",
        "rQuadrado1 = r2_score(y_test, y_pred)\n",
        "\n",
        "print(f\"Erro quadrático: {erroQuadratico1:.2f}\")\n",
        "print(f\"Erro absoluto: {erroAbsoluto1:.2f}\")\n",
        "print(f\"O valor de R quadrado é: {rQuadrado1 * 100:.2f}%\")"
      ]
    },
    {
      "cell_type": "markdown",
      "metadata": {
        "id": "UNVqs0GMrR90"
      },
      "source": [
        "## REGRESSÃO LINEAR TV 2\n",
        " HORA INÍCIO X RAT"
      ]
    },
    {
      "cell_type": "markdown",
      "metadata": {
        "id": "yEszGPuLoxC1"
      },
      "source": [
        "### Importando dataset e definindo x e y"
      ]
    },
    {
      "cell_type": "code",
      "execution_count": null,
      "metadata": {
        "id": "2ctVtTGgYR8r",
        "colab": {
          "base_uri": "https://localhost:8080/"
        },
        "outputId": "46b2ae9e-c1bd-4386-8788-bbd49697ba81"
      },
      "outputs": [
        {
          "output_type": "stream",
          "name": "stdout",
          "text": [
            "Drive already mounted at /content/drive; to attempt to forcibly remount, call drive.mount(\"/content/drive\", force_remount=True).\n"
          ]
        }
      ],
      "source": [
        "#importando arquivos do drive\n",
        "from google.colab import drive, files\n",
        "drive.mount('/content/drive')"
      ]
    },
    {
      "cell_type": "code",
      "execution_count": null,
      "metadata": {
        "id": "Izy3WHVRYm2J"
      },
      "outputs": [],
      "source": [
        "#importando pandas e lendo o dataset\n",
        "import pandas as pd\n",
        "tv_2_ukn = pd.read_csv('/content/tv_2_ukn_5_min.csv')"
      ]
    },
    {
      "cell_type": "code",
      "execution_count": null,
      "metadata": {
        "id": "bG-OgCFAYz_Q",
        "colab": {
          "base_uri": "https://localhost:8080/",
          "height": 296
        },
        "outputId": "1247537f-974a-4d31-b0ce-3b2517f72100"
      },
      "outputs": [
        {
          "output_type": "execute_result",
          "data": {
            "text/plain": [
              "<matplotlib.axes._subplots.AxesSubplot at 0x7f4cdebedc90>"
            ]
          },
          "metadata": {},
          "execution_count": 35
        },
        {
          "output_type": "display_data",
          "data": {
            "text/plain": [
              "<Figure size 432x288 with 1 Axes>"
            ],
            "image/png": "[encoded data removed]"
          },
          "metadata": {
            "needs_background": "light"
          }
        }
      ],
      "source": [
        "#importando as bibliotecas:\n",
        "import seaborn as sns\n",
        "import matplotlib.pyplot as plt\n",
        "\n",
        "#plotagem do gráfico da relação hora início x Rat\n",
        "sns.scatterplot(data = tv_2_ukn, x = 'Hora Início', y = 'Total Domicílios | Rat%')"
      ]
    },
    {
      "cell_type": "code",
      "execution_count": null,
      "metadata": {
        "id": "w1nVfnlLZdLF"
      },
      "outputs": [],
      "source": [
        "from sklearn.model_selection import train_test_split\n",
        "\n",
        "#Dividindo x e y\n",
        "x= tv_2_ukn[['Hora Início']]\n",
        "y= tv_2_ukn[['Total Domicílios | Rat%']]\n",
        "\n",
        "# Divindo dados para trino e dados para teste\n",
        "x_train, x_test, y_train, y_test = train_test_split(x, y, \n",
        "                                                   test_size = 0.3,\n",
        "                                                   random_state = 42)"
      ]
    },
    {
      "cell_type": "code",
      "execution_count": null,
      "metadata": {
        "id": "jXj7IophZtHA",
        "colab": {
          "base_uri": "https://localhost:8080/",
          "height": 424
        },
        "outputId": "fc2dda81-479a-4aa3-b629-f36f4f218f61"
      },
      "outputs": [
        {
          "output_type": "execute_result",
          "data": {
            "text/plain": [
              "        Total Domicílios | Rat%\n",
              "128012                     4.18\n",
              "195960                     5.40\n",
              "34794                      0.00\n",
              "207890                     0.72\n",
              "185292                     7.24\n",
              "...                         ...\n",
              "105378                     0.00\n",
              "126030                     8.52\n",
              "176542                     0.00\n",
              "8013                       0.95\n",
              "159460                     5.89\n",
              "\n",
              "[65664 rows x 1 columns]"
            ],
            "text/html": [
              "\n",
              "  <div id=\"df-00691170-16ef-4e9c-bd45-115e327fe956\">\n",
              "    <div class=\"colab-df-container\">\n",
              "      <div>\n",
              "<style scoped>\n",
              "    .dataframe tbody tr th:only-of-type {\n",
              "        vertical-align: middle;\n",
              "    }\n",
              "\n",
              "    .dataframe tbody tr th {\n",
              "        vertical-align: top;\n",
              "    }\n",
              "\n",
              "    .dataframe thead th {\n",
              "        text-align: right;\n",
              "    }\n",
              "</style>\n",
              "<table border=\"1\" class=\"dataframe\">\n",
              "  <thead>\n",
              "    <tr style=\"text-align: right;\">\n",
              "      <th></th>\n",
              "      <th>Total Domicílios | Rat%</th>\n",
              "    </tr>\n",
              "  </thead>\n",
              "  <tbody>\n",
              "    <tr>\n",
              "      <th>128012</th>\n",
              "      <td>4.18</td>\n",
              "    </tr>\n",
              "    <tr>\n",
              "      <th>195960</th>\n",
              "      <td>5.40</td>\n",
              "    </tr>\n",
              "    <tr>\n",
              "      <th>34794</th>\n",
              "      <td>0.00</td>\n",
              "    </tr>\n",
              "    <tr>\n",
              "      <th>207890</th>\n",
              "      <td>0.72</td>\n",
              "    </tr>\n",
              "    <tr>\n",
              "      <th>185292</th>\n",
              "      <td>7.24</td>\n",
              "    </tr>\n",
              "    <tr>\n",
              "      <th>...</th>\n",
              "      <td>...</td>\n",
              "    </tr>\n",
              "    <tr>\n",
              "      <th>105378</th>\n",
              "      <td>0.00</td>\n",
              "    </tr>\n",
              "    <tr>\n",
              "      <th>126030</th>\n",
              "      <td>8.52</td>\n",
              "    </tr>\n",
              "    <tr>\n",
              "      <th>176542</th>\n",
              "      <td>0.00</td>\n",
              "    </tr>\n",
              "    <tr>\n",
              "      <th>8013</th>\n",
              "      <td>0.95</td>\n",
              "    </tr>\n",
              "    <tr>\n",
              "      <th>159460</th>\n",
              "      <td>5.89</td>\n",
              "    </tr>\n",
              "  </tbody>\n",
              "</table>\n",
              "<p>65664 rows × 1 columns</p>\n",
              "</div>\n",
              "      <button class=\"colab-df-convert\" onclick=\"convertToInteractive('df-00691170-16ef-4e9c-bd45-115e327fe956')\"\n",
              "              title=\"Convert this dataframe to an interactive table.\"\n",
              "              style=\"display:none;\">\n",
              "        \n",
              "  <svg xmlns=\"http://www.w3.org/2000/svg\" height=\"24px\"viewBox=\"0 0 24 24\"\n",
              "       width=\"24px\">\n",
              "    <path d=\"M0 0h24v24H0V0z\" fill=\"none\"/>\n",
              "    <path d=\"M18.56 5.44l.94 2.06.94-2.06 2.06-.94-2.06-.94-.94-2.06-.94 2.06-2.06.94zm-11 1L8.5 8.5l.94-2.06 2.06-.94-2.06-.94L8.5 2.5l-.94 2.06-2.06.94zm10 10l.94 2.06.94-2.06 2.06-.94-2.06-.94-.94-2.06-.94 2.06-2.06.94z\"/><path d=\"M17.41 7.96l-1.37-1.37c-.4-.4-.92-.59-1.43-.59-.52 0-1.04.2-1.43.59L10.3 9.45l-7.72 7.72c-.78.78-.78 2.05 0 2.83L4 21.41c.39.39.9.59 1.41.59.51 0 1.02-.2 1.41-.59l7.78-7.78 2.81-2.81c.8-.78.8-2.07 0-2.86zM5.41 20L4 18.59l7.72-7.72 1.47 1.35L5.41 20z\"/>\n",
              "  </svg>\n",
              "      </button>\n",
              "      \n",
              "  <style>\n",
              "    .colab-df-container {\n",
              "      display:flex;\n",
              "      flex-wrap:wrap;\n",
              "      gap: 12px;\n",
              "    }\n",
              "\n",
              "    .colab-df-convert {\n",
              "      background-color: #E8F0FE;\n",
              "      border: none;\n",
              "      border-radius: 50%;\n",
              "      cursor: pointer;\n",
              "      display: none;\n",
              "      fill: #1967D2;\n",
              "      height: 32px;\n",
              "      padding: 0 0 0 0;\n",
              "      width: 32px;\n",
              "    }\n",
              "\n",
              "    .colab-df-convert:hover {\n",
              "      background-color: #E2EBFA;\n",
              "      box-shadow: 0px 1px 2px rgba(60, 64, 67, 0.3), 0px 1px 3px 1px rgba(60, 64, 67, 0.15);\n",
              "      fill: #174EA6;\n",
              "    }\n",
              "\n",
              "    [theme=dark] .colab-df-convert {\n",
              "      background-color: #3B4455;\n",
              "      fill: #D2E3FC;\n",
              "    }\n",
              "\n",
              "    [theme=dark] .colab-df-convert:hover {\n",
              "      background-color: #434B5C;\n",
              "      box-shadow: 0px 1px 3px 1px rgba(0, 0, 0, 0.15);\n",
              "      filter: drop-shadow(0px 1px 2px rgba(0, 0, 0, 0.3));\n",
              "      fill: #FFFFFF;\n",
              "    }\n",
              "  </style>\n",
              "\n",
              "      <script>\n",
              "        const buttonEl =\n",
              "          document.querySelector('#df-00691170-16ef-4e9c-bd45-115e327fe956 button.colab-df-convert');\n",
              "        buttonEl.style.display =\n",
              "          google.colab.kernel.accessAllowed ? 'block' : 'none';\n",
              "\n",
              "        async function convertToInteractive(key) {\n",
              "          const element = document.querySelector('#df-00691170-16ef-4e9c-bd45-115e327fe956');\n",
              "          const dataTable =\n",
              "            await google.colab.kernel.invokeFunction('convertToInteractive',\n",
              "                                                     [key], {});\n",
              "          if (!dataTable) return;\n",
              "\n",
              "          const docLinkHtml = 'Like what you see? Visit the ' +\n",
              "            '<a target=\"_blank\" href=https://colab.research.google.com/notebooks/data_table.ipynb>data table notebook</a>'\n",
              "            + ' to learn more about interactive tables.';\n",
              "          element.innerHTML = '';\n",
              "          dataTable['output_type'] = 'display_data';\n",
              "          await google.colab.output.renderOutput(dataTable, element);\n",
              "          const docLink = document.createElement('div');\n",
              "          docLink.innerHTML = docLinkHtml;\n",
              "          element.appendChild(docLink);\n",
              "        }\n",
              "      </script>\n",
              "    </div>\n",
              "  </div>\n",
              "  "
            ]
          },
          "metadata": {},
          "execution_count": 37
        }
      ],
      "source": [
        "x_train\n",
        "y_train\n",
        "x_test\n",
        "y_test"
      ]
    },
    {
      "cell_type": "markdown",
      "metadata": {
        "id": "dmLP6eBfryRS"
      },
      "source": [
        "### **Treinando o modelo:**\n"
      ]
    },
    {
      "cell_type": "code",
      "execution_count": null,
      "metadata": {
        "id": "KvNng6FbaJto",
        "colab": {
          "base_uri": "https://localhost:8080/"
        },
        "outputId": "526004d5-ef73-43ba-9a44-4bc077b2cb4e"
      },
      "outputs": [
        {
          "output_type": "stream",
          "name": "stdout",
          "text": [
            "LinearRegression()\n"
          ]
        }
      ],
      "source": [
        "from sklearn.linear_model import LinearRegression\n",
        "#Treinando o modelo\n",
        "model = LinearRegression()\n",
        "model.fit(x_train, y_train)\n",
        "\n",
        "print(model)\n"
      ]
    },
    {
      "cell_type": "code",
      "execution_count": null,
      "metadata": {
        "id": "PyWl-1nXaaki",
        "colab": {
          "base_uri": "https://localhost:8080/",
          "height": 238
        },
        "outputId": "947a0e44-a54b-4361-9029-c0f13de2e280"
      },
      "outputs": [
        {
          "output_type": "execute_result",
          "data": {
            "text/plain": [
              "        Hora Início\n",
              "128012         17.4\n",
              "195960         16.0\n",
              "34794          25.3\n",
              "207890         26.1\n",
              "185292         15.0\n",
              "22096          23.2"
            ],
            "text/html": [
              "\n",
              "  <div id=\"df-63c8d9c5-fb0b-4038-80ca-931d1db47e07\">\n",
              "    <div class=\"colab-df-container\">\n",
              "      <div>\n",
              "<style scoped>\n",
              "    .dataframe tbody tr th:only-of-type {\n",
              "        vertical-align: middle;\n",
              "    }\n",
              "\n",
              "    .dataframe tbody tr th {\n",
              "        vertical-align: top;\n",
              "    }\n",
              "\n",
              "    .dataframe thead th {\n",
              "        text-align: right;\n",
              "    }\n",
              "</style>\n",
              "<table border=\"1\" class=\"dataframe\">\n",
              "  <thead>\n",
              "    <tr style=\"text-align: right;\">\n",
              "      <th></th>\n",
              "      <th>Hora Início</th>\n",
              "    </tr>\n",
              "  </thead>\n",
              "  <tbody>\n",
              "    <tr>\n",
              "      <th>128012</th>\n",
              "      <td>17.4</td>\n",
              "    </tr>\n",
              "    <tr>\n",
              "      <th>195960</th>\n",
              "      <td>16.0</td>\n",
              "    </tr>\n",
              "    <tr>\n",
              "      <th>34794</th>\n",
              "      <td>25.3</td>\n",
              "    </tr>\n",
              "    <tr>\n",
              "      <th>207890</th>\n",
              "      <td>26.1</td>\n",
              "    </tr>\n",
              "    <tr>\n",
              "      <th>185292</th>\n",
              "      <td>15.0</td>\n",
              "    </tr>\n",
              "    <tr>\n",
              "      <th>22096</th>\n",
              "      <td>23.2</td>\n",
              "    </tr>\n",
              "  </tbody>\n",
              "</table>\n",
              "</div>\n",
              "      <button class=\"colab-df-convert\" onclick=\"convertToInteractive('df-63c8d9c5-fb0b-4038-80ca-931d1db47e07')\"\n",
              "              title=\"Convert this dataframe to an interactive table.\"\n",
              "              style=\"display:none;\">\n",
              "        \n",
              "  <svg xmlns=\"http://www.w3.org/2000/svg\" height=\"24px\"viewBox=\"0 0 24 24\"\n",
              "       width=\"24px\">\n",
              "    <path d=\"M0 0h24v24H0V0z\" fill=\"none\"/>\n",
              "    <path d=\"M18.56 5.44l.94 2.06.94-2.06 2.06-.94-2.06-.94-.94-2.06-.94 2.06-2.06.94zm-11 1L8.5 8.5l.94-2.06 2.06-.94-2.06-.94L8.5 2.5l-.94 2.06-2.06.94zm10 10l.94 2.06.94-2.06 2.06-.94-2.06-.94-.94-2.06-.94 2.06-2.06.94z\"/><path d=\"M17.41 7.96l-1.37-1.37c-.4-.4-.92-.59-1.43-.59-.52 0-1.04.2-1.43.59L10.3 9.45l-7.72 7.72c-.78.78-.78 2.05 0 2.83L4 21.41c.39.39.9.59 1.41.59.51 0 1.02-.2 1.41-.59l7.78-7.78 2.81-2.81c.8-.78.8-2.07 0-2.86zM5.41 20L4 18.59l7.72-7.72 1.47 1.35L5.41 20z\"/>\n",
              "  </svg>\n",
              "      </button>\n",
              "      \n",
              "  <style>\n",
              "    .colab-df-container {\n",
              "      display:flex;\n",
              "      flex-wrap:wrap;\n",
              "      gap: 12px;\n",
              "    }\n",
              "\n",
              "    .colab-df-convert {\n",
              "      background-color: #E8F0FE;\n",
              "      border: none;\n",
              "      border-radius: 50%;\n",
              "      cursor: pointer;\n",
              "      display: none;\n",
              "      fill: #1967D2;\n",
              "      height: 32px;\n",
              "      padding: 0 0 0 0;\n",
              "      width: 32px;\n",
              "    }\n",
              "\n",
              "    .colab-df-convert:hover {\n",
              "      background-color: #E2EBFA;\n",
              "      box-shadow: 0px 1px 2px rgba(60, 64, 67, 0.3), 0px 1px 3px 1px rgba(60, 64, 67, 0.15);\n",
              "      fill: #174EA6;\n",
              "    }\n",
              "\n",
              "    [theme=dark] .colab-df-convert {\n",
              "      background-color: #3B4455;\n",
              "      fill: #D2E3FC;\n",
              "    }\n",
              "\n",
              "    [theme=dark] .colab-df-convert:hover {\n",
              "      background-color: #434B5C;\n",
              "      box-shadow: 0px 1px 3px 1px rgba(0, 0, 0, 0.15);\n",
              "      filter: drop-shadow(0px 1px 2px rgba(0, 0, 0, 0.3));\n",
              "      fill: #FFFFFF;\n",
              "    }\n",
              "  </style>\n",
              "\n",
              "      <script>\n",
              "        const buttonEl =\n",
              "          document.querySelector('#df-63c8d9c5-fb0b-4038-80ca-931d1db47e07 button.colab-df-convert');\n",
              "        buttonEl.style.display =\n",
              "          google.colab.kernel.accessAllowed ? 'block' : 'none';\n",
              "\n",
              "        async function convertToInteractive(key) {\n",
              "          const element = document.querySelector('#df-63c8d9c5-fb0b-4038-80ca-931d1db47e07');\n",
              "          const dataTable =\n",
              "            await google.colab.kernel.invokeFunction('convertToInteractive',\n",
              "                                                     [key], {});\n",
              "          if (!dataTable) return;\n",
              "\n",
              "          const docLinkHtml = 'Like what you see? Visit the ' +\n",
              "            '<a target=\"_blank\" href=https://colab.research.google.com/notebooks/data_table.ipynb>data table notebook</a>'\n",
              "            + ' to learn more about interactive tables.';\n",
              "          element.innerHTML = '';\n",
              "          dataTable['output_type'] = 'display_data';\n",
              "          await google.colab.output.renderOutput(dataTable, element);\n",
              "          const docLink = document.createElement('div');\n",
              "          docLink.innerHTML = docLinkHtml;\n",
              "          element.appendChild(docLink);\n",
              "        }\n",
              "      </script>\n",
              "    </div>\n",
              "  </div>\n",
              "  "
            ]
          },
          "metadata": {},
          "execution_count": 39
        }
      ],
      "source": [
        "x_test.head(6)"
      ]
    },
    {
      "cell_type": "code",
      "execution_count": null,
      "metadata": {
        "id": "dqVGVhuoaeta",
        "colab": {
          "base_uri": "https://localhost:8080/"
        },
        "outputId": "df821f9f-82ad-4636-c1c4-7bfd4e8d831a"
      },
      "outputs": [
        {
          "output_type": "execute_result",
          "data": {
            "text/plain": [
              "array([[4.96653463],\n",
              "       [5.1347537 ],\n",
              "       [4.01729845],\n",
              "       ...,\n",
              "       [3.51264124],\n",
              "       [3.99927498],\n",
              "       [4.38978354]])"
            ]
          },
          "metadata": {},
          "execution_count": 40
        }
      ],
      "source": [
        "#fazendo as previsões\n",
        "y_pred = model.predict(x_test)\n",
        "y_pred\n",
        "                       "
      ]
    },
    {
      "cell_type": "code",
      "execution_count": null,
      "metadata": {
        "id": "f_Uyy5Qdr4mw",
        "colab": {
          "base_uri": "https://localhost:8080/",
          "height": 296
        },
        "outputId": "32c7ff1c-6259-4712-93ce-64fdd040e99c"
      },
      "outputs": [
        {
          "output_type": "execute_result",
          "data": {
            "text/plain": [
              "<matplotlib.axes._subplots.AxesSubplot at 0x7f4cdf2c2d10>"
            ]
          },
          "metadata": {},
          "execution_count": 41
        },
        {
          "output_type": "display_data",
          "data": {
            "text/plain": [
              "<Figure size 432x288 with 1 Axes>"
            ],
            "image/png": "[encoded data removed]"
          },
          "metadata": {
            "needs_background": "light"
          }
        }
      ],
      "source": [
        "#reta das previsões feitas:\n",
        "sns.regplot(x = x_test, y = y_pred\n",
        "            )\n"
      ]
    },
    {
      "cell_type": "markdown",
      "metadata": {
        "id": "zVSTVwuBr_pQ"
      },
      "source": [
        "### **Avaliando o modelo:**"
      ]
    },
    {
      "cell_type": "code",
      "execution_count": null,
      "metadata": {
        "id": "40uqPtMqalwa",
        "colab": {
          "base_uri": "https://localhost:8080/"
        },
        "outputId": "b1596714-572f-415d-fb5e-3f70aee24ee6"
      },
      "outputs": [
        {
          "output_type": "stream",
          "name": "stdout",
          "text": [
            "Erro quadrático: 13.87\n",
            "Erro absoluto: 3.08\n",
            "R²: 0.05%\n"
          ]
        }
      ],
      "source": [
        "from sklearn.metrics import mean_squared_error, mean_absolute_error, r2_score\n",
        "#Erro quadrático médio \n",
        "erroQuadratico2 = mean_squared_error(y_test, y_pred)\n",
        "\n",
        "#Erro absoluto médio\n",
        "erroAbsoluto2 = mean_absolute_error(y_test, y_pred)\n",
        "\n",
        "#R quadrado \n",
        "rQuadrado2 = r2_score(y_test, y_pred)\n",
        "\n",
        "print(f\"Erro quadrático: {erroQuadratico2:.2f}\")\n",
        "print(f\"Erro absoluto: {erroAbsoluto2:.2f}\")\n",
        "print(f\"R²: {rQuadrado2:.2f}%\")"
      ]
    },
    {
      "cell_type": "markdown",
      "metadata": {
        "id": "N_qRd5DIo7Wv"
      },
      "source": []
    },
    {
      "cell_type": "markdown",
      "metadata": {
        "id": "F9WN5qsqgmAg"
      },
      "source": [
        "# Segunda etapa de testes\n",
        "Modelos desenvolvidos durante a sprint 3:\n",
        "\n",
        "\n",
        "*   Random Forest Regressor\n",
        "*   KNN Regressor\n",
        "*   Regressão Linear Múltipla\n",
        "\n"
      ]
    },
    {
      "cell_type": "markdown",
      "metadata": {
        "id": "9uoQ0MBHkD0o"
      },
      "source": [
        "### Importando dataset"
      ]
    },
    {
      "cell_type": "code",
      "execution_count": null,
      "metadata": {
        "id": "ICgtjqZRkGYO"
      },
      "outputs": [],
      "source": [
        "tv_0_old = pd.read_csv(\"/content/drive/MyDrive/2022-2A-T05/Grupo 3/datasets/CSV/tv_0_ukn.csv\", encoding=\"UTF-8\")"
      ]
    },
    {
      "cell_type": "markdown",
      "metadata": {
        "id": "AGV2Wq-qg8zA"
      },
      "source": [
        "###Definindo os sets de treinamento\n",
        "e valores de x e y.\n",
        "\n",
        "***Aqui, os modelos foram feitos sem a coluna 'Data' - o que foi corrigido posteriormente na Sprint 4.***\n"
      ]
    },
    {
      "cell_type": "code",
      "execution_count": null,
      "metadata": {
        "id": "uA1uLFhXg8zB"
      },
      "outputs": [],
      "source": [
        "from sklearn.model_selection import train_test_split\n",
        "\n",
        "# Dividindo x e y\n",
        "# Determinando que x: Categorias de Programas e y: Valor do Rat por Domicilios \n",
        "x_old = tv_0_old[['Categoria_AUDITORIO',\n",
        "       'Categoria_CARROS E MOTORES', 'Categoria_CULINARIO', 'Categoria_DEBATE',\n",
        "       'Categoria_DOCUMENTARIO', 'Categoria_EDUCATIVO', 'Categoria_ENTREVISTA',\n",
        "       'Categoria_ESPORTE', 'Categoria_FEMININO', 'Categoria_FILME',\n",
        "       'Categoria_FUTEBOL', 'Categoria_GAME SHOW', 'Categoria_HUMORISTICO',\n",
        "       'Categoria_JORNALISMO', 'Categoria_MINISSERIE', 'Categoria_MUSICAL',\n",
        "       'Categoria_NAO CONSTA', 'Categoria_NOVELA', 'Categoria_OUTROS',\n",
        "       'Categoria_POLITICO', 'Categoria_PREMIACAO', 'Categoria_REALITY SHOW',\n",
        "       'Categoria_RELIGIOSO', 'Categoria_REPORTAGEM', 'Categoria_RURAL',\n",
        "       'Categoria_SERIES', 'Categoria_SHOW', 'Categoria_SORTEIO',\n",
        "       'Categoria_TELE VENDAS', 'Mês','Hora Início', 'Dia da Semana_1','Dia da Semana_2','Dia da Semana_3',\n",
        "       'Dia da Semana_4','Dia da Semana_5','Dia da Semana_6','Dia da Semana_7', 'Dia do Mês']]\n",
        "y_old = tv_0_old[['Total Domicílios | Rat%']]\n",
        "\n",
        "# Dividindo dados para treino e dados para teste\n",
        "x_old_train, x_old_test, y_old_train, y_old_test = train_test_split(x_old, y_old, \n",
        "                                                    test_size = 0.2, \n",
        "                                                    random_state = 1) # qualquer valor como semente do pseudo-random\n"
      ]
    },
    {
      "cell_type": "markdown",
      "metadata": {
        "id": "iu_59i7IKebI"
      },
      "source": [
        "### 4.4.2 Random Forest Regressor"
      ]
    },
    {
      "cell_type": "code",
      "execution_count": null,
      "metadata": {
        "id": "SMkodX0yKh0a"
      },
      "outputs": [],
      "source": [
        "# Importando bibliotecas e treinando o modelo \n",
        "from sklearn.ensemble import RandomForestRegressor\n",
        "from sklearn.datasets import make_regression\n",
        "from sklearn import metrics\n",
        "\n",
        "regressor = RandomForestRegressor(n_estimators=289, random_state=1)\n",
        "regressor.fit (x_old_train, y_old_train)\n",
        "y_pred_regressor_old = regressor.predict(x_old_test)"
      ]
    },
    {
      "cell_type": "markdown",
      "metadata": {
        "id": "JP-QYir9PT2x"
      },
      "source": [
        "\n",
        " Avaliando a acurácia do modelo:\n",
        "\n",
        "\n",
        "\n",
        "\n"
      ]
    },
    {
      "cell_type": "code",
      "execution_count": null,
      "metadata": {
        "id": "LZQRDHVJWzbb",
        "colab": {
          "base_uri": "https://localhost:8080/",
          "height": 282
        },
        "outputId": "6486c969-4927-44ec-e63c-ff0f564e8128"
      },
      "outputs": [
        {
          "output_type": "execute_result",
          "data": {
            "text/plain": [
              "<matplotlib.collections.PathCollection at 0x7f4cdd300650>"
            ]
          },
          "metadata": {},
          "execution_count": 46
        },
        {
          "output_type": "display_data",
          "data": {
            "text/plain": [
              "<Figure size 432x288 with 1 Axes>"
            ],
            "image/png": "[encoded data removed]"
          },
          "metadata": {
            "needs_background": "light"
          }
        }
      ],
      "source": [
        "#Distribuição das previsões de teste\n",
        "plt.scatter(y_old_test, y_pred_regressor_old)"
      ]
    },
    {
      "cell_type": "code",
      "execution_count": null,
      "metadata": {
        "id": "SNUxhZ9RPnd8",
        "colab": {
          "base_uri": "https://localhost:8080/",
          "height": 369
        },
        "outputId": "41b8f3b1-cd3b-4579-e4e5-f712563817cb"
      },
      "outputs": [
        {
          "output_type": "execute_result",
          "data": {
            "text/plain": [
              "(array([3.0000e+00, 1.2000e+01, 8.8000e+01, 7.4000e+02, 3.5075e+04,\n",
              "        7.6870e+03, 1.3600e+02, 2.4000e+01, 5.0000e+00, 6.0000e+00]),\n",
              " array([-13.80736398, -10.9205641 ,  -8.03376422,  -5.14696434,\n",
              "         -2.26016446,   0.62663542,   3.5134353 ,   6.40023518,\n",
              "          9.28703506,  12.17383494,  15.06063482]),\n",
              " <a list of 10 Patch objects>)"
            ]
          },
          "metadata": {},
          "execution_count": 47
        },
        {
          "output_type": "display_data",
          "data": {
            "text/plain": [
              "<Figure size 432x288 with 1 Axes>"
            ],
            "image/png": "[encoded data removed]"
          },
          "metadata": {
            "needs_background": "light"
          }
        }
      ],
      "source": [
        "#Calculando os erros do modelo e gerando um histograma dos erros\n",
        "y_normalizado  = y_old_test.values.flatten()\n",
        "errors = (y_pred_regressor_old - y_normalizado)\n",
        "plt.hist(errors)"
      ]
    },
    {
      "cell_type": "code",
      "execution_count": null,
      "metadata": {
        "id": "V35Vwc0GMG4L",
        "colab": {
          "base_uri": "https://localhost:8080/"
        },
        "outputId": "ad8ddee1-e5b7-4a13-e5b4-5ade7e337127"
      },
      "outputs": [
        {
          "output_type": "stream",
          "name": "stdout",
          "text": [
            " R²: 97.60%\n",
            "Erro médio absoluto (MAE): 0.65\n",
            "Erro médio quadrático (MSE): 1.02\n"
          ]
        }
      ],
      "source": [
        "print(f\" R²: {(metrics.r2_score(y_old_test, y_pred_regressor_old) * 100):.2f}%\") #R quadrado\n",
        "print(f\"Erro médio absoluto (MAE): {mean_absolute_error(y_old_test, y_pred_regressor_old):.2f}\") #erro médio absoluto\n",
        "print(f\"Erro médio quadrático (MSE): {mean_squared_error(y_old_test, y_pred_regressor_old):.2f}\") #erro médio quadrático\n"
      ]
    },
    {
      "cell_type": "code",
      "execution_count": null,
      "metadata": {
        "id": "Lr-blCXfQTl0",
        "colab": {
          "base_uri": "https://localhost:8080/"
        },
        "outputId": "c8fb149b-6554-4780-b7ad-900c21b99568"
      },
      "outputs": [
        {
          "output_type": "stream",
          "name": "stdout",
          "text": [
            "O valor do desvio padrão é: 1.01\n"
          ]
        }
      ],
      "source": [
        "#Desvio padrão dos erros do random forest generator \n",
        "desvio = errors.std()\n",
        "print(f\"O valor do desvio padrão é: {desvio:.2f}\")\n"
      ]
    },
    {
      "cell_type": "markdown",
      "metadata": {
        "id": "C85G9pTvQ0Ob"
      },
      "source": [
        "### 4.4.3 KNN Regressor\n"
      ]
    },
    {
      "cell_type": "code",
      "execution_count": null,
      "metadata": {
        "id": "cdIYTES5Qu8w"
      },
      "outputs": [],
      "source": [
        "#importando a biblioteca\n",
        "from sklearn.neighbors import KNeighborsRegressor\n",
        "\n",
        "#Instanciar e fazer o fit das variaveis com o modelo \n",
        "knn_model = KNeighborsRegressor(n_neighbors=2).fit(x_old_train, y_old_train)\n",
        "\n",
        "#Calculando o score\n",
        "score_knn = knn_model.score(x_old_test, y_old_test)\n"
      ]
    },
    {
      "cell_type": "code",
      "execution_count": null,
      "metadata": {
        "id": "SkJVwq3YQ4Va"
      },
      "outputs": [],
      "source": [
        "#Calculando a predição \n",
        "y_pred_knn_old = knn_model.predict(x_old_test)"
      ]
    },
    {
      "cell_type": "markdown",
      "metadata": {
        "id": "fWYy7sfSSEYR"
      },
      "source": [
        "Avaliando a acurácia do modelo:"
      ]
    },
    {
      "cell_type": "code",
      "execution_count": null,
      "metadata": {
        "id": "2oP8je05RMKa",
        "colab": {
          "base_uri": "https://localhost:8080/"
        },
        "outputId": "2b22b411-ab3a-4a09-dae8-5dfbcb77ef9c"
      },
      "outputs": [
        {
          "output_type": "stream",
          "name": "stdout",
          "text": [
            " R²: 98.12%\n",
            "Erro médio absoluto (MAE): 0.60\n",
            "Erro médio quadrático (MSE): 0.80\n"
          ]
        }
      ],
      "source": [
        "print(f\" R²: {(metrics.r2_score(y_old_test, y_pred_knn_old) * 100):.2f}%\") #R quadrado\n",
        "print(f\"Erro médio absoluto (MAE): {mean_absolute_error(y_old_test, y_pred_knn_old):.2f}\") #erro médio absoluto\n",
        "print(f\"Erro médio quadrático (MSE): {mean_squared_error(y_old_test, y_pred_knn_old):.2f}\") #erro médio quadrático\n"
      ]
    },
    {
      "cell_type": "code",
      "execution_count": null,
      "metadata": {
        "id": "wyrWNsgbXkEM",
        "colab": {
          "base_uri": "https://localhost:8080/",
          "height": 282
        },
        "outputId": "54e4736c-1aac-4346-87f6-af040fcdae65"
      },
      "outputs": [
        {
          "output_type": "execute_result",
          "data": {
            "text/plain": [
              "<matplotlib.collections.PathCollection at 0x7f4cdd207390>"
            ]
          },
          "metadata": {},
          "execution_count": 53
        },
        {
          "output_type": "display_data",
          "data": {
            "text/plain": [
              "<Figure size 432x288 with 1 Axes>"
            ],
            "image/png": "[encoded data removed]"
          },
          "metadata": {
            "needs_background": "light"
          }
        }
      ],
      "source": [
        "#Distribuição das previsões de teste\n",
        "\n",
        "plt.scatter(y_old_test, y_pred_knn_old)"
      ]
    },
    {
      "cell_type": "markdown",
      "metadata": {
        "id": "ItMOU-DTUznj"
      },
      "source": [
        "### 4.4.4 Regressão Linear Múltipla "
      ]
    },
    {
      "cell_type": "code",
      "execution_count": null,
      "metadata": {
        "id": "nVNYvmsfU9H-",
        "colab": {
          "base_uri": "https://localhost:8080/"
        },
        "outputId": "f1b486a6-7cac-4b7d-e30a-2ce1a41227f1"
      },
      "outputs": [
        {
          "output_type": "execute_result",
          "data": {
            "text/plain": [
              "LinearRegression()"
            ]
          },
          "metadata": {},
          "execution_count": 54
        }
      ],
      "source": [
        "#Importando as bibliotecas e definindo parâmetros \n",
        "from sklearn import linear_model\n",
        "import statsmodels.api as sm\n",
        "\n",
        "#Treinando \n",
        "regr = linear_model.LinearRegression()\n",
        "regr.fit(x_old, y_old)\n"
      ]
    },
    {
      "cell_type": "code",
      "execution_count": null,
      "metadata": {
        "id": "us9mQOFAVJOH"
      },
      "outputs": [],
      "source": [
        "#Adicionando a constante\n",
        "x_old = sm.add_constant(x_old) \n",
        " \n",
        "#Realizando a predição  \n",
        "model = sm.OLS(y_old, x_old).fit()\n",
        "predictions = model.predict(x_old) \n"
      ]
    },
    {
      "cell_type": "code",
      "execution_count": null,
      "metadata": {
        "id": "PlEo0ET_V3-r",
        "colab": {
          "base_uri": "https://localhost:8080/"
        },
        "outputId": "ade96d72-04a2-4727-b72c-5856c0416af6"
      },
      "outputs": [
        {
          "output_type": "stream",
          "name": "stdout",
          "text": [
            "                               OLS Regression Results                              \n",
            "===================================================================================\n",
            "Dep. Variable:     Total Domicílios | Rat%   R-squared:                       0.418\n",
            "Model:                                 OLS   Adj. R-squared:                  0.418\n",
            "Method:                      Least Squares   F-statistic:                     4248.\n",
            "Date:                     Thu, 06 Oct 2022   Prob (F-statistic):               0.00\n",
            "Time:                             02:15:23   Log-Likelihood:            -6.6146e+05\n",
            "No. Observations:                   218880   AIC:                         1.323e+06\n",
            "Df Residuals:                       218842   BIC:                         1.323e+06\n",
            "Df Model:                               37                                         \n",
            "Covariance Type:                 nonrobust                                         \n",
            "==============================================================================================\n",
            "                                 coef    std err          t      P>|t|      [0.025      0.975]\n",
            "----------------------------------------------------------------------------------------------\n",
            "const                          9.5061      0.154     61.835      0.000       9.205       9.807\n",
            "Categoria_AUDITORIO           -0.6823      0.175     -3.907      0.000      -1.025      -0.340\n",
            "Categoria_CARROS E MOTORES    -1.8623      0.252     -7.385      0.000      -2.357      -1.368\n",
            "Categoria_CULINARIO           -4.6576      0.484     -9.630      0.000      -5.606      -3.710\n",
            "Categoria_DEBATE               2.6358      1.342      1.963      0.050       0.005       5.267\n",
            "Categoria_DOCUMENTARIO         0.1193      0.841      0.142      0.887      -1.529       1.767\n",
            "Categoria_EDUCATIVO           -5.9911      0.231    -25.974      0.000      -6.443      -5.539\n",
            "Categoria_ENTREVISTA          -3.7536      0.189    -19.851      0.000      -4.124      -3.383\n",
            "Categoria_ESPORTE              0.3333      0.178      1.876      0.061      -0.015       0.682\n",
            "Categoria_FEMININO            -4.5275      0.197    -23.031      0.000      -4.913      -4.142\n",
            "Categoria_FILME               -1.7006      0.173     -9.857      0.000      -2.039      -1.362\n",
            "Categoria_FUTEBOL              9.0318      0.185     48.932      0.000       8.670       9.394\n",
            "Categoria_GAME SHOW           -2.0764      0.414     -5.019      0.000      -2.887      -1.266\n",
            "Categoria_HUMORISTICO         -1.2773      0.212     -6.017      0.000      -1.693      -0.861\n",
            "Categoria_JORNALISMO           0.6012      0.172      3.502      0.000       0.265       0.938\n",
            "Categoria_MINISSERIE           6.9685      0.599     11.632      0.000       5.794       8.143\n",
            "Categoria_MUSICAL              0.0017      0.295      0.006      0.995      -0.576       0.580\n",
            "Categoria_NAO CONSTA          -7.1267      1.396     -5.103      0.000      -9.864      -4.390\n",
            "Categoria_NOVELA              10.1132      0.173     58.417      0.000       9.774      10.452\n",
            "Categoria_OUTROS              -0.9174      1.822     -0.503      0.615      -4.489       2.654\n",
            "Categoria_POLITICO             6.4828      0.407     15.933      0.000       5.685       7.280\n",
            "Categoria_PREMIACAO            1.8323      1.062      1.726      0.084      -0.248       3.913\n",
            "Categoria_REALITY SHOW         6.0944      0.182     33.522      0.000       5.738       6.451\n",
            "Categoria_RELIGIOSO           -4.9985      0.216    -23.147      0.000      -5.422      -4.575\n",
            "Categoria_REPORTAGEM           0.1036      0.198      0.525      0.600      -0.283       0.491\n",
            "Categoria_RURAL               -2.0145      0.275     -7.314      0.000      -2.554      -1.475\n",
            "Categoria_SERIES               3.1583      0.181     17.442      0.000       2.803       3.513\n",
            "Categoria_SHOW                -2.9109      0.176    -16.520      0.000      -3.256      -2.566\n",
            "Categoria_SORTEIO              7.3839      3.398      2.173      0.030       0.724      14.044\n",
            "Categoria_TELE VENDAS         -0.8572      1.706     -0.503      0.615      -4.200       2.486\n",
            "Mês                           -0.0638      0.003    -20.016      0.000      -0.070      -0.058\n",
            "Hora Início                   -0.1052      0.002    -58.506      0.000      -0.109      -0.102\n",
            "Dia da Semana_1                2.1156      0.034     61.427      0.000       2.048       2.183\n",
            "Dia da Semana_2                1.4029      0.034     40.782      0.000       1.335       1.470\n",
            "Dia da Semana_3                1.2385      0.034     36.131      0.000       1.171       1.306\n",
            "Dia da Semana_4                1.1235      0.034     32.657      0.000       1.056       1.191\n",
            "Dia da Semana_5                0.9422      0.034     27.540      0.000       0.875       1.009\n",
            "Dia da Semana_6                1.1915      0.036     33.086      0.000       1.121       1.262\n",
            "Dia da Semana_7                1.4918      0.036     41.686      0.000       1.422       1.562\n",
            "Dia do Mês                    -0.0012      0.001     -0.975      0.330      -0.004       0.001\n",
            "==============================================================================\n",
            "Omnibus:                    31617.562   Durbin-Watson:                   0.120\n",
            "Prob(Omnibus):                  0.000   Jarque-Bera (JB):            52737.421\n",
            "Skew:                           0.977   Prob(JB):                         0.00\n",
            "Kurtosis:                       4.402   Cond. No.                     1.11e+16\n",
            "==============================================================================\n",
            "\n",
            "Notes:\n",
            "[1] Standard Errors assume that the covariance matrix of the errors is correctly specified.\n",
            "[2] The smallest eigenvalue is 1.19e-24. This might indicate that there are\n",
            "strong multicollinearity problems or that the design matrix is singular.\n"
          ]
        }
      ],
      "source": [
        "#Sumário dos resultados da regressão linear múltipla\n",
        "# with statsmodels\n",
        "print_model = model.summary()\n",
        "print(print_model) "
      ]
    },
    {
      "cell_type": "code",
      "execution_count": null,
      "metadata": {
        "id": "kiMVzlZWaVYh",
        "colab": {
          "base_uri": "https://localhost:8080/",
          "height": 279
        },
        "outputId": "af0f4526-7b77-491e-bd93-7c3259ca3988"
      },
      "outputs": [
        {
          "output_type": "display_data",
          "data": {
            "text/plain": [
              "<Figure size 432x288 with 1 Axes>"
            ],
            "image/png": "[encoded data removed]"
          },
          "metadata": {
            "needs_background": "light"
          }
        }
      ],
      "source": [
        "plt.scatter(y_old, predictions);\n",
        "plt.xlabel('Actual');\n",
        "plt.ylabel('Predicted');"
      ]
    },
    {
      "cell_type": "code",
      "execution_count": null,
      "metadata": {
        "id": "zSC6OOPmduhS",
        "colab": {
          "base_uri": "https://localhost:8080/",
          "height": 282
        },
        "outputId": "684e03dd-93ef-495f-a1c3-bce4338c62ac"
      },
      "outputs": [
        {
          "output_type": "display_data",
          "data": {
            "text/plain": [
              "<Figure size 432x288 with 1 Axes>"
            ],
            "image/png": "[encoded data removed]"
          },
          "metadata": {}
        }
      ],
      "source": [
        "sns.regplot(x=y_old,y=predictions,ci=None,color ='red');\n"
      ]
    },
    {
      "cell_type": "markdown",
      "metadata": {
        "id": "tMhw-I-kjpSL"
      },
      "source": [
        "#Importando dataset corrigido - com coluna 'Data'\n",
        "e definindo x e y - FEITOS NA SPRINT 4."
      ]
    },
    {
      "cell_type": "code",
      "execution_count": null,
      "metadata": {
        "id": "xROmhP87jvvz",
        "colab": {
          "base_uri": "https://localhost:8080/",
          "height": 334
        },
        "outputId": "249edc1e-32db-4860-a0da-6a93676e745e"
      },
      "outputs": [
        {
          "output_type": "execute_result",
          "data": {
            "text/plain": [
              "   Unnamed: 0  Unnamed: 0.1  Unnamed: 0.1.1  Data  Hora Início Emissora  Mês  \\\n",
              "0           0             0               0  2020         6.00     tv_0    6   \n",
              "1           1             1               1  2020         6.00     tv_0    6   \n",
              "2           2             2               2  2020         6.00     tv_0    6   \n",
              "3           3             3               3  2020         6.25     tv_0    6   \n",
              "4           4             4               4  2020         6.25     tv_0    6   \n",
              "\n",
              "   Dia do Mês  Total Domicílios | Rat%  AB | Rat%  ...  Categoria_SHOW  \\\n",
              "0           1                     4.27       2.40  ...               0   \n",
              "1           1                     4.89       3.02  ...               0   \n",
              "2           1                     5.74       3.13  ...               0   \n",
              "3           1                     6.55       3.06  ...               0   \n",
              "4           1                     7.27       3.49  ...               0   \n",
              "\n",
              "   Categoria_SORTEIO  Categoria_TELE VENDAS  Dia da Semana_1  Dia da Semana_2  \\\n",
              "0                  0                      0                1                0   \n",
              "1                  0                      0                1                0   \n",
              "2                  0                      0                1                0   \n",
              "3                  0                      0                1                0   \n",
              "4                  0                      0                1                0   \n",
              "\n",
              "   Dia da Semana_3  Dia da Semana_4  Dia da Semana_5  Dia da Semana_6  \\\n",
              "0                0                0                0                0   \n",
              "1                0                0                0                0   \n",
              "2                0                0                0                0   \n",
              "3                0                0                0                0   \n",
              "4                0                0                0                0   \n",
              "\n",
              "   Dia da Semana_7  \n",
              "0                0  \n",
              "1                0  \n",
              "2                0  \n",
              "3                0  \n",
              "4                0  \n",
              "\n",
              "[5 rows x 102 columns]"
            ],
            "text/html": [
              "\n",
              "  <div id=\"df-7f04be0d-a7d1-4774-a43b-664c4f917daf\">\n",
              "    <div class=\"colab-df-container\">\n",
              "      <div>\n",
              "<style scoped>\n",
              "    .dataframe tbody tr th:only-of-type {\n",
              "        vertical-align: middle;\n",
              "    }\n",
              "\n",
              "    .dataframe tbody tr th {\n",
              "        vertical-align: top;\n",
              "    }\n",
              "\n",
              "    .dataframe thead th {\n",
              "        text-align: right;\n",
              "    }\n",
              "</style>\n",
              "<table border=\"1\" class=\"dataframe\">\n",
              "  <thead>\n",
              "    <tr style=\"text-align: right;\">\n",
              "      <th></th>\n",
              "      <th>Unnamed: 0</th>\n",
              "      <th>Unnamed: 0.1</th>\n",
              "      <th>Unnamed: 0.1.1</th>\n",
              "      <th>Data</th>\n",
              "      <th>Hora Início</th>\n",
              "      <th>Emissora</th>\n",
              "      <th>Mês</th>\n",
              "      <th>Dia do Mês</th>\n",
              "      <th>Total Domicílios | Rat%</th>\n",
              "      <th>AB | Rat%</th>\n",
              "      <th>...</th>\n",
              "      <th>Categoria_SHOW</th>\n",
              "      <th>Categoria_SORTEIO</th>\n",
              "      <th>Categoria_TELE VENDAS</th>\n",
              "      <th>Dia da Semana_1</th>\n",
              "      <th>Dia da Semana_2</th>\n",
              "      <th>Dia da Semana_3</th>\n",
              "      <th>Dia da Semana_4</th>\n",
              "      <th>Dia da Semana_5</th>\n",
              "      <th>Dia da Semana_6</th>\n",
              "      <th>Dia da Semana_7</th>\n",
              "    </tr>\n",
              "  </thead>\n",
              "  <tbody>\n",
              "    <tr>\n",
              "      <th>0</th>\n",
              "      <td>0</td>\n",
              "      <td>0</td>\n",
              "      <td>0</td>\n",
              "      <td>2020</td>\n",
              "      <td>6.00</td>\n",
              "      <td>tv_0</td>\n",
              "      <td>6</td>\n",
              "      <td>1</td>\n",
              "      <td>4.27</td>\n",
              "      <td>2.40</td>\n",
              "      <td>...</td>\n",
              "      <td>0</td>\n",
              "      <td>0</td>\n",
              "      <td>0</td>\n",
              "      <td>1</td>\n",
              "      <td>0</td>\n",
              "      <td>0</td>\n",
              "      <td>0</td>\n",
              "      <td>0</td>\n",
              "      <td>0</td>\n",
              "      <td>0</td>\n",
              "    </tr>\n",
              "    <tr>\n",
              "      <th>1</th>\n",
              "      <td>1</td>\n",
              "      <td>1</td>\n",
              "      <td>1</td>\n",
              "      <td>2020</td>\n",
              "      <td>6.00</td>\n",
              "      <td>tv_0</td>\n",
              "      <td>6</td>\n",
              "      <td>1</td>\n",
              "      <td>4.89</td>\n",
              "      <td>3.02</td>\n",
              "      <td>...</td>\n",
              "      <td>0</td>\n",
              "      <td>0</td>\n",
              "      <td>0</td>\n",
              "      <td>1</td>\n",
              "      <td>0</td>\n",
              "      <td>0</td>\n",
              "      <td>0</td>\n",
              "      <td>0</td>\n",
              "      <td>0</td>\n",
              "      <td>0</td>\n",
              "    </tr>\n",
              "    <tr>\n",
              "      <th>2</th>\n",
              "      <td>2</td>\n",
              "      <td>2</td>\n",
              "      <td>2</td>\n",
              "      <td>2020</td>\n",
              "      <td>6.00</td>\n",
              "      <td>tv_0</td>\n",
              "      <td>6</td>\n",
              "      <td>1</td>\n",
              "      <td>5.74</td>\n",
              "      <td>3.13</td>\n",
              "      <td>...</td>\n",
              "      <td>0</td>\n",
              "      <td>0</td>\n",
              "      <td>0</td>\n",
              "      <td>1</td>\n",
              "      <td>0</td>\n",
              "      <td>0</td>\n",
              "      <td>0</td>\n",
              "      <td>0</td>\n",
              "      <td>0</td>\n",
              "      <td>0</td>\n",
              "    </tr>\n",
              "    <tr>\n",
              "      <th>3</th>\n",
              "      <td>3</td>\n",
              "      <td>3</td>\n",
              "      <td>3</td>\n",
              "      <td>2020</td>\n",
              "      <td>6.25</td>\n",
              "      <td>tv_0</td>\n",
              "      <td>6</td>\n",
              "      <td>1</td>\n",
              "      <td>6.55</td>\n",
              "      <td>3.06</td>\n",
              "      <td>...</td>\n",
              "      <td>0</td>\n",
              "      <td>0</td>\n",
              "      <td>0</td>\n",
              "      <td>1</td>\n",
              "      <td>0</td>\n",
              "      <td>0</td>\n",
              "      <td>0</td>\n",
              "      <td>0</td>\n",
              "      <td>0</td>\n",
              "      <td>0</td>\n",
              "    </tr>\n",
              "    <tr>\n",
              "      <th>4</th>\n",
              "      <td>4</td>\n",
              "      <td>4</td>\n",
              "      <td>4</td>\n",
              "      <td>2020</td>\n",
              "      <td>6.25</td>\n",
              "      <td>tv_0</td>\n",
              "      <td>6</td>\n",
              "      <td>1</td>\n",
              "      <td>7.27</td>\n",
              "      <td>3.49</td>\n",
              "      <td>...</td>\n",
              "      <td>0</td>\n",
              "      <td>0</td>\n",
              "      <td>0</td>\n",
              "      <td>1</td>\n",
              "      <td>0</td>\n",
              "      <td>0</td>\n",
              "      <td>0</td>\n",
              "      <td>0</td>\n",
              "      <td>0</td>\n",
              "      <td>0</td>\n",
              "    </tr>\n",
              "  </tbody>\n",
              "</table>\n",
              "<p>5 rows × 102 columns</p>\n",
              "</div>\n",
              "      <button class=\"colab-df-convert\" onclick=\"convertToInteractive('df-7f04be0d-a7d1-4774-a43b-664c4f917daf')\"\n",
              "              title=\"Convert this dataframe to an interactive table.\"\n",
              "              style=\"display:none;\">\n",
              "        \n",
              "  <svg xmlns=\"http://www.w3.org/2000/svg\" height=\"24px\"viewBox=\"0 0 24 24\"\n",
              "       width=\"24px\">\n",
              "    <path d=\"M0 0h24v24H0V0z\" fill=\"none\"/>\n",
              "    <path d=\"M18.56 5.44l.94 2.06.94-2.06 2.06-.94-2.06-.94-.94-2.06-.94 2.06-2.06.94zm-11 1L8.5 8.5l.94-2.06 2.06-.94-2.06-.94L8.5 2.5l-.94 2.06-2.06.94zm10 10l.94 2.06.94-2.06 2.06-.94-2.06-.94-.94-2.06-.94 2.06-2.06.94z\"/><path d=\"M17.41 7.96l-1.37-1.37c-.4-.4-.92-.59-1.43-.59-.52 0-1.04.2-1.43.59L10.3 9.45l-7.72 7.72c-.78.78-.78 2.05 0 2.83L4 21.41c.39.39.9.59 1.41.59.51 0 1.02-.2 1.41-.59l7.78-7.78 2.81-2.81c.8-.78.8-2.07 0-2.86zM5.41 20L4 18.59l7.72-7.72 1.47 1.35L5.41 20z\"/>\n",
              "  </svg>\n",
              "      </button>\n",
              "      \n",
              "  <style>\n",
              "    .colab-df-container {\n",
              "      display:flex;\n",
              "      flex-wrap:wrap;\n",
              "      gap: 12px;\n",
              "    }\n",
              "\n",
              "    .colab-df-convert {\n",
              "      background-color: #E8F0FE;\n",
              "      border: none;\n",
              "      border-radius: 50%;\n",
              "      cursor: pointer;\n",
              "      display: none;\n",
              "      fill: #1967D2;\n",
              "      height: 32px;\n",
              "      padding: 0 0 0 0;\n",
              "      width: 32px;\n",
              "    }\n",
              "\n",
              "    .colab-df-convert:hover {\n",
              "      background-color: #E2EBFA;\n",
              "      box-shadow: 0px 1px 2px rgba(60, 64, 67, 0.3), 0px 1px 3px 1px rgba(60, 64, 67, 0.15);\n",
              "      fill: #174EA6;\n",
              "    }\n",
              "\n",
              "    [theme=dark] .colab-df-convert {\n",
              "      background-color: #3B4455;\n",
              "      fill: #D2E3FC;\n",
              "    }\n",
              "\n",
              "    [theme=dark] .colab-df-convert:hover {\n",
              "      background-color: #434B5C;\n",
              "      box-shadow: 0px 1px 3px 1px rgba(0, 0, 0, 0.15);\n",
              "      filter: drop-shadow(0px 1px 2px rgba(0, 0, 0, 0.3));\n",
              "      fill: #FFFFFF;\n",
              "    }\n",
              "  </style>\n",
              "\n",
              "      <script>\n",
              "        const buttonEl =\n",
              "          document.querySelector('#df-7f04be0d-a7d1-4774-a43b-664c4f917daf button.colab-df-convert');\n",
              "        buttonEl.style.display =\n",
              "          google.colab.kernel.accessAllowed ? 'block' : 'none';\n",
              "\n",
              "        async function convertToInteractive(key) {\n",
              "          const element = document.querySelector('#df-7f04be0d-a7d1-4774-a43b-664c4f917daf');\n",
              "          const dataTable =\n",
              "            await google.colab.kernel.invokeFunction('convertToInteractive',\n",
              "                                                     [key], {});\n",
              "          if (!dataTable) return;\n",
              "\n",
              "          const docLinkHtml = 'Like what you see? Visit the ' +\n",
              "            '<a target=\"_blank\" href=https://colab.research.google.com/notebooks/data_table.ipynb>data table notebook</a>'\n",
              "            + ' to learn more about interactive tables.';\n",
              "          element.innerHTML = '';\n",
              "          dataTable['output_type'] = 'display_data';\n",
              "          await google.colab.output.renderOutput(dataTable, element);\n",
              "          const docLink = document.createElement('div');\n",
              "          docLink.innerHTML = docLinkHtml;\n",
              "          element.appendChild(docLink);\n",
              "        }\n",
              "      </script>\n",
              "    </div>\n",
              "  </div>\n",
              "  "
            ]
          },
          "metadata": {},
          "execution_count": 59
        }
      ],
      "source": [
        "tv_0 = pd.read_csv(\"/content/drive/MyDrive/2022-2A-T05/Grupo 3/datasets/CSV/tv_0_ukn.csv\", encoding=\"UTF-8\")\n",
        "\n",
        "tv_0.head()"
      ]
    },
    {
      "cell_type": "markdown",
      "metadata": {
        "id": "e9MEUq_eKRCR"
      },
      "source": [
        "###Definindo os sets de treinamento\n",
        "e valores de x e y.\n"
      ]
    },
    {
      "cell_type": "code",
      "execution_count": null,
      "metadata": {
        "id": "tgG9qoY6KOpr"
      },
      "outputs": [],
      "source": [
        "from sklearn.model_selection import train_test_split\n",
        "\n",
        "# Dividindo x e y\n",
        "# Determinando que x: Categorias de Programas e y: Valor do Rat por Domicilios \n",
        "x = tv_0[['Categoria_AUDITORIO',\n",
        "       'Categoria_CARROS E MOTORES', 'Categoria_CULINARIO', 'Categoria_DEBATE',\n",
        "       'Categoria_DOCUMENTARIO', 'Categoria_EDUCATIVO', 'Categoria_ENTREVISTA',\n",
        "       'Categoria_ESPORTE', 'Categoria_FEMININO', 'Categoria_FILME',\n",
        "       'Categoria_FUTEBOL', 'Categoria_GAME SHOW', 'Categoria_HUMORISTICO',\n",
        "       'Categoria_JORNALISMO', 'Categoria_MINISSERIE', 'Categoria_MUSICAL',\n",
        "       'Categoria_NAO CONSTA', 'Categoria_NOVELA', 'Categoria_OUTROS',\n",
        "       'Categoria_POLITICO', 'Categoria_PREMIACAO', 'Categoria_REALITY SHOW',\n",
        "       'Categoria_RELIGIOSO', 'Categoria_REPORTAGEM', 'Categoria_RURAL',\n",
        "       'Categoria_SERIES', 'Categoria_SHOW', 'Categoria_SORTEIO',\n",
        "       'Categoria_TELE VENDAS', 'Mês','Hora Início', 'Dia da Semana_1','Dia da Semana_2','Dia da Semana_3',\n",
        "       'Dia da Semana_4','Dia da Semana_5','Dia da Semana_6','Dia da Semana_7', 'Dia do Mês', 'Data']]\n",
        "y = tv_0[['Total Domicílios | Rat%']]\n",
        "\n",
        "# Dividindo dados para treino e dados para teste\n",
        "x_train, x_test, y_train, y_test = train_test_split(x, y, \n",
        "                                                    test_size = 0.2, \n",
        "                                                    random_state = 1) # qualquer valor como semente do pseudo-random\n"
      ]
    },
    {
      "cell_type": "markdown",
      "metadata": {
        "id": "5RmkNGCUimvV"
      },
      "source": [
        "# Terceira etapa de testes\n",
        "Modelos desenvolvidos durante a sprint 4:\n",
        "\n",
        "*   XGBoost\n",
        "*   CATBOOST\n",
        "*   Gradient Boosting\n",
        "*   Histogram Gradient Boosting\n",
        "*   LightGBM"
      ]
    },
    {
      "cell_type": "markdown",
      "metadata": {
        "id": "goD4x06qJpn6"
      },
      "source": [
        "## 4.4.5 XGBoost\n"
      ]
    },
    {
      "cell_type": "code",
      "execution_count": null,
      "metadata": {
        "id": "Ivj6b8VdJpn6"
      },
      "outputs": [],
      "source": [
        "# xgboost for regression\n",
        "from numpy import asarray\n",
        "from numpy import mean\n",
        "from numpy import std\n",
        "from sklearn.datasets import make_regression\n",
        "from xgboost import XGBRegressor\n",
        "from sklearn.model_selection import cross_val_score\n",
        "from sklearn.model_selection import RepeatedKFold\n",
        "from matplotlib import pyplot"
      ]
    },
    {
      "cell_type": "code",
      "execution_count": null,
      "metadata": {
        "colab": {
          "base_uri": "https://localhost:8080/"
        },
        "id": "VtVYifokJ4H8",
        "outputId": "f5d36cdb-ef06-4070-be8c-90ca99b03740"
      },
      "outputs": [
        {
          "output_type": "stream",
          "name": "stdout",
          "text": [
            "[-1.8238417  -1.84941366 -1.82765834 -1.84184181 -1.87588983 -1.8626754\n",
            " -1.86963366 -1.83751047 -1.79412944 -1.90820701 -1.81580838 -1.83524488\n",
            " -1.83763279 -1.84269416 -1.84593162 -1.87135931 -1.87874653 -1.80769015\n",
            " -1.86340003 -1.84857873 -1.85260024 -1.82078023 -1.84292789 -1.79348505\n",
            " -1.87110288 -1.84821096 -1.86998617 -1.87236723 -1.84809546 -1.84378023]\n"
          ]
        }
      ],
      "source": [
        "model_xgboost = XGBRegressor(objective='reg:squarederror')\n",
        "cv = RepeatedKFold(n_splits=10, n_repeats=3, random_state=1)\n",
        "n_scores2 = cross_val_score(model_xgboost, x_test, y_test, scoring='neg_mean_absolute_error', cv=cv, n_jobs=-1, error_score='raise')\n",
        "print(n_scores2)"
      ]
    },
    {
      "cell_type": "code",
      "execution_count": null,
      "metadata": {
        "id": "P9ZudaV2J6XI"
      },
      "outputs": [],
      "source": [
        "from sklearn.metrics import r2_score,mean_squared_error as MSE\n",
        "model_xgboost.fit(x_train, y_train)\n",
        "y_pred2 = model_xgboost.predict(x_test)\n",
        "r2 = r2_score(y_test, y_pred2)\n"
      ]
    },
    {
      "cell_type": "code",
      "execution_count": null,
      "metadata": {
        "colab": {
          "base_uri": "https://localhost:8080/"
        },
        "id": "_PoQuBnDE0E_",
        "outputId": "c54f45e9-e0c1-47f4-9454-6fae5c95262d"
      },
      "outputs": [
        {
          "output_type": "stream",
          "name": "stdout",
          "text": [
            " R²: 84.71%\n",
            "Erro médio absoluto (MAE): 1.85\n",
            "Erro médio quadrático (MSE): 6.50\n"
          ]
        }
      ],
      "source": [
        "# Calculando R² e erros.\n",
        "print(f\" R²: {(r2 * 100):.2f}%\") #R quadrado\n",
        "print(f\"Erro médio absoluto (MAE): {mean_absolute_error(y_test, y_pred2):.2f}\") #erro médio absoluto\n",
        "print(f\"Erro médio quadrático (MSE): {mean_squared_error(y_test, y_pred2):.2f}\") #erro médio quadrático"
      ]
    },
    {
      "cell_type": "code",
      "execution_count": null,
      "metadata": {
        "colab": {
          "base_uri": "https://localhost:8080/",
          "height": 299
        },
        "id": "869fT6XCIB03",
        "outputId": "a3739692-6448-4f34-e89b-1e071e4683cc"
      },
      "outputs": [
        {
          "output_type": "display_data",
          "data": {
            "text/plain": [
              "<Figure size 432x288 with 1 Axes>"
            ],
            "image/png": "[encoded data removed]"
          },
          "metadata": {}
        }
      ],
      "source": [
        "#Distribuição das previsões \n",
        "\n",
        "graph_old_knn = sns.regplot(x=y_test, y=y_pred2, \n",
        "                 scatter_kws={\"color\": \"purple\"}, line_kws={\"color\": \"springgreen\"}).set_title(\"Regressão Linear XGBoost \")\n",
        "\n",
        "plt.grid()\n",
        "plt.show()\n"
      ]
    },
    {
      "cell_type": "markdown",
      "metadata": {
        "id": "SyWA_2GDleoL"
      },
      "source": [
        "## 4.4.6 CATBOOST "
      ]
    },
    {
      "cell_type": "markdown",
      "metadata": {
        "id": "rtiKj-Wi1Cmt"
      },
      "source": [
        "### Importando as bibliotecas para o catboost regression"
      ]
    },
    {
      "cell_type": "code",
      "execution_count": null,
      "metadata": {
        "colab": {
          "base_uri": "https://localhost:8080/"
        },
        "id": "xv18ZxQT8bsJ",
        "outputId": "9446b738-1c57-405d-df3a-be77704961bb"
      },
      "outputs": [
        {
          "output_type": "stream",
          "name": "stdout",
          "text": [
            "Looking in indexes: https://pypi.org/simple, https://us-python.pkg.dev/colab-wheels/public/simple/\n",
            "Collecting catboost\n",
            "  Downloading catboost-1.1-cp37-none-manylinux1_x86_64.whl (76.8 MB)\n",
            "\u001b[K     |████████████████████████████████| 76.8 MB 1.4 MB/s \n",
            "\u001b[?25hRequirement already satisfied: scipy in /usr/local/lib/python3.7/dist-packages (from catboost) (1.7.3)\n",
            "Requirement already satisfied: six in /usr/local/lib/python3.7/dist-packages (from catboost) (1.15.0)\n",
            "Requirement already satisfied: matplotlib in /usr/local/lib/python3.7/dist-packages (from catboost) (3.2.2)\n",
            "Requirement already satisfied: plotly in /usr/local/lib/python3.7/dist-packages (from catboost) (5.5.0)\n",
            "Requirement already satisfied: numpy>=1.16.0 in /usr/local/lib/python3.7/dist-packages (from catboost) (1.21.6)\n",
            "Requirement already satisfied: graphviz in /usr/local/lib/python3.7/dist-packages (from catboost) (0.10.1)\n",
            "Requirement already satisfied: pandas>=0.24.0 in /usr/local/lib/python3.7/dist-packages (from catboost) (1.3.5)\n",
            "Requirement already satisfied: pytz>=2017.3 in /usr/local/lib/python3.7/dist-packages (from pandas>=0.24.0->catboost) (2022.2.1)\n",
            "Requirement already satisfied: python-dateutil>=2.7.3 in /usr/local/lib/python3.7/dist-packages (from pandas>=0.24.0->catboost) (2.8.2)\n",
            "Requirement already satisfied: cycler>=0.10 in /usr/local/lib/python3.7/dist-packages (from matplotlib->catboost) (0.11.0)\n",
            "Requirement already satisfied: kiwisolver>=1.0.1 in /usr/local/lib/python3.7/dist-packages (from matplotlib->catboost) (1.4.4)\n",
            "Requirement already satisfied: pyparsing!=2.0.4,!=2.1.2,!=2.1.6,>=2.0.1 in /usr/local/lib/python3.7/dist-packages (from matplotlib->catboost) (3.0.9)\n",
            "Requirement already satisfied: typing-extensions in /usr/local/lib/python3.7/dist-packages (from kiwisolver>=1.0.1->matplotlib->catboost) (4.1.1)\n",
            "Requirement already satisfied: tenacity>=6.2.0 in /usr/local/lib/python3.7/dist-packages (from plotly->catboost) (8.0.1)\n",
            "Installing collected packages: catboost\n",
            "Successfully installed catboost-1.1\n"
          ]
        }
      ],
      "source": [
        "!pip install catboost"
      ]
    },
    {
      "cell_type": "code",
      "execution_count": null,
      "metadata": {
        "colab": {
          "base_uri": "https://localhost:8080/"
        },
        "id": "0cuGZ2L28xkM",
        "outputId": "1a04344a-0a5c-4cec-b5d4-1ec1102251f6"
      },
      "outputs": [
        {
          "output_type": "stream",
          "name": "stdout",
          "text": [
            "Looking in indexes: https://pypi.org/simple, https://us-python.pkg.dev/colab-wheels/public/simple/\n",
            "Requirement already satisfied: ipywidgets in /usr/local/lib/python3.7/dist-packages (7.7.1)\n",
            "Requirement already satisfied: ipython-genutils~=0.2.0 in /usr/local/lib/python3.7/dist-packages (from ipywidgets) (0.2.0)\n",
            "Requirement already satisfied: traitlets>=4.3.1 in /usr/local/lib/python3.7/dist-packages (from ipywidgets) (5.1.1)\n",
            "Requirement already satisfied: widgetsnbextension~=3.6.0 in /usr/local/lib/python3.7/dist-packages (from ipywidgets) (3.6.1)\n",
            "Requirement already satisfied: jupyterlab-widgets>=1.0.0 in /usr/local/lib/python3.7/dist-packages (from ipywidgets) (3.0.3)\n",
            "Requirement already satisfied: ipykernel>=4.5.1 in /usr/local/lib/python3.7/dist-packages (from ipywidgets) (5.3.4)\n",
            "Requirement already satisfied: ipython>=4.0.0 in /usr/local/lib/python3.7/dist-packages (from ipywidgets) (7.9.0)\n",
            "Requirement already satisfied: tornado>=4.2 in /usr/local/lib/python3.7/dist-packages (from ipykernel>=4.5.1->ipywidgets) (5.1.1)\n",
            "Requirement already satisfied: jupyter-client in /usr/local/lib/python3.7/dist-packages (from ipykernel>=4.5.1->ipywidgets) (6.1.12)\n",
            "Requirement already satisfied: pickleshare in /usr/local/lib/python3.7/dist-packages (from ipython>=4.0.0->ipywidgets) (0.7.5)\n",
            "Requirement already satisfied: backcall in /usr/local/lib/python3.7/dist-packages (from ipython>=4.0.0->ipywidgets) (0.2.0)\n",
            "Requirement already satisfied: pexpect in /usr/local/lib/python3.7/dist-packages (from ipython>=4.0.0->ipywidgets) (4.8.0)\n",
            "Requirement already satisfied: prompt-toolkit<2.1.0,>=2.0.0 in /usr/local/lib/python3.7/dist-packages (from ipython>=4.0.0->ipywidgets) (2.0.10)\n",
            "Requirement already satisfied: pygments in /usr/local/lib/python3.7/dist-packages (from ipython>=4.0.0->ipywidgets) (2.6.1)\n",
            "Requirement already satisfied: decorator in /usr/local/lib/python3.7/dist-packages (from ipython>=4.0.0->ipywidgets) (4.4.2)\n",
            "Requirement already satisfied: setuptools>=18.5 in /usr/local/lib/python3.7/dist-packages (from ipython>=4.0.0->ipywidgets) (57.4.0)\n",
            "Collecting jedi>=0.10\n",
            "  Downloading jedi-0.18.1-py2.py3-none-any.whl (1.6 MB)\n",
            "\u001b[K     |████████████████████████████████| 1.6 MB 2.1 MB/s \n",
            "\u001b[?25hRequirement already satisfied: parso<0.9.0,>=0.8.0 in /usr/local/lib/python3.7/dist-packages (from jedi>=0.10->ipython>=4.0.0->ipywidgets) (0.8.3)\n",
            "Requirement already satisfied: wcwidth in /usr/local/lib/python3.7/dist-packages (from prompt-toolkit<2.1.0,>=2.0.0->ipython>=4.0.0->ipywidgets) (0.2.5)\n",
            "Requirement already satisfied: six>=1.9.0 in /usr/local/lib/python3.7/dist-packages (from prompt-toolkit<2.1.0,>=2.0.0->ipython>=4.0.0->ipywidgets) (1.15.0)\n",
            "Requirement already satisfied: notebook>=4.4.1 in /usr/local/lib/python3.7/dist-packages (from widgetsnbextension~=3.6.0->ipywidgets) (5.3.1)\n",
            "Requirement already satisfied: jinja2 in /usr/local/lib/python3.7/dist-packages (from notebook>=4.4.1->widgetsnbextension~=3.6.0->ipywidgets) (2.11.3)\n",
            "Requirement already satisfied: jupyter-core>=4.4.0 in /usr/local/lib/python3.7/dist-packages (from notebook>=4.4.1->widgetsnbextension~=3.6.0->ipywidgets) (4.11.1)\n",
            "Requirement already satisfied: nbconvert in /usr/local/lib/python3.7/dist-packages (from notebook>=4.4.1->widgetsnbextension~=3.6.0->ipywidgets) (5.6.1)\n",
            "Requirement already satisfied: nbformat in /usr/local/lib/python3.7/dist-packages (from notebook>=4.4.1->widgetsnbextension~=3.6.0->ipywidgets) (5.4.0)\n",
            "Requirement already satisfied: terminado>=0.8.1 in /usr/local/lib/python3.7/dist-packages (from notebook>=4.4.1->widgetsnbextension~=3.6.0->ipywidgets) (0.13.3)\n",
            "Requirement already satisfied: Send2Trash in /usr/local/lib/python3.7/dist-packages (from notebook>=4.4.1->widgetsnbextension~=3.6.0->ipywidgets) (1.8.0)\n",
            "Requirement already satisfied: python-dateutil>=2.1 in /usr/local/lib/python3.7/dist-packages (from jupyter-client->ipykernel>=4.5.1->ipywidgets) (2.8.2)\n",
            "Requirement already satisfied: pyzmq>=13 in /usr/local/lib/python3.7/dist-packages (from jupyter-client->ipykernel>=4.5.1->ipywidgets) (23.2.1)\n",
            "Requirement already satisfied: ptyprocess in /usr/local/lib/python3.7/dist-packages (from terminado>=0.8.1->notebook>=4.4.1->widgetsnbextension~=3.6.0->ipywidgets) (0.7.0)\n",
            "Requirement already satisfied: MarkupSafe>=0.23 in /usr/local/lib/python3.7/dist-packages (from jinja2->notebook>=4.4.1->widgetsnbextension~=3.6.0->ipywidgets) (2.0.1)\n",
            "Requirement already satisfied: entrypoints>=0.2.2 in /usr/local/lib/python3.7/dist-packages (from nbconvert->notebook>=4.4.1->widgetsnbextension~=3.6.0->ipywidgets) (0.4)\n",
            "Requirement already satisfied: defusedxml in /usr/local/lib/python3.7/dist-packages (from nbconvert->notebook>=4.4.1->widgetsnbextension~=3.6.0->ipywidgets) (0.7.1)\n",
            "Requirement already satisfied: testpath in /usr/local/lib/python3.7/dist-packages (from nbconvert->notebook>=4.4.1->widgetsnbextension~=3.6.0->ipywidgets) (0.6.0)\n",
            "Requirement already satisfied: bleach in /usr/local/lib/python3.7/dist-packages (from nbconvert->notebook>=4.4.1->widgetsnbextension~=3.6.0->ipywidgets) (5.0.1)\n",
            "Requirement already satisfied: mistune<2,>=0.8.1 in /usr/local/lib/python3.7/dist-packages (from nbconvert->notebook>=4.4.1->widgetsnbextension~=3.6.0->ipywidgets) (0.8.4)\n",
            "Requirement already satisfied: pandocfilters>=1.4.1 in /usr/local/lib/python3.7/dist-packages (from nbconvert->notebook>=4.4.1->widgetsnbextension~=3.6.0->ipywidgets) (1.5.0)\n",
            "Requirement already satisfied: fastjsonschema in /usr/local/lib/python3.7/dist-packages (from nbformat->notebook>=4.4.1->widgetsnbextension~=3.6.0->ipywidgets) (2.16.1)\n",
            "Requirement already satisfied: jsonschema>=2.6 in /usr/local/lib/python3.7/dist-packages (from nbformat->notebook>=4.4.1->widgetsnbextension~=3.6.0->ipywidgets) (4.3.3)\n",
            "Requirement already satisfied: typing-extensions in /usr/local/lib/python3.7/dist-packages (from jsonschema>=2.6->nbformat->notebook>=4.4.1->widgetsnbextension~=3.6.0->ipywidgets) (4.1.1)\n",
            "Requirement already satisfied: importlib-resources>=1.4.0 in /usr/local/lib/python3.7/dist-packages (from jsonschema>=2.6->nbformat->notebook>=4.4.1->widgetsnbextension~=3.6.0->ipywidgets) (5.9.0)\n",
            "Requirement already satisfied: attrs>=17.4.0 in /usr/local/lib/python3.7/dist-packages (from jsonschema>=2.6->nbformat->notebook>=4.4.1->widgetsnbextension~=3.6.0->ipywidgets) (22.1.0)\n",
            "Requirement already satisfied: importlib-metadata in /usr/local/lib/python3.7/dist-packages (from jsonschema>=2.6->nbformat->notebook>=4.4.1->widgetsnbextension~=3.6.0->ipywidgets) (4.12.0)\n",
            "Requirement already satisfied: pyrsistent!=0.17.0,!=0.17.1,!=0.17.2,>=0.14.0 in /usr/local/lib/python3.7/dist-packages (from jsonschema>=2.6->nbformat->notebook>=4.4.1->widgetsnbextension~=3.6.0->ipywidgets) (0.18.1)\n",
            "Requirement already satisfied: zipp>=3.1.0 in /usr/local/lib/python3.7/dist-packages (from importlib-resources>=1.4.0->jsonschema>=2.6->nbformat->notebook>=4.4.1->widgetsnbextension~=3.6.0->ipywidgets) (3.8.1)\n",
            "Requirement already satisfied: webencodings in /usr/local/lib/python3.7/dist-packages (from bleach->nbconvert->notebook>=4.4.1->widgetsnbextension~=3.6.0->ipywidgets) (0.5.1)\n",
            "Installing collected packages: jedi\n",
            "Successfully installed jedi-0.18.1\n"
          ]
        }
      ],
      "source": [
        "!pip install ipywidgets"
      ]
    },
    {
      "cell_type": "code",
      "execution_count": null,
      "metadata": {
        "colab": {
          "base_uri": "https://localhost:8080/"
        },
        "id": "JR0anTof9AaU",
        "outputId": "d392adc6-ad17-4695-af68-8bcfcb9c8a38"
      },
      "outputs": [
        {
          "output_type": "stream",
          "name": "stdout",
          "text": [
            "Enabling notebook extension jupyter-js-widgets/extension...\n",
            "Paths used for configuration of notebook: \n",
            "    \t/root/.jupyter/nbconfig/notebook.json\n",
            "      - Validating: \u001b[32mOK\u001b[0m\n",
            "Paths used for configuration of notebook: \n",
            "    \t/root/.jupyter/nbconfig/notebook.json\n"
          ]
        }
      ],
      "source": [
        "!jupyter nbextension enable --py widgetsnbextension"
      ]
    },
    {
      "cell_type": "code",
      "execution_count": null,
      "metadata": {
        "id": "j1NkYzZY1P9N"
      },
      "outputs": [],
      "source": [
        "from numpy import mean\n",
        "from numpy import std\n",
        "from sklearn import metrics\n",
        "from sklearn.datasets import make_regression\n",
        "from catboost import CatBoostRegressor\n",
        "from sklearn.model_selection import cross_val_score\n",
        "from sklearn.model_selection import RepeatedKFold\n",
        "from matplotlib import pyplot"
      ]
    },
    {
      "cell_type": "markdown",
      "metadata": {
        "id": "8LFwvxaf77jI"
      },
      "source": [
        "### Executando o modelo"
      ]
    },
    {
      "cell_type": "code",
      "execution_count": null,
      "metadata": {
        "colab": {
          "base_uri": "https://localhost:8080/"
        },
        "id": "rH-sb66t7m25",
        "outputId": "8ecb3110-0f4f-4921-afcc-4c64a16fed30"
      },
      "outputs": [
        {
          "output_type": "stream",
          "name": "stdout",
          "text": [
            "MAE: -1.424 (0.013)\n"
          ]
        }
      ],
      "source": [
        "model = CatBoostRegressor(verbose=0, n_estimators=100)\n",
        "cv = RepeatedKFold(n_splits=10, n_repeats=3, random_state=1)\n",
        "n_scores = cross_val_score(model, x_train, y_train, scoring='neg_mean_absolute_error', cv=cv, n_jobs=-1, error_score='raise')\n",
        "print('MAE: %.3f (%.3f)' % (mean(n_scores), std(n_scores)))"
      ]
    },
    {
      "cell_type": "code",
      "execution_count": null,
      "metadata": {
        "colab": {
          "base_uri": "https://localhost:8080/"
        },
        "id": "ED-7-WAl7z8M",
        "outputId": "a26e3858-16a9-46b0-bca8-076328d517eb"
      },
      "outputs": [
        {
          "output_type": "execute_result",
          "data": {
            "text/plain": [
              "<catboost.core.CatBoostRegressor at 0x7f4cd28183d0>"
            ]
          },
          "metadata": {},
          "execution_count": 71
        }
      ],
      "source": [
        "#Criando o fit no dataset inteiro\n",
        "model = CatBoostRegressor(verbose=0, n_estimators=100)\n",
        "model.fit(x_train, y_train)"
      ]
    },
    {
      "cell_type": "code",
      "execution_count": null,
      "metadata": {
        "id": "ZE7A07bJER8X"
      },
      "outputs": [],
      "source": [
        "# Fazendo a predição\n",
        "y_pred_catBoost = model.predict(x_test)"
      ]
    },
    {
      "cell_type": "code",
      "execution_count": null,
      "metadata": {
        "colab": {
          "base_uri": "https://localhost:8080/"
        },
        "id": "MBr1PUr4BuHE",
        "outputId": "a4ebefc7-017e-4172-c3fd-01f6bdc055c3"
      },
      "outputs": [
        {
          "output_type": "stream",
          "name": "stdout",
          "text": [
            " R²: 91.55%\n",
            "Erro médio absoluto (MAE): 1.42\n",
            "Erro médio quadrático (MSE): 3.59\n"
          ]
        }
      ],
      "source": [
        "# Calculando R² e erros.\n",
        "print(f\" R²: {(metrics.r2_score(y_test, y_pred_catBoost) * 100):.2f}%\") #R quadrado\n",
        "print(f\"Erro médio absoluto (MAE): {mean_absolute_error(y_test, y_pred_catBoost):.2f}\") #erro médio absoluto\n",
        "print(f\"Erro médio quadrático (MSE): {mean_squared_error(y_test, y_pred_catBoost):.2f}\") #erro médio quadrático\n"
      ]
    },
    {
      "cell_type": "code",
      "execution_count": null,
      "metadata": {
        "colab": {
          "base_uri": "https://localhost:8080/",
          "height": 296
        },
        "id": "yt74_T77JUVD",
        "outputId": "66a3f2e2-7600-4371-ebed-7cb5486d37e9"
      },
      "outputs": [
        {
          "output_type": "display_data",
          "data": {
            "text/plain": [
              "<Figure size 432x288 with 1 Axes>"
            ],
            "image/png": "[encoded data removed]"
          },
          "metadata": {
            "needs_background": "light"
          }
        }
      ],
      "source": [
        "#Distribuição das previsões \n",
        "\n",
        "graph_CatBoost = sns.regplot(x=y_test, y=y_pred_catBoost, \n",
        "                 scatter_kws={\"color\": \"purple\"}, line_kws={\"color\": \"springgreen\"}).set_title(\"Regressão Linear Cat Boost \")\n",
        "\n",
        "plt.show()"
      ]
    },
    {
      "cell_type": "markdown",
      "metadata": {
        "id": "4xcrmoTLmLR_"
      },
      "source": [
        "## 4.4.7 Gradient Boosting"
      ]
    },
    {
      "cell_type": "markdown",
      "metadata": {
        "id": "ezKn8e7nmqwz"
      },
      "source": [
        "### Executando o modelo\n"
      ]
    },
    {
      "cell_type": "code",
      "execution_count": null,
      "metadata": {
        "id": "6X4i92wI5Cc4"
      },
      "outputs": [],
      "source": [
        "# gradient boosting for regression in scikit-learn\n",
        "from numpy import mean\n",
        "from numpy import std\n",
        "from sklearn.datasets import make_regression\n",
        "from sklearn.ensemble import GradientBoostingRegressor\n",
        "from sklearn.model_selection import cross_val_score\n",
        "from sklearn.model_selection import RepeatedKFold\n",
        "from matplotlib import pyplot\n",
        "from sklearn import metrics\n",
        "from sklearn.metrics import mean_absolute_error,mean_squared_error\n"
      ]
    },
    {
      "cell_type": "code",
      "execution_count": null,
      "metadata": {
        "colab": {
          "base_uri": "https://localhost:8080/"
        },
        "id": "hiEH0Iif5Tyt",
        "outputId": "d2a1708e-7d0a-485a-d5c5-57a22b1f20c6"
      },
      "outputs": [
        {
          "output_type": "stream",
          "name": "stdout",
          "text": [
            "MAE: -1.857 (0.015)\n"
          ]
        }
      ],
      "source": [
        "# executando o modelo\n",
        "model = GradientBoostingRegressor()\n",
        "cv = RepeatedKFold(n_splits=10, n_repeats=3, random_state=1)\n",
        "n_scores = cross_val_score(model, x_train, y_train, scoring='neg_mean_absolute_error', cv=cv, n_jobs=-1, error_score='raise')\n",
        "print('MAE: %.3f (%.3f)' % (mean(n_scores), std(n_scores)))"
      ]
    },
    {
      "cell_type": "code",
      "execution_count": null,
      "metadata": {
        "id": "TzCEM4rt-Rus"
      },
      "outputs": [],
      "source": [
        "# fazendo o fit com o dataset\n",
        "model = GradientBoostingRegressor()\n",
        "gbr = model.fit(x_train, y_train)"
      ]
    },
    {
      "cell_type": "code",
      "execution_count": null,
      "metadata": {
        "id": "xtuaA8yh_ITp"
      },
      "outputs": [],
      "source": [
        "#calculando o y_pred\n",
        "y_pred_gbr = gbr.predict(x_test)"
      ]
    },
    {
      "cell_type": "code",
      "execution_count": null,
      "metadata": {
        "colab": {
          "base_uri": "https://localhost:8080/"
        },
        "id": "oOLM6jv9C1Hk",
        "outputId": "0985ff2b-7c39-4487-d0d9-065bc2ae9bdd"
      },
      "outputs": [
        {
          "output_type": "stream",
          "name": "stdout",
          "text": [
            " R²: 84.71%\n",
            "Erro médio absoluto (MAE): 1.85\n",
            "Erro médio quadrático (MSE): 6.50\n"
          ]
        }
      ],
      "source": [
        "# Calculando R² e erros.\n",
        "print(f\" R²: {(metrics.r2_score(y_test, y_pred_gbr) * 100):.2f}%\") #R quadrado\n",
        "print(f\"Erro médio absoluto (MAE): {mean_absolute_error(y_test, y_pred_gbr):.2f}\") #erro médio absoluto\n",
        "print(f\"Erro médio quadrático (MSE): {mean_squared_error(y_test, y_pred_gbr):.2f}\") #erro médio quadrático"
      ]
    },
    {
      "cell_type": "code",
      "execution_count": null,
      "metadata": {
        "colab": {
          "base_uri": "https://localhost:8080/",
          "height": 296
        },
        "id": "1BWWEdzcsWzX",
        "outputId": "394cbd02-5dcb-4291-97ba-649ef2574d58"
      },
      "outputs": [
        {
          "output_type": "display_data",
          "data": {
            "text/plain": [
              "<Figure size 432x288 with 1 Axes>"
            ],
            "image/png": "[encoded data removed]"
          },
          "metadata": {
            "needs_background": "light"
          }
        }
      ],
      "source": [
        "#Distribuição das previsões \n",
        "\n",
        "graph_GradientBoosting = sns.regplot(x=y_test, y=y_pred_gbr, \n",
        "                 scatter_kws={\"color\": \"purple\"}, line_kws={\"color\": \"springgreen\"}).set_title(\"Regressão Linear Gradient Boosting \")\n",
        "\n",
        "plt.show()"
      ]
    },
    {
      "cell_type": "markdown",
      "metadata": {
        "id": "8wbz-zs0m1OG"
      },
      "source": [
        "## 4.4.8 Histogram Gradient Boosting"
      ]
    },
    {
      "cell_type": "markdown",
      "metadata": {
        "id": "06_VFwU3CLE6"
      },
      "source": [
        "### Executando o modelo"
      ]
    },
    {
      "cell_type": "code",
      "execution_count": null,
      "metadata": {
        "id": "ylpk7nCu5gqQ"
      },
      "outputs": [],
      "source": [
        "#importando bibliotecas\n",
        "from numpy import mean\n",
        "from numpy import std\n",
        "from sklearn.datasets import make_regression\n",
        "from sklearn.experimental import enable_hist_gradient_boosting\n",
        "from sklearn.ensemble import HistGradientBoostingRegressor\n",
        "from sklearn.model_selection import cross_val_score\n",
        "from sklearn.model_selection import RepeatedKFold\n",
        "from matplotlib import pyplot\n",
        "from sklearn import metrics\n"
      ]
    },
    {
      "cell_type": "code",
      "execution_count": null,
      "metadata": {
        "colab": {
          "base_uri": "https://localhost:8080/"
        },
        "id": "PIym4VX365oJ",
        "outputId": "a0761734-120c-4589-cff2-1a80a4380c39"
      },
      "outputs": [
        {
          "output_type": "stream",
          "name": "stdout",
          "text": [
            "MAE: -1.471 (0.010)\n"
          ]
        }
      ],
      "source": [
        "# calculando o erro médio absoluto\n",
        "model = HistGradientBoostingRegressor()\n",
        "cv = RepeatedKFold(n_splits=10, n_repeats=3, random_state=1)\n",
        "n_scores = cross_val_score(model, x_train, y_train, scoring='neg_mean_absolute_error', cv=cv, n_jobs=-1, error_score='raise')\n",
        "print('MAE: %.3f (%.3f)' % (mean(n_scores), std(n_scores)))"
      ]
    },
    {
      "cell_type": "code",
      "execution_count": null,
      "metadata": {
        "colab": {
          "base_uri": "https://localhost:8080/"
        },
        "id": "0OXc8tq77tlc",
        "outputId": "221cb0c0-c1ce-44c9-abee-ac6518ac6c91"
      },
      "outputs": [
        {
          "output_type": "execute_result",
          "data": {
            "text/plain": [
              "HistGradientBoostingRegressor()"
            ]
          },
          "metadata": {},
          "execution_count": 83
        }
      ],
      "source": [
        "# fazendo o fit com o dataset inteiro\n",
        "model = HistGradientBoostingRegressor()\n",
        "model.fit(x_test, y_test)"
      ]
    },
    {
      "cell_type": "code",
      "execution_count": null,
      "metadata": {
        "id": "xuOOkiZp8LuD"
      },
      "outputs": [],
      "source": [
        "#fazendo do predição\n",
        "y_pred_model = model.predict(x_test)"
      ]
    },
    {
      "cell_type": "code",
      "execution_count": null,
      "metadata": {
        "colab": {
          "base_uri": "https://localhost:8080/"
        },
        "id": "yle_EFOZDSeg",
        "outputId": "95f2fd8d-5115-449e-dfa7-db2276c996ea"
      },
      "outputs": [
        {
          "output_type": "stream",
          "name": "stdout",
          "text": [
            " R²: 91.32%\n",
            "Erro médio absoluto (MAE): 1.44\n",
            "Erro médio quadrático (MSE): 3.69\n"
          ]
        }
      ],
      "source": [
        "from sklearn import metrics\n",
        "from sklearn.metrics import r2_score\n",
        "from sklearn.metrics import mean_absolute_error\n",
        "from sklearn.metrics import mean_squared_error\n",
        "from math import sqrt\n",
        "\n",
        "# Calculando R² e erros.\n",
        "print(f\" R²: {(metrics.r2_score(y_test, y_pred_model) * 100):.2f}%\") #R quadrado\n",
        "print(f\"Erro médio absoluto (MAE): {mean_absolute_error(y_test, y_pred_model):.2f}\") #erro médio absoluto\n",
        "print(f\"Erro médio quadrático (MSE): {mean_squared_error(y_test, y_pred_model):.2f}\") #erro médio quadrático"
      ]
    },
    {
      "cell_type": "code",
      "execution_count": null,
      "metadata": {
        "colab": {
          "base_uri": "https://localhost:8080/",
          "height": 296
        },
        "id": "TIJIHOr5vJwJ",
        "outputId": "76e1d940-ea4b-4d38-c29f-d052a3c3f40d"
      },
      "outputs": [
        {
          "output_type": "display_data",
          "data": {
            "text/plain": [
              "<Figure size 432x288 with 1 Axes>"
            ],
            "image/png": "[encoded data removed]"
          },
          "metadata": {
            "needs_background": "light"
          }
        }
      ],
      "source": [
        "#Distribuição das previsões \n",
        "\n",
        "graph_HistogramBoosting = sns.regplot(x=y_test, y=y_pred_model, \n",
        "                 scatter_kws={\"color\": \"purple\"}, line_kws={\"color\": \"springgreen\"}).set_title(\"Regressão Linear Histogram Gradient Boosting\")\n",
        "\n",
        "plt.show()"
      ]
    },
    {
      "cell_type": "markdown",
      "metadata": {
        "id": "0RxcVKZOXOSn"
      },
      "source": [
        "## 4.4.9 LightGBM"
      ]
    },
    {
      "cell_type": "code",
      "execution_count": null,
      "metadata": {
        "id": "-xs8VyV2XOSo"
      },
      "outputs": [],
      "source": [
        "from sklearn import datasets\n",
        "from sklearn import metrics\n",
        "from sklearn.model_selection import train_test_split\n",
        "from lightgbm.sklearn import LGBMRegressor\n",
        "import lightgbm as lgb\n",
        "from sklearn.multioutput import MultiOutputRegressor\n",
        "import matplotlib.pyplot as plt\n",
        "import seaborn as sns\n",
        "import pandas as pd\n",
        "\n",
        "plt.style.use('ggplot')\n",
        "\n",
        "import lightgbm as ltb"
      ]
    },
    {
      "cell_type": "code",
      "execution_count": null,
      "metadata": {
        "id": "qatO8yEZmYjb"
      },
      "outputs": [],
      "source": [
        "hyper_params = {\n",
        "    'task': 'train', #função\n",
        "    'boosting_type': 'gbdt', #tipo da regressão (gbdt, rf, dart, goss)\n",
        "    'objective': 'regression', #tipo do modelo\n",
        "    'metric': ['l1','l2','rmse'], #erro médio quadrático e erro médio absoluto\n",
        "    'learning_rate': 0.04, #velocidade do aprendizado\n",
        "    'feature_fraction': 1, #porcentagem do dataframe a ser utilizado\n",
        "    'verbose': 0, #usado para retirar possíveis bugs existentes (debug)\n",
        "    \"max_depth\": 60, #limita o tamanho de cada árvore\n",
        "    \"num_leaves\": 2048, #limita o número de folhas que cada árvore pode ter\n",
        "    \"num_iterations\": 5_000, #quantidade de tentativas\n",
        "}"
      ]
    },
    {
      "cell_type": "code",
      "execution_count": null,
      "metadata": {
        "colab": {
          "base_uri": "https://localhost:8080/"
        },
        "id": "71yoUuOrXxlu",
        "outputId": "1d9fa4bf-2a9e-40c7-9225-cde12c563500"
      },
      "outputs": [
        {
          "output_type": "stream",
          "name": "stdout",
          "text": [
            "Training until validation scores don't improve for 100 rounds.\n",
            "[10]\tvalid_0's l2: 20.4805\tvalid_0's rmse: 4.52553\tvalid_0's l1: 3.61219\n",
            "[20]\tvalid_0's l2: 10.5714\tvalid_0's rmse: 3.25137\tvalid_0's l1: 2.57994\n",
            "[30]\tvalid_0's l2: 6.03988\tvalid_0's rmse: 2.45762\tvalid_0's l1: 1.92956\n",
            "[40]\tvalid_0's l2: 3.89074\tvalid_0's rmse: 1.9725\tvalid_0's l1: 1.52988\n",
            "[50]\tvalid_0's l2: 2.82441\tvalid_0's rmse: 1.6806\tvalid_0's l1: 1.28875\n",
            "[60]\tvalid_0's l2: 2.25052\tvalid_0's rmse: 1.50017\tvalid_0's l1: 1.14051\n",
            "[70]\tvalid_0's l2: 1.9015\tvalid_0's rmse: 1.37895\tvalid_0's l1: 1.04098\n",
            "[80]\tvalid_0's l2: 1.67544\tvalid_0's rmse: 1.29439\tvalid_0's l1: 0.972488\n",
            "[90]\tvalid_0's l2: 1.51617\tvalid_0's rmse: 1.23133\tvalid_0's l1: 0.921426\n",
            "[100]\tvalid_0's l2: 1.38775\tvalid_0's rmse: 1.17803\tvalid_0's l1: 0.879456\n",
            "[110]\tvalid_0's l2: 1.28601\tvalid_0's rmse: 1.13402\tvalid_0's l1: 0.845163\n",
            "[120]\tvalid_0's l2: 1.20967\tvalid_0's rmse: 1.09985\tvalid_0's l1: 0.81857\n",
            "[130]\tvalid_0's l2: 1.14628\tvalid_0's rmse: 1.07064\tvalid_0's l1: 0.795598\n",
            "[140]\tvalid_0's l2: 1.09442\tvalid_0's rmse: 1.04615\tvalid_0's l1: 0.775034\n",
            "[150]\tvalid_0's l2: 1.05101\tvalid_0's rmse: 1.02519\tvalid_0's l1: 0.758627\n",
            "[160]\tvalid_0's l2: 1.01418\tvalid_0's rmse: 1.00706\tvalid_0's l1: 0.74476\n",
            "[170]\tvalid_0's l2: 0.982676\tvalid_0's rmse: 0.9913\tvalid_0's l1: 0.731512\n",
            "[180]\tvalid_0's l2: 0.957292\tvalid_0's rmse: 0.978413\tvalid_0's l1: 0.719854\n",
            "[190]\tvalid_0's l2: 0.933574\tvalid_0's rmse: 0.966216\tvalid_0's l1: 0.709508\n",
            "[200]\tvalid_0's l2: 0.914596\tvalid_0's rmse: 0.956345\tvalid_0's l1: 0.701556\n",
            "[210]\tvalid_0's l2: 0.897744\tvalid_0's rmse: 0.947493\tvalid_0's l1: 0.693367\n",
            "[220]\tvalid_0's l2: 0.882799\tvalid_0's rmse: 0.939574\tvalid_0's l1: 0.686424\n",
            "[230]\tvalid_0's l2: 0.868955\tvalid_0's rmse: 0.932178\tvalid_0's l1: 0.680034\n",
            "[240]\tvalid_0's l2: 0.857425\tvalid_0's rmse: 0.925973\tvalid_0's l1: 0.674299\n",
            "[250]\tvalid_0's l2: 0.845827\tvalid_0's rmse: 0.919689\tvalid_0's l1: 0.668999\n",
            "[260]\tvalid_0's l2: 0.834468\tvalid_0's rmse: 0.913492\tvalid_0's l1: 0.66399\n",
            "[270]\tvalid_0's l2: 0.823985\tvalid_0's rmse: 0.907736\tvalid_0's l1: 0.659166\n",
            "[280]\tvalid_0's l2: 0.814642\tvalid_0's rmse: 0.902575\tvalid_0's l1: 0.654711\n",
            "[290]\tvalid_0's l2: 0.806636\tvalid_0's rmse: 0.898129\tvalid_0's l1: 0.650811\n",
            "[300]\tvalid_0's l2: 0.798701\tvalid_0's rmse: 0.893701\tvalid_0's l1: 0.646845\n",
            "[310]\tvalid_0's l2: 0.791395\tvalid_0's rmse: 0.889604\tvalid_0's l1: 0.643294\n",
            "[320]\tvalid_0's l2: 0.784092\tvalid_0's rmse: 0.88549\tvalid_0's l1: 0.639852\n",
            "[330]\tvalid_0's l2: 0.776713\tvalid_0's rmse: 0.881313\tvalid_0's l1: 0.636284\n",
            "[340]\tvalid_0's l2: 0.770244\tvalid_0's rmse: 0.877635\tvalid_0's l1: 0.633154\n",
            "[350]\tvalid_0's l2: 0.76424\tvalid_0's rmse: 0.874208\tvalid_0's l1: 0.630208\n",
            "[360]\tvalid_0's l2: 0.758514\tvalid_0's rmse: 0.870927\tvalid_0's l1: 0.627388\n",
            "[370]\tvalid_0's l2: 0.753052\tvalid_0's rmse: 0.867786\tvalid_0's l1: 0.624581\n",
            "[380]\tvalid_0's l2: 0.747605\tvalid_0's rmse: 0.864642\tvalid_0's l1: 0.621866\n",
            "[390]\tvalid_0's l2: 0.742686\tvalid_0's rmse: 0.861792\tvalid_0's l1: 0.619346\n",
            "[400]\tvalid_0's l2: 0.737908\tvalid_0's rmse: 0.859016\tvalid_0's l1: 0.617064\n",
            "[410]\tvalid_0's l2: 0.73332\tvalid_0's rmse: 0.856341\tvalid_0's l1: 0.614799\n",
            "[420]\tvalid_0's l2: 0.728815\tvalid_0's rmse: 0.853706\tvalid_0's l1: 0.612612\n",
            "[430]\tvalid_0's l2: 0.724505\tvalid_0's rmse: 0.851179\tvalid_0's l1: 0.610466\n",
            "[440]\tvalid_0's l2: 0.721246\tvalid_0's rmse: 0.849262\tvalid_0's l1: 0.60879\n",
            "[450]\tvalid_0's l2: 0.717629\tvalid_0's rmse: 0.84713\tvalid_0's l1: 0.60693\n",
            "[460]\tvalid_0's l2: 0.714302\tvalid_0's rmse: 0.845164\tvalid_0's l1: 0.605336\n",
            "[470]\tvalid_0's l2: 0.710832\tvalid_0's rmse: 0.843109\tvalid_0's l1: 0.603522\n",
            "[480]\tvalid_0's l2: 0.707676\tvalid_0's rmse: 0.841235\tvalid_0's l1: 0.601811\n",
            "[490]\tvalid_0's l2: 0.704501\tvalid_0's rmse: 0.839346\tvalid_0's l1: 0.600105\n",
            "[500]\tvalid_0's l2: 0.701991\tvalid_0's rmse: 0.837849\tvalid_0's l1: 0.598753\n",
            "[510]\tvalid_0's l2: 0.699218\tvalid_0's rmse: 0.836193\tvalid_0's l1: 0.59713\n",
            "[520]\tvalid_0's l2: 0.696567\tvalid_0's rmse: 0.834606\tvalid_0's l1: 0.595607\n",
            "[530]\tvalid_0's l2: 0.694169\tvalid_0's rmse: 0.833168\tvalid_0's l1: 0.594262\n",
            "[540]\tvalid_0's l2: 0.691841\tvalid_0's rmse: 0.83177\tvalid_0's l1: 0.592978\n",
            "[550]\tvalid_0's l2: 0.6895\tvalid_0's rmse: 0.830361\tvalid_0's l1: 0.591702\n",
            "[560]\tvalid_0's l2: 0.687619\tvalid_0's rmse: 0.829228\tvalid_0's l1: 0.59057\n",
            "[570]\tvalid_0's l2: 0.68537\tvalid_0's rmse: 0.827871\tvalid_0's l1: 0.589257\n",
            "[580]\tvalid_0's l2: 0.683256\tvalid_0's rmse: 0.826593\tvalid_0's l1: 0.587999\n",
            "[590]\tvalid_0's l2: 0.681325\tvalid_0's rmse: 0.825424\tvalid_0's l1: 0.586829\n",
            "[600]\tvalid_0's l2: 0.679164\tvalid_0's rmse: 0.824114\tvalid_0's l1: 0.585596\n",
            "[610]\tvalid_0's l2: 0.677318\tvalid_0's rmse: 0.822994\tvalid_0's l1: 0.584528\n",
            "[620]\tvalid_0's l2: 0.675572\tvalid_0's rmse: 0.821932\tvalid_0's l1: 0.583505\n",
            "[630]\tvalid_0's l2: 0.673907\tvalid_0's rmse: 0.820918\tvalid_0's l1: 0.582495\n",
            "[640]\tvalid_0's l2: 0.672432\tvalid_0's rmse: 0.820019\tvalid_0's l1: 0.581545\n",
            "[650]\tvalid_0's l2: 0.670663\tvalid_0's rmse: 0.81894\tvalid_0's l1: 0.580571\n",
            "[660]\tvalid_0's l2: 0.669048\tvalid_0's rmse: 0.817954\tvalid_0's l1: 0.579583\n",
            "[670]\tvalid_0's l2: 0.667726\tvalid_0's rmse: 0.817145\tvalid_0's l1: 0.57878\n",
            "[680]\tvalid_0's l2: 0.666223\tvalid_0's rmse: 0.816225\tvalid_0's l1: 0.577872\n",
            "[690]\tvalid_0's l2: 0.664871\tvalid_0's rmse: 0.815396\tvalid_0's l1: 0.577112\n",
            "[700]\tvalid_0's l2: 0.663659\tvalid_0's rmse: 0.814653\tvalid_0's l1: 0.576362\n",
            "[710]\tvalid_0's l2: 0.66216\tvalid_0's rmse: 0.813732\tvalid_0's l1: 0.575446\n",
            "[720]\tvalid_0's l2: 0.660941\tvalid_0's rmse: 0.812983\tvalid_0's l1: 0.574696\n",
            "[730]\tvalid_0's l2: 0.659879\tvalid_0's rmse: 0.812329\tvalid_0's l1: 0.574014\n",
            "[740]\tvalid_0's l2: 0.658826\tvalid_0's rmse: 0.811681\tvalid_0's l1: 0.573352\n",
            "[750]\tvalid_0's l2: 0.657724\tvalid_0's rmse: 0.811002\tvalid_0's l1: 0.572668\n",
            "[760]\tvalid_0's l2: 0.656694\tvalid_0's rmse: 0.810367\tvalid_0's l1: 0.572007\n",
            "[770]\tvalid_0's l2: 0.655647\tvalid_0's rmse: 0.80972\tvalid_0's l1: 0.571284\n",
            "[780]\tvalid_0's l2: 0.654781\tvalid_0's rmse: 0.809185\tvalid_0's l1: 0.570664\n",
            "[790]\tvalid_0's l2: 0.653823\tvalid_0's rmse: 0.808593\tvalid_0's l1: 0.570043\n",
            "[800]\tvalid_0's l2: 0.652975\tvalid_0's rmse: 0.808069\tvalid_0's l1: 0.569493\n",
            "[810]\tvalid_0's l2: 0.652229\tvalid_0's rmse: 0.807607\tvalid_0's l1: 0.568966\n",
            "[820]\tvalid_0's l2: 0.651244\tvalid_0's rmse: 0.806997\tvalid_0's l1: 0.568313\n",
            "[830]\tvalid_0's l2: 0.650448\tvalid_0's rmse: 0.806504\tvalid_0's l1: 0.567744\n",
            "[840]\tvalid_0's l2: 0.649737\tvalid_0's rmse: 0.806063\tvalid_0's l1: 0.567267\n",
            "[850]\tvalid_0's l2: 0.64915\tvalid_0's rmse: 0.805698\tvalid_0's l1: 0.566812\n",
            "[860]\tvalid_0's l2: 0.648496\tvalid_0's rmse: 0.805292\tvalid_0's l1: 0.566321\n",
            "[870]\tvalid_0's l2: 0.647835\tvalid_0's rmse: 0.804882\tvalid_0's l1: 0.56583\n",
            "[880]\tvalid_0's l2: 0.647139\tvalid_0's rmse: 0.80445\tvalid_0's l1: 0.565347\n",
            "[890]\tvalid_0's l2: 0.646544\tvalid_0's rmse: 0.80408\tvalid_0's l1: 0.564894\n",
            "[900]\tvalid_0's l2: 0.645811\tvalid_0's rmse: 0.803623\tvalid_0's l1: 0.564373\n",
            "[910]\tvalid_0's l2: 0.645056\tvalid_0's rmse: 0.803154\tvalid_0's l1: 0.563886\n",
            "[920]\tvalid_0's l2: 0.644407\tvalid_0's rmse: 0.80275\tvalid_0's l1: 0.563387\n",
            "[930]\tvalid_0's l2: 0.643921\tvalid_0's rmse: 0.802447\tvalid_0's l1: 0.562977\n",
            "[940]\tvalid_0's l2: 0.64335\tvalid_0's rmse: 0.802091\tvalid_0's l1: 0.562522\n",
            "[950]\tvalid_0's l2: 0.642739\tvalid_0's rmse: 0.80171\tvalid_0's l1: 0.56205\n",
            "[960]\tvalid_0's l2: 0.642228\tvalid_0's rmse: 0.801391\tvalid_0's l1: 0.561631\n",
            "[970]\tvalid_0's l2: 0.641591\tvalid_0's rmse: 0.800993\tvalid_0's l1: 0.561186\n",
            "[980]\tvalid_0's l2: 0.641274\tvalid_0's rmse: 0.800796\tvalid_0's l1: 0.560861\n",
            "[990]\tvalid_0's l2: 0.640771\tvalid_0's rmse: 0.800482\tvalid_0's l1: 0.560462\n",
            "[1000]\tvalid_0's l2: 0.640251\tvalid_0's rmse: 0.800157\tvalid_0's l1: 0.560069\n",
            "[1010]\tvalid_0's l2: 0.639807\tvalid_0's rmse: 0.799879\tvalid_0's l1: 0.559716\n",
            "[1020]\tvalid_0's l2: 0.639429\tvalid_0's rmse: 0.799643\tvalid_0's l1: 0.55942\n",
            "[1030]\tvalid_0's l2: 0.639085\tvalid_0's rmse: 0.799428\tvalid_0's l1: 0.559126\n",
            "[1040]\tvalid_0's l2: 0.638779\tvalid_0's rmse: 0.799236\tvalid_0's l1: 0.558839\n",
            "[1050]\tvalid_0's l2: 0.638414\tvalid_0's rmse: 0.799008\tvalid_0's l1: 0.558552\n",
            "[1060]\tvalid_0's l2: 0.638127\tvalid_0's rmse: 0.798829\tvalid_0's l1: 0.558303\n",
            "[1070]\tvalid_0's l2: 0.637773\tvalid_0's rmse: 0.798607\tvalid_0's l1: 0.558011\n",
            "[1080]\tvalid_0's l2: 0.637472\tvalid_0's rmse: 0.798418\tvalid_0's l1: 0.55774\n",
            "[1090]\tvalid_0's l2: 0.637122\tvalid_0's rmse: 0.798199\tvalid_0's l1: 0.557445\n",
            "[1100]\tvalid_0's l2: 0.636867\tvalid_0's rmse: 0.798039\tvalid_0's l1: 0.557202\n",
            "[1110]\tvalid_0's l2: 0.636547\tvalid_0's rmse: 0.797839\tvalid_0's l1: 0.556933\n",
            "[1120]\tvalid_0's l2: 0.636258\tvalid_0's rmse: 0.797658\tvalid_0's l1: 0.556683\n",
            "[1130]\tvalid_0's l2: 0.635924\tvalid_0's rmse: 0.797449\tvalid_0's l1: 0.556425\n",
            "[1140]\tvalid_0's l2: 0.63572\tvalid_0's rmse: 0.797321\tvalid_0's l1: 0.556209\n",
            "[1150]\tvalid_0's l2: 0.635466\tvalid_0's rmse: 0.797161\tvalid_0's l1: 0.555978\n",
            "[1160]\tvalid_0's l2: 0.635213\tvalid_0's rmse: 0.797002\tvalid_0's l1: 0.555746\n",
            "[1170]\tvalid_0's l2: 0.635038\tvalid_0's rmse: 0.796893\tvalid_0's l1: 0.555556\n",
            "[1180]\tvalid_0's l2: 0.634794\tvalid_0's rmse: 0.79674\tvalid_0's l1: 0.555339\n",
            "[1190]\tvalid_0's l2: 0.634576\tvalid_0's rmse: 0.796602\tvalid_0's l1: 0.555129\n",
            "[1200]\tvalid_0's l2: 0.634287\tvalid_0's rmse: 0.796421\tvalid_0's l1: 0.554884\n",
            "[1210]\tvalid_0's l2: 0.63413\tvalid_0's rmse: 0.796323\tvalid_0's l1: 0.554691\n",
            "[1220]\tvalid_0's l2: 0.633875\tvalid_0's rmse: 0.796163\tvalid_0's l1: 0.554463\n",
            "[1230]\tvalid_0's l2: 0.633725\tvalid_0's rmse: 0.796069\tvalid_0's l1: 0.554274\n",
            "[1240]\tvalid_0's l2: 0.63358\tvalid_0's rmse: 0.795978\tvalid_0's l1: 0.55411\n",
            "[1250]\tvalid_0's l2: 0.633391\tvalid_0's rmse: 0.795859\tvalid_0's l1: 0.553914\n",
            "[1260]\tvalid_0's l2: 0.633232\tvalid_0's rmse: 0.795759\tvalid_0's l1: 0.553714\n",
            "[1270]\tvalid_0's l2: 0.633062\tvalid_0's rmse: 0.795652\tvalid_0's l1: 0.553532\n",
            "[1280]\tvalid_0's l2: 0.632912\tvalid_0's rmse: 0.795558\tvalid_0's l1: 0.553342\n",
            "[1290]\tvalid_0's l2: 0.632778\tvalid_0's rmse: 0.795474\tvalid_0's l1: 0.553166\n",
            "[1300]\tvalid_0's l2: 0.632691\tvalid_0's rmse: 0.795419\tvalid_0's l1: 0.553027\n",
            "[1310]\tvalid_0's l2: 0.632584\tvalid_0's rmse: 0.795351\tvalid_0's l1: 0.552904\n",
            "[1320]\tvalid_0's l2: 0.632462\tvalid_0's rmse: 0.795275\tvalid_0's l1: 0.552768\n",
            "[1330]\tvalid_0's l2: 0.632372\tvalid_0's rmse: 0.795218\tvalid_0's l1: 0.552634\n",
            "[1340]\tvalid_0's l2: 0.632295\tvalid_0's rmse: 0.79517\tvalid_0's l1: 0.552487\n",
            "[1350]\tvalid_0's l2: 0.632189\tvalid_0's rmse: 0.795103\tvalid_0's l1: 0.552335\n",
            "[1360]\tvalid_0's l2: 0.63204\tvalid_0's rmse: 0.795009\tvalid_0's l1: 0.55218\n",
            "[1370]\tvalid_0's l2: 0.631971\tvalid_0's rmse: 0.794966\tvalid_0's l1: 0.552041\n",
            "[1380]\tvalid_0's l2: 0.631988\tvalid_0's rmse: 0.794977\tvalid_0's l1: 0.551944\n",
            "[1390]\tvalid_0's l2: 0.632002\tvalid_0's rmse: 0.794985\tvalid_0's l1: 0.551851\n",
            "[1400]\tvalid_0's l2: 0.632024\tvalid_0's rmse: 0.794999\tvalid_0's l1: 0.551747\n",
            "[1410]\tvalid_0's l2: 0.632012\tvalid_0's rmse: 0.794992\tvalid_0's l1: 0.551624\n",
            "[1420]\tvalid_0's l2: 0.631982\tvalid_0's rmse: 0.794973\tvalid_0's l1: 0.551514\n",
            "[1430]\tvalid_0's l2: 0.631978\tvalid_0's rmse: 0.79497\tvalid_0's l1: 0.551427\n",
            "[1440]\tvalid_0's l2: 0.631991\tvalid_0's rmse: 0.794978\tvalid_0's l1: 0.551355\n",
            "[1450]\tvalid_0's l2: 0.631984\tvalid_0's rmse: 0.794974\tvalid_0's l1: 0.551258\n",
            "[1460]\tvalid_0's l2: 0.631921\tvalid_0's rmse: 0.794934\tvalid_0's l1: 0.551152\n",
            "[1470]\tvalid_0's l2: 0.631833\tvalid_0's rmse: 0.794879\tvalid_0's l1: 0.551047\n",
            "[1480]\tvalid_0's l2: 0.631834\tvalid_0's rmse: 0.79488\tvalid_0's l1: 0.550953\n",
            "[1490]\tvalid_0's l2: 0.631824\tvalid_0's rmse: 0.794874\tvalid_0's l1: 0.550877\n",
            "[1500]\tvalid_0's l2: 0.631773\tvalid_0's rmse: 0.794842\tvalid_0's l1: 0.550771\n",
            "[1510]\tvalid_0's l2: 0.631723\tvalid_0's rmse: 0.79481\tvalid_0's l1: 0.550668\n",
            "[1520]\tvalid_0's l2: 0.631702\tvalid_0's rmse: 0.794797\tvalid_0's l1: 0.5506\n",
            "[1530]\tvalid_0's l2: 0.631639\tvalid_0's rmse: 0.794757\tvalid_0's l1: 0.550524\n",
            "[1540]\tvalid_0's l2: 0.631641\tvalid_0's rmse: 0.794758\tvalid_0's l1: 0.550461\n",
            "[1550]\tvalid_0's l2: 0.631619\tvalid_0's rmse: 0.794745\tvalid_0's l1: 0.550362\n",
            "[1560]\tvalid_0's l2: 0.631655\tvalid_0's rmse: 0.794767\tvalid_0's l1: 0.550301\n",
            "[1570]\tvalid_0's l2: 0.631582\tvalid_0's rmse: 0.794722\tvalid_0's l1: 0.550204\n",
            "[1580]\tvalid_0's l2: 0.631545\tvalid_0's rmse: 0.794698\tvalid_0's l1: 0.550107\n",
            "[1590]\tvalid_0's l2: 0.631593\tvalid_0's rmse: 0.794728\tvalid_0's l1: 0.550054\n",
            "[1600]\tvalid_0's l2: 0.63166\tvalid_0's rmse: 0.79477\tvalid_0's l1: 0.550006\n",
            "[1610]\tvalid_0's l2: 0.63165\tvalid_0's rmse: 0.794764\tvalid_0's l1: 0.549928\n",
            "[1620]\tvalid_0's l2: 0.631671\tvalid_0's rmse: 0.794777\tvalid_0's l1: 0.549878\n",
            "[1630]\tvalid_0's l2: 0.631646\tvalid_0's rmse: 0.794761\tvalid_0's l1: 0.549792\n",
            "[1640]\tvalid_0's l2: 0.631603\tvalid_0's rmse: 0.794735\tvalid_0's l1: 0.549698\n",
            "[1650]\tvalid_0's l2: 0.631653\tvalid_0's rmse: 0.794766\tvalid_0's l1: 0.549656\n",
            "[1660]\tvalid_0's l2: 0.631708\tvalid_0's rmse: 0.7948\tvalid_0's l1: 0.549625\n",
            "[1670]\tvalid_0's l2: 0.631741\tvalid_0's rmse: 0.794821\tvalid_0's l1: 0.549583\n",
            "Early stopping, best iteration is:\n",
            "[1578]\tvalid_0's l2: 0.631518\tvalid_0's rmse: 0.794681\tvalid_0's l1: 0.550119\n"
          ]
        },
        {
          "output_type": "execute_result",
          "data": {
            "text/plain": [
              "LGBMRegressor(feature_fraction=1, learning_rate=0.04, max_depth=60,\n",
              "              metric=['l1', 'l2', 'rmse'], num_iterations=5000, num_leaves=2048,\n",
              "              objective='regression', task='train', verbose=0)"
            ]
          },
          "metadata": {},
          "execution_count": 89
        }
      ],
      "source": [
        "import lightgbm as lgb\n",
        "from sklearn.multioutput import MultiOutputRegressor\n",
        "gbm = lgb.LGBMRegressor(**hyper_params)\n",
        "\n",
        "gbm.fit(x_train, y_train,\n",
        "        eval_set=[(x_test, y_test)],\n",
        "        early_stopping_rounds=100,\n",
        "        verbose=10)\n"
      ]
    },
    {
      "cell_type": "code",
      "execution_count": null,
      "metadata": {
        "colab": {
          "base_uri": "https://localhost:8080/"
        },
        "id": "lIAH_EynXyUC",
        "outputId": "01de8b6f-fdcd-4f37-87a4-c57d897aa3ba"
      },
      "outputs": [
        {
          "output_type": "stream",
          "name": "stdout",
          "text": [
            "[ 2.68924229  4.84856399  2.7859512  ... 11.60244845  7.11563349\n",
            " 25.99411681]\n"
          ]
        }
      ],
      "source": [
        "#calculando predição a partir do conjunto teste \n",
        "y_pred_test_lgbm = gbm.predict(x_test, num_iteration=gbm.best_iteration_)\n",
        "print(y_pred_test_lgbm)"
      ]
    },
    {
      "cell_type": "code",
      "execution_count": null,
      "metadata": {
        "colab": {
          "base_uri": "https://localhost:8080/"
        },
        "id": "mQMf8pVWX4-z",
        "outputId": "d55ce7f3-4464-4310-a2f5-c31a57b84d7b"
      },
      "outputs": [
        {
          "output_type": "stream",
          "name": "stdout",
          "text": [
            " R² (TESTE): 98.51%\n",
            "Erro médio absoluto TESTE (MAE): 0.55\n",
            "Erro médio quadrático TESTE (MSE): 0.63\n"
          ]
        }
      ],
      "source": [
        "# Métricas de avaliação para valores de teste.\n",
        "\n",
        "from sklearn import metrics\n",
        "from sklearn.metrics import r2_score\n",
        "from sklearn.metrics import mean_absolute_error\n",
        "from sklearn.metrics import mean_squared_error\n",
        "from math import sqrt\n",
        "print(f\" R² (TESTE): {(metrics.r2_score(y_test, y_pred_test_lgbm) * 100):.2f}%\") #R quadrado\n",
        "print(f\"Erro médio absoluto TESTE (MAE): {mean_absolute_error(y_test, y_pred_test_lgbm):.2f}\") #erro médio absoluto\n",
        "print(f\"Erro médio quadrático TESTE (MSE): {mean_squared_error(y_test, y_pred_test_lgbm):.2f}\") #erro médio quadrático"
      ]
    },
    {
      "cell_type": "code",
      "execution_count": null,
      "metadata": {
        "colab": {
          "base_uri": "https://localhost:8080/"
        },
        "id": "vpefFH3jJi6Z",
        "outputId": "e5680058-65a1-443f-af2c-b582435ed8d0"
      },
      "outputs": [
        {
          "output_type": "stream",
          "name": "stdout",
          "text": [
            "[19.49044835 25.52336649  6.55674548 ...  7.95869433  3.8802115\n",
            " 20.90379285]\n"
          ]
        }
      ],
      "source": [
        "#calculando predição a partir do conjunto treino \n",
        "y_pred_train_lgbm = gbm.predict(x_train, num_iteration=gbm.best_iteration_)\n",
        "print(y_pred_train_lgbm)"
      ]
    },
    {
      "cell_type": "code",
      "execution_count": null,
      "metadata": {
        "colab": {
          "base_uri": "https://localhost:8080/"
        },
        "id": "FS8MQCMusWWg",
        "outputId": "5c115be6-a54b-42ea-ed07-f3cce0196501"
      },
      "outputs": [
        {
          "output_type": "stream",
          "name": "stdout",
          "text": [
            " R²: 99.43%\n",
            "Erro médio absoluto TREINO (MAE): 0.35\n",
            "Erro médio quadrático TREINO (MSE): 0.24\n"
          ]
        }
      ],
      "source": [
        "# Métricas de avaliação para valores de treino.\n",
        "\n",
        "from sklearn import metrics\n",
        "from sklearn.metrics import r2_score\n",
        "from sklearn.metrics import mean_absolute_error\n",
        "from sklearn.metrics import mean_squared_error\n",
        "print(f\" R²: {(metrics.r2_score(y_train, y_pred_train_lgbm) * 100):.2f}%\") #R quadrado\n",
        "print(f\"Erro médio absoluto TREINO (MAE): {mean_absolute_error(y_train, y_pred_train_lgbm):.2f}\") #erro médio absoluto\n",
        "print(f\"Erro médio quadrático TREINO (MSE): {mean_squared_error(y_train, y_pred_train_lgbm):.2f}\") #erro médio quadrático"
      ]
    },
    {
      "cell_type": "code",
      "execution_count": null,
      "metadata": {
        "colab": {
          "base_uri": "https://localhost:8080/",
          "height": 299
        },
        "id": "JXuhlEmF1y2d",
        "outputId": "6132917a-b10f-419a-b3a5-8686c8839c6e"
      },
      "outputs": [
        {
          "output_type": "display_data",
          "data": {
            "text/plain": [
              "<Figure size 432x288 with 1 Axes>"
            ],
            "image/png": "[encoded data removed]"
          },
          "metadata": {}
        }
      ],
      "source": [
        "#Distribuição das previsões \n",
        "\n",
        "graph_LightGBM = sns.regplot(x=y_test, y=y_pred_test_lgbm, \n",
        "                 scatter_kws={\"color\": \"purple\"}, line_kws={\"color\": \"springgreen\"}).set_title(\"Regressão Linear LightGBM\")\n",
        "\n",
        "plt.show()"
      ]
    },
    {
      "cell_type": "code",
      "execution_count": null,
      "metadata": {
        "colab": {
          "base_uri": "https://localhost:8080/",
          "height": 282
        },
        "id": "cTiZkMPjtQyl",
        "outputId": "82b3d54a-c4f3-4151-9922-b9b6b35a2bbe"
      },
      "outputs": [
        {
          "output_type": "execute_result",
          "data": {
            "text/plain": [
              "[<matplotlib.lines.Line2D at 0x7f4cbbd8bc10>]"
            ]
          },
          "metadata": {},
          "execution_count": 95
        },
        {
          "output_type": "display_data",
          "data": {
            "text/plain": [
              "<Figure size 432x288 with 1 Axes>"
            ],
            "image/png": "[encoded data removed]"
          },
          "metadata": {}
        }
      ],
      "source": [
        "plt.plot(y_pred_test_lgbm, y_test)"
      ]
    },
    {
      "cell_type": "code",
      "source": [
        "#desvio padrao\n",
        "y_normalizado_lgbm  = y_test.values.flatten()\n",
        "errors = (y_pred_test_lgbm - y_normalizado_lgbm)"
      ],
      "metadata": {
        "id": "AbFrJdSGMiI9"
      },
      "execution_count": null,
      "outputs": []
    },
    {
      "cell_type": "code",
      "source": [
        "#Desvio padrão dos erros do random forest generator \n",
        "desvio = errors.std()\n",
        "print(f\"O valor do desvio padrão do LightGBM é: {desvio:.2f}\")\n"
      ],
      "metadata": {
        "colab": {
          "base_uri": "https://localhost:8080/"
        },
        "id": "NHPU8pu4PkQS",
        "outputId": "5881e605-fc18-4205-92e9-800b3d337c48"
      },
      "execution_count": null,
      "outputs": [
        {
          "output_type": "stream",
          "name": "stdout",
          "text": [
            "O valor do desvio padrão do LightGBM é: 0.79\n"
          ]
        }
      ]
    },
    {
      "cell_type": "markdown",
      "metadata": {
        "id": "EC0RJ-ldktgp"
      },
      "source": [
        "# Quarta etapa de testes\n",
        "Modelos desenvolvidos durante a sprint 4:\n",
        "*Apenas corrigimos o dataset e inserimos a coluna 'Data' como parâmetro x.*\n",
        "\n",
        "*   Random Forest Regressor\n",
        "*   KNN Regressor\n",
        "*   Regressão Linear Múltipla\n",
        "\n"
      ]
    },
    {
      "cell_type": "markdown",
      "metadata": {
        "id": "GHVFZX9Vktgq"
      },
      "source": [
        "### 4.4.2 Random Forest Regressor"
      ]
    },
    {
      "cell_type": "code",
      "execution_count": null,
      "metadata": {
        "colab": {
          "base_uri": "https://localhost:8080/"
        },
        "id": "w2d2R9VZktgq",
        "outputId": "028f782c-d000-482d-9567-3ab98e4341cb"
      },
      "outputs": [
        {
          "output_type": "execute_result",
          "data": {
            "text/plain": [
              "RandomForestRegressor(n_estimators=301, random_state=1)"
            ]
          },
          "metadata": {},
          "execution_count": 96
        }
      ],
      "source": [
        "# Importando bibliotecas e treinando o modelo \n",
        "from sklearn.ensemble import RandomForestRegressor\n",
        "from sklearn.datasets import make_regression\n",
        "from sklearn import metrics\n",
        "from sklearn.metrics import r2_score\n",
        "from sklearn.metrics import mean_absolute_error\n",
        "from sklearn.metrics import mean_squared_error\n",
        "\n",
        "\n",
        "regressor = RandomForestRegressor(n_estimators=301, random_state=1)\n",
        "regressor.fit (x_train, y_train)\n"
      ]
    },
    {
      "cell_type": "markdown",
      "metadata": {
        "id": "7baflNToktgq"
      },
      "source": [
        "Executando o modelo"
      ]
    },
    {
      "cell_type": "code",
      "execution_count": null,
      "metadata": {
        "colab": {
          "base_uri": "https://localhost:8080/"
        },
        "id": "wyf1mCLKvGTP",
        "outputId": "7d09585e-f781-4574-cb2b-e87f2c96ff35"
      },
      "outputs": [
        {
          "output_type": "stream",
          "name": "stdout",
          "text": [
            "[ 2.73314887  4.99523477  3.11436877 ... 11.65826246  7.17841556\n",
            " 25.9827129 ]\n"
          ]
        }
      ],
      "source": [
        "#calculando predição a partir do conjunto teste \n",
        "y_pred_regressor_test = regressor.predict(x_test)\n",
        "print(y_pred_regressor_test)"
      ]
    },
    {
      "cell_type": "code",
      "execution_count": null,
      "metadata": {
        "colab": {
          "base_uri": "https://localhost:8080/"
        },
        "id": "e8OVgGJjRTet",
        "outputId": "c932bd68-aef2-40b8-fd2f-811787bbb046"
      },
      "outputs": [
        {
          "output_type": "stream",
          "name": "stdout",
          "text": [
            "R² (TESTE): 98.33%\n",
            "Erro médio absoluto TESTE (MAE): 0.57\n",
            "Erro médio quadrático TESTE (MSE): 0.71\n"
          ]
        }
      ],
      "source": [
        "print(f\"R² (TESTE): {(metrics.r2_score(y_test, y_pred_regressor_test) * 100):.2f}%\") #R quadrado\n",
        "print(f\"Erro médio absoluto TESTE (MAE): {mean_absolute_error(y_test, y_pred_regressor_test):.2f}\") #erro médio absoluto\n",
        "print(f\"Erro médio quadrático TESTE (MSE): {mean_squared_error(y_test, y_pred_regressor_test):.2f}\") #erro médio quadrático"
      ]
    },
    {
      "cell_type": "code",
      "execution_count": null,
      "metadata": {
        "colab": {
          "base_uri": "https://localhost:8080/"
        },
        "id": "Uhp4sU-UvTLN",
        "outputId": "44e4dd0a-d878-41d3-c31d-4b7f590dcd9c"
      },
      "outputs": [
        {
          "output_type": "stream",
          "name": "stdout",
          "text": [
            "[19.55122122 25.16911628  6.45409555 ...  7.98016568  3.9276832\n",
            " 20.89137344]\n"
          ]
        }
      ],
      "source": [
        "#calculando predição a partir do conjunto train\n",
        "y_pred_regressor_train = regressor.predict(x_train)\n",
        "print(y_pred_regressor_train)"
      ]
    },
    {
      "cell_type": "code",
      "execution_count": null,
      "metadata": {
        "colab": {
          "base_uri": "https://localhost:8080/"
        },
        "id": "H99z5CQhmbUi",
        "outputId": "b8eff9d5-2405-4703-b927-41184648cb25"
      },
      "outputs": [
        {
          "output_type": "stream",
          "name": "stdout",
          "text": [
            "R² (TREINO): 99.43%\n",
            "Erro médio absoluto TREINO (MAE): 0.34\n",
            "Erro médio quadrático TREINO (MSE): 0.24\n"
          ]
        }
      ],
      "source": [
        "print(f\"R² (TREINO): {(metrics.r2_score(y_train, y_pred_regressor_train) * 100):.2f}%\") #R quadrado\n",
        "print(f\"Erro médio absoluto TREINO (MAE): {mean_absolute_error(y_train, y_pred_regressor_train):.2f}\") #erro médio absoluto\n",
        "print(f\"Erro médio quadrático TREINO (MSE): {mean_squared_error(y_train, y_pred_regressor_train):.2f}\") #erro médio quadrático"
      ]
    },
    {
      "cell_type": "code",
      "execution_count": null,
      "metadata": {
        "colab": {
          "base_uri": "https://localhost:8080/",
          "height": 299
        },
        "id": "8S_diEZLWr2w",
        "outputId": "a505d6ca-7fe9-440e-97fa-74b3e769e2ad"
      },
      "outputs": [
        {
          "output_type": "display_data",
          "data": {
            "text/plain": [
              "<Figure size 432x288 with 1 Axes>"
            ],
            "image/png": "[encoded data removed]"
          },
          "metadata": {}
        }
      ],
      "source": [
        "#Distribuição das previsões \n",
        "\n",
        "graph_old_rff = sns.regplot(x=y_test, y=y_pred_regressor_test, \n",
        "                 scatter_kws={\"color\": \"purple\"}, line_kws={\"color\": \"springgreen\"}).set_title(\"Regressão Linear RFR \")\n",
        "\n",
        "plt.show()"
      ]
    },
    {
      "cell_type": "code",
      "execution_count": null,
      "metadata": {
        "colab": {
          "base_uri": "https://localhost:8080/",
          "height": 369
        },
        "id": "zoC8Bh5ektgr",
        "outputId": "9c926633-7ce0-4b55-e8ba-d847e996d7fe"
      },
      "outputs": [
        {
          "output_type": "execute_result",
          "data": {
            "text/plain": [
              "(array([3.0000e+00, 6.0000e+00, 1.4000e+01, 8.8000e+01, 1.1450e+03,\n",
              "        3.2749e+04, 9.5490e+03, 2.0600e+02, 1.2000e+01, 4.0000e+00]),\n",
              " array([-12.22068668, -10.10675075,  -7.99281481,  -5.87887888,\n",
              "         -3.76494295,  -1.65100701,   0.46292892,   2.57686485,\n",
              "          4.69080079,   6.80473672,   8.91867265]),\n",
              " <a list of 10 Patch objects>)"
            ]
          },
          "metadata": {},
          "execution_count": 102
        },
        {
          "output_type": "display_data",
          "data": {
            "text/plain": [
              "<Figure size 432x288 with 1 Axes>"
            ],
            "image/png": "[encoded data removed]"
          },
          "metadata": {}
        }
      ],
      "source": [
        "#Calculando os erros do modelo (normalizado) e gerando um histograma dos erros\n",
        "y_normalizado  = y_test.values.flatten()\n",
        "errors = (y_pred_regressor_test - y_normalizado)\n",
        "plt.hist(errors)"
      ]
    },
    {
      "cell_type": "code",
      "execution_count": null,
      "metadata": {
        "colab": {
          "base_uri": "https://localhost:8080/"
        },
        "id": "dAbeKkuSktgr",
        "outputId": "e2aec0c4-0472-4137-cb4d-6ef2ae697819"
      },
      "outputs": [
        {
          "output_type": "stream",
          "name": "stdout",
          "text": [
            "O valor do desvio é: 0.84\n"
          ]
        }
      ],
      "source": [
        "#Desvio padrão dos erros do random forest generator \n",
        "desvio = errors.std()\n",
        "print(f\"O valor do desvio é: {desvio:.2f}\")\n"
      ]
    },
    {
      "cell_type": "markdown",
      "metadata": {
        "id": "8GCA5kI-ktgr"
      },
      "source": [
        "### 4.4.3 KNN Regressor\n"
      ]
    },
    {
      "cell_type": "code",
      "execution_count": null,
      "metadata": {
        "id": "NCRqYlRMktgr"
      },
      "outputs": [],
      "source": [
        "#importando a biblioteca\n",
        "from sklearn.neighbors import KNeighborsRegressor\n",
        "from sklearn.metrics import r2_score\n",
        "from sklearn.metrics import mean_absolute_error\n",
        "from sklearn.metrics import mean_squared_error\n",
        "\n",
        "#Instanciar e fazer o fit das variaveis com o modelo \n",
        "knn_model = KNeighborsRegressor(n_neighbors=2).fit(x_train, y_train)\n",
        "\n",
        "#Calculando o score (teste)\n",
        "score_knn = knn_model.score(x_test, y_test)\n"
      ]
    },
    {
      "cell_type": "markdown",
      "metadata": {
        "id": "eZsKMkxAktgs"
      },
      "source": [
        "Executando o modelo"
      ]
    },
    {
      "cell_type": "code",
      "execution_count": null,
      "metadata": {
        "id": "uVUQGrDEktgs"
      },
      "outputs": [],
      "source": [
        "#calculando a predição a partir do conjunto teste\n",
        "y_pred_knn_test = knn_model.predict(x_test)"
      ]
    },
    {
      "cell_type": "code",
      "execution_count": null,
      "metadata": {
        "id": "0AUZ60IHyVjc",
        "colab": {
          "base_uri": "https://localhost:8080/"
        },
        "outputId": "cbc6a35c-17ae-4bb7-d946-56579e4a8ba1"
      },
      "outputs": [
        {
          "output_type": "stream",
          "name": "stdout",
          "text": [
            "R² (TESTE): 98.14%\n",
            "Erro médio absoluto TESTE (MAE): 0.59\n",
            "Erro médio quadrático TESTE (MSE): 0.79\n"
          ]
        }
      ],
      "source": [
        "print(f\"R² (TESTE): {(metrics.r2_score(y_test, y_pred_knn_test) * 100):.2f}%\") #R quadrado\n",
        "print(f\"Erro médio absoluto TESTE (MAE): {mean_absolute_error(y_test, y_pred_knn_test):.2f}\") #erro médio absoluto\n",
        "print(f\"Erro médio quadrático TESTE (MSE): {mean_squared_error(y_test, y_pred_knn_test):.2f}\") #erro médio quadrático"
      ]
    },
    {
      "cell_type": "code",
      "execution_count": null,
      "metadata": {
        "id": "uTaKfOyQxp8H"
      },
      "outputs": [],
      "source": [
        "#calculando a predição a partir do conjunto treino\n",
        "y_pred_knn_train = knn_model.predict(x_train)"
      ]
    },
    {
      "cell_type": "code",
      "execution_count": null,
      "metadata": {
        "id": "V50-wdRPx91k",
        "colab": {
          "base_uri": "https://localhost:8080/"
        },
        "outputId": "5899ce27-1a13-4a4a-c075-cb259f6d8a8c"
      },
      "outputs": [
        {
          "output_type": "stream",
          "name": "stdout",
          "text": [
            "R² (TREINO): 99.32%\n",
            "Erro médio absoluto TREINO (MAE): 0.36\n",
            "Erro médio quadrático TREINO (MSE): 0.29\n"
          ]
        }
      ],
      "source": [
        "print(f\"R² (TREINO): {(metrics.r2_score(y_train, y_pred_knn_train) * 100):.2f}%\") #R quadrado\n",
        "print(f\"Erro médio absoluto TREINO (MAE): {mean_absolute_error(y_train, y_pred_knn_train):.2f}\") #erro médio absoluto\n",
        "print(f\"Erro médio quadrático TREINO (MSE): {mean_squared_error(y_train, y_pred_knn_train):.2f}\") #erro médio quadrático"
      ]
    },
    {
      "cell_type": "code",
      "execution_count": null,
      "metadata": {
        "id": "nEVmBXx8XPAJ",
        "colab": {
          "base_uri": "https://localhost:8080/",
          "height": 299
        },
        "outputId": "975b2bd0-5f73-4fd5-d474-1b3754ea426d"
      },
      "outputs": [
        {
          "output_type": "display_data",
          "data": {
            "text/plain": [
              "<Figure size 432x288 with 1 Axes>"
            ],
            "image/png": "[encoded data removed]"
          },
          "metadata": {}
        }
      ],
      "source": [
        "#Distribuição das previsões \n",
        "\n",
        "graph_old_knn = sns.regplot(x=y_test, y=y_pred_knn_test, \n",
        "                 scatter_kws={\"color\": \"purple\"}, line_kws={\"color\": \"springgreen\"}).set_title(\"Regressão Linear KNN \")\n",
        "\n",
        "plt.show()"
      ]
    },
    {
      "cell_type": "markdown",
      "metadata": {
        "id": "jMnXUD7Yktgs"
      },
      "source": [
        "### 4.4.4 Regressão Linear Múltipla "
      ]
    },
    {
      "cell_type": "code",
      "execution_count": null,
      "metadata": {
        "id": "zGDoYbH6ktgs",
        "colab": {
          "base_uri": "https://localhost:8080/"
        },
        "outputId": "be4f62ca-9c80-46de-dea2-8bc818053fe8"
      },
      "outputs": [
        {
          "output_type": "execute_result",
          "data": {
            "text/plain": [
              "LinearRegression()"
            ]
          },
          "metadata": {},
          "execution_count": 110
        }
      ],
      "source": [
        "#Importando as bibliotecas e definindo parâmetros \n",
        "from sklearn import linear_model\n",
        "import statsmodels.api as sm\n",
        "\n",
        "#Treinando \n",
        "regr = linear_model.LinearRegression()\n",
        "regr.fit(x, y)\n"
      ]
    },
    {
      "cell_type": "code",
      "execution_count": null,
      "metadata": {
        "id": "-0c5hxIfktgs"
      },
      "outputs": [],
      "source": [
        "#Adicionando a constante\n",
        "x = sm.add_constant(x) \n",
        " \n",
        "#Realizando a predição  \n",
        "model = sm.OLS(y, x).fit()\n",
        "predictions = model.predict(x) \n",
        " "
      ]
    },
    {
      "cell_type": "code",
      "execution_count": null,
      "metadata": {
        "id": "z-GR2SGNktgt",
        "colab": {
          "base_uri": "https://localhost:8080/"
        },
        "outputId": "8192cd9a-55a6-493a-b5f5-28b60e1a3f91"
      },
      "outputs": [
        {
          "output_type": "stream",
          "name": "stdout",
          "text": [
            "                               OLS Regression Results                              \n",
            "===================================================================================\n",
            "Dep. Variable:     Total Domicílios | Rat%   R-squared:                       0.440\n",
            "Model:                                 OLS   Adj. R-squared:                  0.440\n",
            "Method:                      Least Squares   F-statistic:                     4521.\n",
            "Date:                     Thu, 06 Oct 2022   Prob (F-statistic):               0.00\n",
            "Time:                             02:54:53   Log-Likelihood:            -6.5728e+05\n",
            "No. Observations:                   218880   AIC:                         1.315e+06\n",
            "Df Residuals:                       218841   BIC:                         1.315e+06\n",
            "Df Model:                               38                                         \n",
            "Covariance Type:                 nonrobust                                         \n",
            "==============================================================================================\n",
            "                                 coef    std err          t      P>|t|      [0.025      0.975]\n",
            "----------------------------------------------------------------------------------------------\n",
            "const                       2880.4142     31.101     92.614      0.000    2819.457    2941.372\n",
            "Categoria_AUDITORIO           98.2292      1.085     90.523      0.000      96.102     100.356\n",
            "Categoria_CARROS E MOTORES    97.2359      1.102     88.262      0.000      95.077      99.395\n",
            "Categoria_CULINARIO           94.9326      1.179     80.546      0.000      92.623      97.243\n",
            "Categoria_DEBATE             100.9789      1.694     59.609      0.000      97.659     104.299\n",
            "Categoria_DOCUMENTARIO        98.4660      1.347     73.080      0.000      95.825     101.107\n",
            "Categoria_EDUCATIVO           92.7413      1.093     84.830      0.000      90.599      94.884\n",
            "Categoria_ENTREVISTA          95.2643      1.089     87.511      0.000      93.131      97.398\n",
            "Categoria_ESPORTE             99.5304      1.089     91.425      0.000      97.397     101.664\n",
            "Categoria_FEMININO            93.5260      1.080     86.631      0.000      91.410      95.642\n",
            "Categoria_FILME               97.2960      1.086     89.615      0.000      95.168      99.424\n",
            "Categoria_FUTEBOL            108.1243      1.089     99.320      0.000     105.991     110.258\n",
            "Categoria_GAME SHOW           97.9250      1.157     84.647      0.000      95.658     100.192\n",
            "Categoria_HUMORISTICO         97.9603      1.095     89.459      0.000      95.814     100.106\n",
            "Categoria_JORNALISMO          99.6404      1.086     91.747      0.000      97.512     101.769\n",
            "Categoria_MINISSERIE         104.9730      1.214     86.502      0.000     102.595     107.351\n",
            "Categoria_MUSICAL             98.9433      1.110     89.120      0.000      96.767     101.119\n",
            "Categoria_NAO CONSTA          93.3440      1.750     53.347      0.000      89.915      96.773\n",
            "Categoria_NOVELA             109.2253      1.087    100.479      0.000     107.095     111.356\n",
            "Categoria_OUTROS              97.7727      2.083     46.939      0.000      93.690     101.855\n",
            "Categoria_POLITICO           104.8561      1.138     92.141      0.000     102.626     107.087\n",
            "Categoria_PREMIACAO          100.4575      1.492     67.328      0.000      97.533     103.382\n",
            "Categoria_REALITY SHOW       105.4191      1.091     96.655      0.000     103.281     107.557\n",
            "Categoria_RELIGIOSO           94.0292      1.093     85.990      0.000      91.886      96.172\n",
            "Categoria_REPORTAGEM          99.3342      1.092     90.941      0.000      97.193     101.475\n",
            "Categoria_RURAL               95.9589      1.095     87.617      0.000      93.812      98.105\n",
            "Categoria_SERIES             101.8032      1.083     93.975      0.000      99.680     103.926\n",
            "Categoria_SHOW                96.3968      1.090     88.469      0.000      94.261      98.532\n",
            "Categoria_SORTEIO            106.7609      3.503     30.473      0.000      99.894     113.627\n",
            "Categoria_TELE VENDAS         99.2895      1.994     49.786      0.000      95.381     103.198\n",
            "Mês                           -0.2650      0.004    -69.528      0.000      -0.272      -0.258\n",
            "Hora Início                   -0.1049      0.002    -59.453      0.000      -0.108      -0.101\n",
            "Dia da Semana_1              412.2333      4.443     92.783      0.000     403.525     420.941\n",
            "Dia da Semana_2              411.5251      4.443     92.623      0.000     402.817     420.233\n",
            "Dia da Semana_3              411.3748      4.443     92.586      0.000     402.666     420.083\n",
            "Dia da Semana_4              411.2630      4.443     92.560      0.000     402.554     419.972\n",
            "Dia da Semana_5              411.0727      4.443     92.519      0.000     402.364     419.781\n",
            "Dia da Semana_6              411.3426      4.443     92.575      0.000     402.634     420.051\n",
            "Dia da Semana_7              411.6027      4.443     92.643      0.000     402.895     420.311\n",
            "Dia do Mês                    -0.0013      0.001     -1.075      0.282      -0.004       0.001\n",
            "Data                          -1.6719      0.018    -92.310      0.000      -1.707      -1.636\n",
            "==============================================================================\n",
            "Omnibus:                    27420.166   Durbin-Watson:                   0.127\n",
            "Prob(Omnibus):                  0.000   Jarque-Bera (JB):            41708.754\n",
            "Skew:                           0.912   Prob(JB):                         0.00\n",
            "Kurtosis:                       4.115   Cond. No.                     1.00e+16\n",
            "==============================================================================\n",
            "\n",
            "Notes:\n",
            "[1] Standard Errors assume that the covariance matrix of the errors is correctly specified.\n",
            "[2] The smallest eigenvalue is 8.93e-21. This might indicate that there are\n",
            "strong multicollinearity problems or that the design matrix is singular.\n"
          ]
        }
      ],
      "source": [
        "#Sumário dos resultados da regressão linear múltipla\n",
        "# with statsmodels\n",
        "print_model = model.summary()\n",
        "print(print_model) "
      ]
    },
    {
      "cell_type": "code",
      "execution_count": null,
      "metadata": {
        "id": "71HmVcWPZEKR"
      },
      "outputs": [],
      "source": []
    },
    {
      "cell_type": "markdown",
      "metadata": {
        "id": "2T3ZDq81Wz7k"
      },
      "source": [
        "#Comparando predições com valores originais "
      ]
    },
    {
      "cell_type": "markdown",
      "metadata": {
        "id": "49c4gGJHW5mL"
      },
      "source": [
        "Nesta etapa, iremos comparar o resultado da predição de audiência total com o resultado da vida real.\n",
        "\n",
        "Devido aos valores de r^2 gerados a partir de cada modelo, resolvemos testar com o Random Forest Regressor, visto que o mesmo possui um r^2 maior. \n"
      ]
    },
    {
      "cell_type": "markdown",
      "metadata": {
        "id": "Aov_ZV5TbSiE"
      },
      "source": [
        "### Testando com o Random Forest Regressor (4.4.2)\n"
      ]
    },
    {
      "cell_type": "code",
      "execution_count": null,
      "metadata": {
        "id": "IqTcjoX1bPCT",
        "colab": {
          "base_uri": "https://localhost:8080/"
        },
        "outputId": "34f78164-21bc-41db-d111-0e44a76e4a93"
      },
      "outputs": [
        {
          "output_type": "execute_result",
          "data": {
            "text/plain": [
              "array([0.000e+00, 0.000e+00, 0.000e+00, 0.000e+00, 0.000e+00, 0.000e+00,\n",
              "       0.000e+00, 0.000e+00, 0.000e+00, 0.000e+00, 0.000e+00, 0.000e+00,\n",
              "       0.000e+00, 1.000e+00, 0.000e+00, 0.000e+00, 0.000e+00, 0.000e+00,\n",
              "       0.000e+00, 0.000e+00, 0.000e+00, 0.000e+00, 0.000e+00, 0.000e+00,\n",
              "       0.000e+00, 0.000e+00, 0.000e+00, 0.000e+00, 0.000e+00, 9.000e+00,\n",
              "       1.250e+01, 1.000e+00, 0.000e+00, 0.000e+00, 0.000e+00, 0.000e+00,\n",
              "       0.000e+00, 0.000e+00, 1.300e+01, 2.021e+03])"
            ]
          },
          "metadata": {},
          "execution_count": 113
        }
      ],
      "source": [
        "#Escolhendo uma linha aleatoria do modelo de teste\n",
        "testPredition = x_test.iloc[['1298']].values.flatten()\n",
        "\n",
        "\n",
        "#Guardando esse números em uma variável \n",
        "testPredition\n"
      ]
    },
    {
      "cell_type": "code",
      "execution_count": null,
      "metadata": {
        "id": "kP4og1gYbgw1"
      },
      "outputs": [],
      "source": [
        "#Testando o modelo com a linha selecionada acima\n",
        "predition_RFR = regressor.predict([testPredition])\n"
      ]
    },
    {
      "cell_type": "code",
      "execution_count": null,
      "metadata": {
        "id": "S1CGFqiHb2MC",
        "colab": {
          "base_uri": "https://localhost:8080/"
        },
        "outputId": "824f37ed-600c-4328-f35d-aba51a0e48e3"
      },
      "outputs": [
        {
          "output_type": "execute_result",
          "data": {
            "text/plain": [
              "1298    22.76\n",
              "Name: Total Domicílios | Rat%, dtype: float64"
            ]
          },
          "metadata": {},
          "execution_count": 115
        }
      ],
      "source": [
        "#Comparando o valor da predição com o valor real do RAT\n",
        "tv_0['Total Domicílios | Rat%'].iloc[[1298]]"
      ]
    },
    {
      "cell_type": "code",
      "execution_count": null,
      "metadata": {
        "id": "1wwpF8AJ1De7",
        "colab": {
          "base_uri": "https://localhost:8080/"
        },
        "outputId": "9ce2edb4-0b51-4968-bd8a-c0b3ee16afdd"
      },
      "outputs": [
        {
          "output_type": "stream",
          "name": "stdout",
          "text": [
            "[14.36432313]\n"
          ]
        }
      ],
      "source": [
        "predition_RFR = regressor.predict([testPredition])\n",
        "print(predition_RFR)"
      ]
    },
    {
      "cell_type": "markdown",
      "metadata": {
        "id": "B64ICWOnc6GB"
      },
      "source": []
    },
    {
      "cell_type": "markdown",
      "metadata": {
        "id": "HNJ7LkYEbPk_"
      },
      "source": [
        "### Testando com o KNN (4.4.3)"
      ]
    },
    {
      "cell_type": "code",
      "execution_count": null,
      "metadata": {
        "id": "yKM49hBAXUc0",
        "colab": {
          "base_uri": "https://localhost:8080/"
        },
        "outputId": "a0de58b9-7f2d-46ea-b83c-763cb982e528"
      },
      "outputs": [
        {
          "output_type": "execute_result",
          "data": {
            "text/plain": [
              "array([0.00e+00, 0.00e+00, 0.00e+00, 0.00e+00, 0.00e+00, 0.00e+00,\n",
              "       0.00e+00, 0.00e+00, 0.00e+00, 0.00e+00, 0.00e+00, 0.00e+00,\n",
              "       0.00e+00, 0.00e+00, 0.00e+00, 0.00e+00, 0.00e+00, 0.00e+00,\n",
              "       0.00e+00, 0.00e+00, 0.00e+00, 0.00e+00, 0.00e+00, 0.00e+00,\n",
              "       0.00e+00, 0.00e+00, 1.00e+00, 0.00e+00, 0.00e+00, 7.00e+00,\n",
              "       1.40e+01, 0.00e+00, 0.00e+00, 0.00e+00, 0.00e+00, 0.00e+00,\n",
              "       1.00e+00, 0.00e+00, 1.80e+01, 2.02e+03])"
            ]
          },
          "metadata": {},
          "execution_count": 117
        }
      ],
      "source": [
        "#Escolhendo uma linha aleatoria do modelo de teste\n",
        "testPredition = x_test.iloc[[1092]].values.flatten()\n",
        "\n",
        "#Guardando esse números em uma variável \n",
        "testPredition"
      ]
    },
    {
      "cell_type": "code",
      "execution_count": null,
      "metadata": {
        "id": "CSlJqhT5Xn3w",
        "colab": {
          "base_uri": "https://localhost:8080/"
        },
        "outputId": "1b6f6d41-e25e-4919-b339-887a358cc7ca"
      },
      "outputs": [
        {
          "output_type": "stream",
          "name": "stdout",
          "text": [
            "[[10.08]]\n"
          ]
        }
      ],
      "source": [
        "#Testando o modelo com a linha selecionada acima\n",
        "predition_knn = knn_model.predict([testPredition])\n",
        "\n",
        "print(predition_knn)"
      ]
    },
    {
      "cell_type": "code",
      "execution_count": null,
      "metadata": {
        "id": "eahNOzwLZU4x",
        "colab": {
          "base_uri": "https://localhost:8080/",
          "height": 209
        },
        "outputId": "38726c54-c2d0-4688-85ea-91b01a79856b"
      },
      "outputs": [
        {
          "output_type": "execute_result",
          "data": {
            "text/plain": [
              "      Unnamed: 0  Unnamed: 0.1  Unnamed: 0.1.1  Data  Hora Início Emissora  \\\n",
              "1092        1092          1092            1092  2020         25.0     tv_0   \n",
              "\n",
              "      Mês  Dia do Mês  Total Domicílios | Rat%  AB | Rat%  ...  \\\n",
              "1092    6           4                     5.35        2.1  ...   \n",
              "\n",
              "      Categoria_SHOW  Categoria_SORTEIO  Categoria_TELE VENDAS  \\\n",
              "1092               0                  0                      0   \n",
              "\n",
              "      Dia da Semana_1  Dia da Semana_2  Dia da Semana_3  Dia da Semana_4  \\\n",
              "1092                0                0                0                1   \n",
              "\n",
              "      Dia da Semana_5  Dia da Semana_6  Dia da Semana_7  \n",
              "1092                0                0                0  \n",
              "\n",
              "[1 rows x 102 columns]"
            ],
            "text/html": [
              "\n",
              "  <div id=\"df-15274f83-5326-46eb-9c5f-0468e8d7faad\">\n",
              "    <div class=\"colab-df-container\">\n",
              "      <div>\n",
              "<style scoped>\n",
              "    .dataframe tbody tr th:only-of-type {\n",
              "        vertical-align: middle;\n",
              "    }\n",
              "\n",
              "    .dataframe tbody tr th {\n",
              "        vertical-align: top;\n",
              "    }\n",
              "\n",
              "    .dataframe thead th {\n",
              "        text-align: right;\n",
              "    }\n",
              "</style>\n",
              "<table border=\"1\" class=\"dataframe\">\n",
              "  <thead>\n",
              "    <tr style=\"text-align: right;\">\n",
              "      <th></th>\n",
              "      <th>Unnamed: 0</th>\n",
              "      <th>Unnamed: 0.1</th>\n",
              "      <th>Unnamed: 0.1.1</th>\n",
              "      <th>Data</th>\n",
              "      <th>Hora Início</th>\n",
              "      <th>Emissora</th>\n",
              "      <th>Mês</th>\n",
              "      <th>Dia do Mês</th>\n",
              "      <th>Total Domicílios | Rat%</th>\n",
              "      <th>AB | Rat%</th>\n",
              "      <th>...</th>\n",
              "      <th>Categoria_SHOW</th>\n",
              "      <th>Categoria_SORTEIO</th>\n",
              "      <th>Categoria_TELE VENDAS</th>\n",
              "      <th>Dia da Semana_1</th>\n",
              "      <th>Dia da Semana_2</th>\n",
              "      <th>Dia da Semana_3</th>\n",
              "      <th>Dia da Semana_4</th>\n",
              "      <th>Dia da Semana_5</th>\n",
              "      <th>Dia da Semana_6</th>\n",
              "      <th>Dia da Semana_7</th>\n",
              "    </tr>\n",
              "  </thead>\n",
              "  <tbody>\n",
              "    <tr>\n",
              "      <th>1092</th>\n",
              "      <td>1092</td>\n",
              "      <td>1092</td>\n",
              "      <td>1092</td>\n",
              "      <td>2020</td>\n",
              "      <td>25.0</td>\n",
              "      <td>tv_0</td>\n",
              "      <td>6</td>\n",
              "      <td>4</td>\n",
              "      <td>5.35</td>\n",
              "      <td>2.1</td>\n",
              "      <td>...</td>\n",
              "      <td>0</td>\n",
              "      <td>0</td>\n",
              "      <td>0</td>\n",
              "      <td>0</td>\n",
              "      <td>0</td>\n",
              "      <td>0</td>\n",
              "      <td>1</td>\n",
              "      <td>0</td>\n",
              "      <td>0</td>\n",
              "      <td>0</td>\n",
              "    </tr>\n",
              "  </tbody>\n",
              "</table>\n",
              "<p>1 rows × 102 columns</p>\n",
              "</div>\n",
              "      <button class=\"colab-df-convert\" onclick=\"convertToInteractive('df-15274f83-5326-46eb-9c5f-0468e8d7faad')\"\n",
              "              title=\"Convert this dataframe to an interactive table.\"\n",
              "              style=\"display:none;\">\n",
              "        \n",
              "  <svg xmlns=\"http://www.w3.org/2000/svg\" height=\"24px\"viewBox=\"0 0 24 24\"\n",
              "       width=\"24px\">\n",
              "    <path d=\"M0 0h24v24H0V0z\" fill=\"none\"/>\n",
              "    <path d=\"M18.56 5.44l.94 2.06.94-2.06 2.06-.94-2.06-.94-.94-2.06-.94 2.06-2.06.94zm-11 1L8.5 8.5l.94-2.06 2.06-.94-2.06-.94L8.5 2.5l-.94 2.06-2.06.94zm10 10l.94 2.06.94-2.06 2.06-.94-2.06-.94-.94-2.06-.94 2.06-2.06.94z\"/><path d=\"M17.41 7.96l-1.37-1.37c-.4-.4-.92-.59-1.43-.59-.52 0-1.04.2-1.43.59L10.3 9.45l-7.72 7.72c-.78.78-.78 2.05 0 2.83L4 21.41c.39.39.9.59 1.41.59.51 0 1.02-.2 1.41-.59l7.78-7.78 2.81-2.81c.8-.78.8-2.07 0-2.86zM5.41 20L4 18.59l7.72-7.72 1.47 1.35L5.41 20z\"/>\n",
              "  </svg>\n",
              "      </button>\n",
              "      \n",
              "  <style>\n",
              "    .colab-df-container {\n",
              "      display:flex;\n",
              "      flex-wrap:wrap;\n",
              "      gap: 12px;\n",
              "    }\n",
              "\n",
              "    .colab-df-convert {\n",
              "      background-color: #E8F0FE;\n",
              "      border: none;\n",
              "      border-radius: 50%;\n",
              "      cursor: pointer;\n",
              "      display: none;\n",
              "      fill: #1967D2;\n",
              "      height: 32px;\n",
              "      padding: 0 0 0 0;\n",
              "      width: 32px;\n",
              "    }\n",
              "\n",
              "    .colab-df-convert:hover {\n",
              "      background-color: #E2EBFA;\n",
              "      box-shadow: 0px 1px 2px rgba(60, 64, 67, 0.3), 0px 1px 3px 1px rgba(60, 64, 67, 0.15);\n",
              "      fill: #174EA6;\n",
              "    }\n",
              "\n",
              "    [theme=dark] .colab-df-convert {\n",
              "      background-color: #3B4455;\n",
              "      fill: #D2E3FC;\n",
              "    }\n",
              "\n",
              "    [theme=dark] .colab-df-convert:hover {\n",
              "      background-color: #434B5C;\n",
              "      box-shadow: 0px 1px 3px 1px rgba(0, 0, 0, 0.15);\n",
              "      filter: drop-shadow(0px 1px 2px rgba(0, 0, 0, 0.3));\n",
              "      fill: #FFFFFF;\n",
              "    }\n",
              "  </style>\n",
              "\n",
              "      <script>\n",
              "        const buttonEl =\n",
              "          document.querySelector('#df-15274f83-5326-46eb-9c5f-0468e8d7faad button.colab-df-convert');\n",
              "        buttonEl.style.display =\n",
              "          google.colab.kernel.accessAllowed ? 'block' : 'none';\n",
              "\n",
              "        async function convertToInteractive(key) {\n",
              "          const element = document.querySelector('#df-15274f83-5326-46eb-9c5f-0468e8d7faad');\n",
              "          const dataTable =\n",
              "            await google.colab.kernel.invokeFunction('convertToInteractive',\n",
              "                                                     [key], {});\n",
              "          if (!dataTable) return;\n",
              "\n",
              "          const docLinkHtml = 'Like what you see? Visit the ' +\n",
              "            '<a target=\"_blank\" href=https://colab.research.google.com/notebooks/data_table.ipynb>data table notebook</a>'\n",
              "            + ' to learn more about interactive tables.';\n",
              "          element.innerHTML = '';\n",
              "          dataTable['output_type'] = 'display_data';\n",
              "          await google.colab.output.renderOutput(dataTable, element);\n",
              "          const docLink = document.createElement('div');\n",
              "          docLink.innerHTML = docLinkHtml;\n",
              "          element.appendChild(docLink);\n",
              "        }\n",
              "      </script>\n",
              "    </div>\n",
              "  </div>\n",
              "  "
            ]
          },
          "metadata": {},
          "execution_count": 119
        }
      ],
      "source": [
        "#Comparando o valor da predição com o valor real do RAT\n",
        "tv_0.iloc[[1092]]"
      ]
    },
    {
      "cell_type": "code",
      "execution_count": null,
      "metadata": {
        "id": "i2N3iCl5JB60",
        "colab": {
          "base_uri": "https://localhost:8080/"
        },
        "outputId": "703ad78e-1115-4184-c63d-48f0b5bbab93"
      },
      "outputs": [
        {
          "output_type": "execute_result",
          "data": {
            "text/plain": [
              "array([0.00e+00, 0.00e+00, 0.00e+00, 0.00e+00, 0.00e+00, 0.00e+00,\n",
              "       0.00e+00, 0.00e+00, 0.00e+00, 0.00e+00, 0.00e+00, 0.00e+00,\n",
              "       0.00e+00, 0.00e+00, 0.00e+00, 0.00e+00, 0.00e+00, 0.00e+00,\n",
              "       0.00e+00, 0.00e+00, 0.00e+00, 0.00e+00, 0.00e+00, 0.00e+00,\n",
              "       0.00e+00, 0.00e+00, 1.00e+00, 0.00e+00, 0.00e+00, 7.00e+00,\n",
              "       1.40e+01, 0.00e+00, 0.00e+00, 0.00e+00, 0.00e+00, 0.00e+00,\n",
              "       1.00e+00, 0.00e+00, 1.80e+01, 2.02e+03])"
            ]
          },
          "metadata": {},
          "execution_count": 120
        }
      ],
      "source": [
        "#Escolhendo uma linha aleatoria do modelo de teste\n",
        "testPredition = x_test.iloc[[1092]].values.flatten()\n",
        "\n",
        "#Guardando esse números em uma variável \n",
        "testPredition"
      ]
    },
    {
      "cell_type": "code",
      "execution_count": null,
      "metadata": {
        "id": "XnTvDiJqJB60",
        "colab": {
          "base_uri": "https://localhost:8080/"
        },
        "outputId": "182bbef9-cd28-4556-9cbd-9dd95ab31203"
      },
      "outputs": [
        {
          "output_type": "stream",
          "name": "stdout",
          "text": [
            "[[10.08]]\n"
          ]
        }
      ],
      "source": [
        "#Testando o modelo com a linha selecionada acima\n",
        "predition_knn = knn_model.predict([testPredition])\n",
        "print(predition_knn)"
      ]
    },
    {
      "cell_type": "code",
      "execution_count": null,
      "metadata": {
        "id": "3R7udB4EJB61",
        "colab": {
          "base_uri": "https://localhost:8080/",
          "height": 209
        },
        "outputId": "77349413-4c2d-40ba-8df0-a5d51688c1e9"
      },
      "outputs": [
        {
          "output_type": "execute_result",
          "data": {
            "text/plain": [
              "      Unnamed: 0  Unnamed: 0.1  Unnamed: 0.1.1  Data  Hora Início Emissora  \\\n",
              "1092        1092          1092            1092  2020         25.0     tv_0   \n",
              "\n",
              "      Mês  Dia do Mês  Total Domicílios | Rat%  AB | Rat%  ...  \\\n",
              "1092    6           4                     5.35        2.1  ...   \n",
              "\n",
              "      Categoria_SHOW  Categoria_SORTEIO  Categoria_TELE VENDAS  \\\n",
              "1092               0                  0                      0   \n",
              "\n",
              "      Dia da Semana_1  Dia da Semana_2  Dia da Semana_3  Dia da Semana_4  \\\n",
              "1092                0                0                0                1   \n",
              "\n",
              "      Dia da Semana_5  Dia da Semana_6  Dia da Semana_7  \n",
              "1092                0                0                0  \n",
              "\n",
              "[1 rows x 102 columns]"
            ],
            "text/html": [
              "\n",
              "  <div id=\"df-b64a13f2-e6c2-49d7-96fb-233b058e3871\">\n",
              "    <div class=\"colab-df-container\">\n",
              "      <div>\n",
              "<style scoped>\n",
              "    .dataframe tbody tr th:only-of-type {\n",
              "        vertical-align: middle;\n",
              "    }\n",
              "\n",
              "    .dataframe tbody tr th {\n",
              "        vertical-align: top;\n",
              "    }\n",
              "\n",
              "    .dataframe thead th {\n",
              "        text-align: right;\n",
              "    }\n",
              "</style>\n",
              "<table border=\"1\" class=\"dataframe\">\n",
              "  <thead>\n",
              "    <tr style=\"text-align: right;\">\n",
              "      <th></th>\n",
              "      <th>Unnamed: 0</th>\n",
              "      <th>Unnamed: 0.1</th>\n",
              "      <th>Unnamed: 0.1.1</th>\n",
              "      <th>Data</th>\n",
              "      <th>Hora Início</th>\n",
              "      <th>Emissora</th>\n",
              "      <th>Mês</th>\n",
              "      <th>Dia do Mês</th>\n",
              "      <th>Total Domicílios | Rat%</th>\n",
              "      <th>AB | Rat%</th>\n",
              "      <th>...</th>\n",
              "      <th>Categoria_SHOW</th>\n",
              "      <th>Categoria_SORTEIO</th>\n",
              "      <th>Categoria_TELE VENDAS</th>\n",
              "      <th>Dia da Semana_1</th>\n",
              "      <th>Dia da Semana_2</th>\n",
              "      <th>Dia da Semana_3</th>\n",
              "      <th>Dia da Semana_4</th>\n",
              "      <th>Dia da Semana_5</th>\n",
              "      <th>Dia da Semana_6</th>\n",
              "      <th>Dia da Semana_7</th>\n",
              "    </tr>\n",
              "  </thead>\n",
              "  <tbody>\n",
              "    <tr>\n",
              "      <th>1092</th>\n",
              "      <td>1092</td>\n",
              "      <td>1092</td>\n",
              "      <td>1092</td>\n",
              "      <td>2020</td>\n",
              "      <td>25.0</td>\n",
              "      <td>tv_0</td>\n",
              "      <td>6</td>\n",
              "      <td>4</td>\n",
              "      <td>5.35</td>\n",
              "      <td>2.1</td>\n",
              "      <td>...</td>\n",
              "      <td>0</td>\n",
              "      <td>0</td>\n",
              "      <td>0</td>\n",
              "      <td>0</td>\n",
              "      <td>0</td>\n",
              "      <td>0</td>\n",
              "      <td>1</td>\n",
              "      <td>0</td>\n",
              "      <td>0</td>\n",
              "      <td>0</td>\n",
              "    </tr>\n",
              "  </tbody>\n",
              "</table>\n",
              "<p>1 rows × 102 columns</p>\n",
              "</div>\n",
              "      <button class=\"colab-df-convert\" onclick=\"convertToInteractive('df-b64a13f2-e6c2-49d7-96fb-233b058e3871')\"\n",
              "              title=\"Convert this dataframe to an interactive table.\"\n",
              "              style=\"display:none;\">\n",
              "        \n",
              "  <svg xmlns=\"http://www.w3.org/2000/svg\" height=\"24px\"viewBox=\"0 0 24 24\"\n",
              "       width=\"24px\">\n",
              "    <path d=\"M0 0h24v24H0V0z\" fill=\"none\"/>\n",
              "    <path d=\"M18.56 5.44l.94 2.06.94-2.06 2.06-.94-2.06-.94-.94-2.06-.94 2.06-2.06.94zm-11 1L8.5 8.5l.94-2.06 2.06-.94-2.06-.94L8.5 2.5l-.94 2.06-2.06.94zm10 10l.94 2.06.94-2.06 2.06-.94-2.06-.94-.94-2.06-.94 2.06-2.06.94z\"/><path d=\"M17.41 7.96l-1.37-1.37c-.4-.4-.92-.59-1.43-.59-.52 0-1.04.2-1.43.59L10.3 9.45l-7.72 7.72c-.78.78-.78 2.05 0 2.83L4 21.41c.39.39.9.59 1.41.59.51 0 1.02-.2 1.41-.59l7.78-7.78 2.81-2.81c.8-.78.8-2.07 0-2.86zM5.41 20L4 18.59l7.72-7.72 1.47 1.35L5.41 20z\"/>\n",
              "  </svg>\n",
              "      </button>\n",
              "      \n",
              "  <style>\n",
              "    .colab-df-container {\n",
              "      display:flex;\n",
              "      flex-wrap:wrap;\n",
              "      gap: 12px;\n",
              "    }\n",
              "\n",
              "    .colab-df-convert {\n",
              "      background-color: #E8F0FE;\n",
              "      border: none;\n",
              "      border-radius: 50%;\n",
              "      cursor: pointer;\n",
              "      display: none;\n",
              "      fill: #1967D2;\n",
              "      height: 32px;\n",
              "      padding: 0 0 0 0;\n",
              "      width: 32px;\n",
              "    }\n",
              "\n",
              "    .colab-df-convert:hover {\n",
              "      background-color: #E2EBFA;\n",
              "      box-shadow: 0px 1px 2px rgba(60, 64, 67, 0.3), 0px 1px 3px 1px rgba(60, 64, 67, 0.15);\n",
              "      fill: #174EA6;\n",
              "    }\n",
              "\n",
              "    [theme=dark] .colab-df-convert {\n",
              "      background-color: #3B4455;\n",
              "      fill: #D2E3FC;\n",
              "    }\n",
              "\n",
              "    [theme=dark] .colab-df-convert:hover {\n",
              "      background-color: #434B5C;\n",
              "      box-shadow: 0px 1px 3px 1px rgba(0, 0, 0, 0.15);\n",
              "      filter: drop-shadow(0px 1px 2px rgba(0, 0, 0, 0.3));\n",
              "      fill: #FFFFFF;\n",
              "    }\n",
              "  </style>\n",
              "\n",
              "      <script>\n",
              "        const buttonEl =\n",
              "          document.querySelector('#df-b64a13f2-e6c2-49d7-96fb-233b058e3871 button.colab-df-convert');\n",
              "        buttonEl.style.display =\n",
              "          google.colab.kernel.accessAllowed ? 'block' : 'none';\n",
              "\n",
              "        async function convertToInteractive(key) {\n",
              "          const element = document.querySelector('#df-b64a13f2-e6c2-49d7-96fb-233b058e3871');\n",
              "          const dataTable =\n",
              "            await google.colab.kernel.invokeFunction('convertToInteractive',\n",
              "                                                     [key], {});\n",
              "          if (!dataTable) return;\n",
              "\n",
              "          const docLinkHtml = 'Like what you see? Visit the ' +\n",
              "            '<a target=\"_blank\" href=https://colab.research.google.com/notebooks/data_table.ipynb>data table notebook</a>'\n",
              "            + ' to learn more about interactive tables.';\n",
              "          element.innerHTML = '';\n",
              "          dataTable['output_type'] = 'display_data';\n",
              "          await google.colab.output.renderOutput(dataTable, element);\n",
              "          const docLink = document.createElement('div');\n",
              "          docLink.innerHTML = docLinkHtml;\n",
              "          element.appendChild(docLink);\n",
              "        }\n",
              "      </script>\n",
              "    </div>\n",
              "  </div>\n",
              "  "
            ]
          },
          "metadata": {},
          "execution_count": 122
        }
      ],
      "source": [
        "#Comparando o valor da predição com o valor real do RAT\n",
        "tv_0.iloc[[1092]]"
      ]
    },
    {
      "cell_type": "markdown",
      "metadata": {
        "id": "ZnJCi960c1AJ"
      },
      "source": [
        "## Como notado nos testes acima, o Random Forest têm uma melhor acurácia. "
      ]
    }
  ],
  "metadata": {
    "colab": {
      "collapsed_sections": [
        "LvLm7a3ngUDc",
        "yEszGPuLoxC1",
        "dmLP6eBfryRS",
        "9uoQ0MBHkD0o",
        "AGV2Wq-qg8zA",
        "iu_59i7IKebI",
        "tMhw-I-kjpSL"
      ],
      "provenance": []
    },
    "kernelspec": {
      "display_name": "Python 3",
      "name": "python3"
    },
    "language_info": {
      "name": "python"
    }
  },
  "nbformat": 4,
  "nbformat_minor": 0
}
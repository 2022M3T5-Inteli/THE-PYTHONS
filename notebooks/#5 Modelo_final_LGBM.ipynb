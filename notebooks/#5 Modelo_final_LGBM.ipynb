{
  "nbformat": 4,
  "nbformat_minor": 0,
  "metadata": {
    "colab": {
      "provenance": [],
      "collapsed_sections": []
    },
    "kernelspec": {
      "name": "python3",
      "display_name": "Python 3"
    },
    "language_info": {
      "name": "python"
    }
  },
  "cells": [
    {
      "cell_type": "markdown",
      "source": [
        "#Abrindo o modelo e carregando  bibliotecas"
      ],
      "metadata": {
        "id": "3JP6cxOYLChk"
      }
    },
    {
      "cell_type": "code",
      "source": [
        "from google.colab import drive, files\n",
        "drive.mount('/content/drive')"
      ],
      "metadata": {
        "colab": {
          "base_uri": "https://localhost:8080/"
        },
        "id": "t-bgDrplUthU",
        "outputId": "6455f72b-f4a9-4a90-fad2-15601725706f"
      },
      "execution_count": null,
      "outputs": [
        {
          "output_type": "stream",
          "name": "stdout",
          "text": [
            "Mounted at /content/drive\n"
          ]
        }
      ]
    },
    {
      "cell_type": "code",
      "source": [
        "import pickle\n",
        "from sklearn.model_selection import train_test_split\n",
        "import numpy as np\n",
        "import matplotlib.pyplot as plt\n",
        "import pandas as pd\n",
        "from google.colab.data_table import DataTable\n",
        "DataTable.max_columns = 120"
      ],
      "metadata": {
        "id": "NImxhiHVUeEC"
      },
      "execution_count": null,
      "outputs": []
    },
    {
      "cell_type": "markdown",
      "source": [
        "Definindo o caminho para abrir o modelo do Light gbm "
      ],
      "metadata": {
        "id": "qsXsxFufJI1t"
      }
    },
    {
      "cell_type": "code",
      "execution_count": null,
      "metadata": {
        "id": "lvkVCQjPUXP8"
      },
      "outputs": [],
      "source": [
        "#Caminho para abrir o arquivo(utilizar o caminho local, visto que o arquivo é maior que 600MB. Assim, recomendo fazer o download do modelo e upar para seu drive pessoal)\n",
        "DATA_PATH = \"/content/drive/MyDrive/2022-2A-T05/Grupo 3/Colabs\" \n",
        "\n",
        "#Abrindo o modelo LGBM\n",
        "infile = open(DATA_PATH+\"/predict_lgbm.pkl\",'rb')"
      ]
    },
    {
      "cell_type": "code",
      "source": [
        "#Modelo definido\n",
        "model = pickle.load(infile)"
      ],
      "metadata": {
        "id": "Lc6VFzTxVAcv"
      },
      "execution_count": null,
      "outputs": []
    },
    {
      "cell_type": "markdown",
      "source": [
        "#Input dos dados para a predição\n",
        "\n",
        "\n",
        "\n"
      ],
      "metadata": {
        "id": "4h-CMusVZQ49"
      }
    },
    {
      "cell_type": "markdown",
      "source": [
        "Nessa seção você poderá inserir as variáveis utilizadas para podermos definir os valores de entrada para a simulação do nosso Modelo de Predição."
      ],
      "metadata": {
        "id": "cawzVaKVZYBh"
      }
    },
    {
      "cell_type": "code",
      "source": [
        "from datetime import date\n",
        "from datetime import datetime\n",
        "\n",
        "Categoria = 'Categoria_FEMININO' #@param [\"Categoria_AUDITORIO\", \"Categoria_CARROS E MOTORES\", \"Categoria_CULINARIO\", \"Categoria_DEBATE\",\"Categoria_DOCUMENTARIO\",\"Categoria_EDUCATIVO\", \"Categoria_ENTREVISTA\", \"Categoria_ESPORTE\", \"Categoria_FEMININO\",\"Categoria_FILME\", \"Categoria_FUTEBOL\",\"Categoria_GAME SHOW\",\"Categoria_HUMORISTICO\",\"Categoria_JORNALISMO\", \"Categoria_MINISSERIE\", \"Categoria_MUSICAL\",\"Categoria_NOVELA\", \"Categoria_OUTROS\", \"Categoria_POLITICO\", \"Categoria_PREMIACAO\",\"Categoria_REALITY SHOW\",\"Categoria_RELIGIOSO\", \"Categoria_REPORTAGEM\", \"Categoria_RURAL\", \"Categoria_SERIES\",\"Categoria_SHOW\", \"Categoria_SORTEIO\", \"Categoria_TELE VENDAS\"]\n",
        "Dia_da_semana = 'Sexta' #@param ['Segunda','Terça','Quarta','Quinta','Sexta','Sábado','Domingo']\n",
        "Dia_do_Mês = \"2022-10-02\" #@param {type:\"date\"}\n",
        "Hora_inicio = '12' #@param ['6', '7', '8', '9', '10', '11', '12', '13', '14', '15','16', '17', '18', '19', '20', '21', '22', '23', '24', '25', '26', '27', '28', '29']\n",
        "Minuto_inicio= '30' #@param ['00', '05', '10', '15','20','25', '30','35','40','45','50','55']\n",
        "Hora_final = '26' #@param ['6', '7', '8', '9', '10', '11', '12', '13', '14', '15','16', '17', '18', '19', '20', '21', '22', '23', '24', '25', '26', '27', '28', '29']\n",
        "Minuto_final= '00' #@param ['00', '05', '10', '15','20','25', '30','35','40','45','50','55']"
      ],
      "metadata": {
        "id": "3Mhv1I9eZSlK"
      },
      "execution_count": null,
      "outputs": []
    },
    {
      "cell_type": "code",
      "source": [
        "#Definindo a hora inicio e o minuto inicial \n",
        "Hr_Inicio =float( Hora_inicio + \".\" + Minuto_inicio)\n",
        "#Definindo a hora final e o minuto final \n",
        "Hr_Final =float( Hora_final + \".\" + Minuto_final)\n"
      ],
      "metadata": {
        "id": "e_vJIVwGc36d"
      },
      "execution_count": null,
      "outputs": []
    },
    {
      "cell_type": "code",
      "source": [
        "#Criando uma lista de 5 em 5 minutos a partir da hora inicial até a final\n",
        "lista_horarios = np.arange(Hr_Inicio, Hr_Final, 0.05).tolist()\n",
        "\n",
        "#Arredondando os valores para apenas duas casas decimais \n",
        "lista_horarios = np.round(lista_horarios, 2)"
      ],
      "metadata": {
        "id": "q5EzWPMTc1Sl"
      },
      "execution_count": null,
      "outputs": []
    },
    {
      "cell_type": "code",
      "source": [
        "Categorias =[0,0,0,0,0,0,0,0,0,0,0,0,0,0,0,0,0,0,0,0,0,0,0,0,0,0,0,0,0]\n",
        "if Categoria == 'Categoria_AUDITORIO':\n",
        "  Categorias[0] = 1\n",
        "elif Categoria == 'Categoria_CARROS E MOTORES':\n",
        "  Categorias[1] = 1\n",
        "elif Categoria == 'Categoria_CULINARIO':\n",
        "  Categorias[2] = 1\n",
        "elif Categoria ==  'Categoria_DEBATE' :\n",
        "  Categorias[3] = 1\n",
        "elif Categoria == 'Categoria_DOCUMENTARIO':\n",
        "  Categorias[4] = 1\n",
        "elif Categoria ==  'Categoria_EDUCATIVO':\n",
        "  Categorias[5] = 1\n",
        "elif Categoria ==  'Categoria_ENTREVISTA':\n",
        "  Categorias[6] = 1\n",
        "elif Categoria ==  'Categoria_ESPORTE':\n",
        "  Categorias[7] = 1\n",
        "elif Categoria == 'Categoria_FEMININO':\n",
        "  Categorias[8] = 1\n",
        "elif Categoria == 'Categoria_FILME':\n",
        "  Categorias[9] = 1\n",
        "elif Categoria == 'Categoria_FUTEBOL':\n",
        "  Categorias[10] = 1\n",
        "elif Categoria ==  'Categoria_GAME SHOW':\n",
        "  Categorias[11] = 1\n",
        "elif Categoria == 'Categoria_HUMORISTICO':\n",
        "  Categorias[12] = 1\n",
        "elif Categoria == 'Categoria_JORNALISMO':\n",
        "  Categorias[13] = 1\n",
        "elif Categoria == 'Categoria_MINISSERIE':\n",
        "  Categorias[14] = 1\n",
        "elif Categoria == 'Categoria_MUSICAL':\n",
        "  Categorias[15] = 1\n",
        "elif Categoria == 'Categoria_NOVELA':\n",
        "  Categorias[17] = 1\n",
        "elif Categoria == 'Categoria_OUTROS':\n",
        "  Categorias[18] = 1\n",
        "elif Categoria == 'Categoria_POLITICO':\n",
        "  Categorias[19] = 1\n",
        "elif Categoria ==  'Categoria_PREMIACAO':\n",
        "  Categorias[20] = 1\n",
        "elif Categoria ==  'Categoria_REALITY SHOW':\n",
        "  Categorias[21] = 1\n",
        "elif Categoria == 'Categoria_RELIGIOSO':\n",
        "  Categorias[22] = 1\n",
        "elif Categoria == 'Categoria_REPORTAGEM':\n",
        "  Categorias[23] = 1\n",
        "elif Categoria == 'Categoria_RURAL':\n",
        "  Categorias[24] = 1\n",
        "elif Categoria == 'Categoria_SERIES':\n",
        "  Categorias[25] = 1\n",
        "elif Categoria == 'Categoria_SHOW':\n",
        "  Categorias[26] = 1\n",
        "elif Categoria == 'Categoria_SORTEIO':\n",
        "  Categorias[27] = 1\n",
        "elif Categoria == 'Categoria_TELE VENDAS':\n",
        "  Categorias[28] = 1"
      ],
      "metadata": {
        "id": "iyU1_ktXchBC"
      },
      "execution_count": null,
      "outputs": []
    },
    {
      "cell_type": "code",
      "source": [
        "Dia_sem = [0, 0, 0, 0, 0, 0, 0]\n",
        "if Dia_da_semana == 'Segunda':\n",
        "  Dia_sem[0] = 1\n",
        "elif Dia_da_semana == 'Terça':\n",
        "  Dia_sem[1] = 2\n",
        "elif Dia_da_semana == 'Quarta':\n",
        "  Dia_sem[2] = 3\n",
        "elif Dia_da_semana == 'Quinta':\n",
        "  Dia_sem[3] = 4\n",
        "elif Dia_da_semana == 'Sexta':\n",
        "  Dia_sem[4] = 5\n",
        "elif Dia_da_semana == 'Sábado':\n",
        "  Dia_sem[5] = 6\n",
        "elif Dia_da_semana == 'Domingo':\n",
        "  Dia_sem[6] = 7"
      ],
      "metadata": {
        "id": "6SfYVxFwciRP"
      },
      "execution_count": null,
      "outputs": []
    },
    {
      "cell_type": "code",
      "source": [
        "#Pega a data selecionada e sepera os valores de ano, mês e dia. \n",
        "ymd = Dia_do_Mês.split('-')\n",
        "\n",
        "year = int(ymd[0])\n",
        "lyear = [int(ymd[0])]\n",
        "month = int(ymd[1])\n",
        "lmonth = [int(ymd[1])]\n",
        "day = int(ymd[2])\n",
        "lday = [int(ymd[2])]"
      ],
      "metadata": {
        "id": "oIRrZHikckI2"
      },
      "execution_count": null,
      "outputs": []
    },
    {
      "cell_type": "code",
      "source": [
        "#Corrigindo a lista para ser passada no input\n",
        "tempo = [lista_horarios[0]]"
      ],
      "metadata": {
        "id": "drP8uvjsckuO"
      },
      "execution_count": null,
      "outputs": []
    },
    {
      "cell_type": "code",
      "source": [
        "#result é a lista que contem as informações para o modelo prever\n",
        "result = Categorias + lmonth + tempo + Dia_sem + lday + lyear\n"
      ],
      "metadata": {
        "id": "RJ-k0cQ2cn0_"
      },
      "execution_count": null,
      "outputs": []
    },
    {
      "cell_type": "code",
      "source": [
        "#Lista com todos os resultados das predições no intervalo definido pelo usuario \n",
        "lista_resultado = []\n",
        "\n",
        "#Loop que testa a audiência de 5 em 5 minutos \n",
        "for i in lista_horarios:\n",
        "    result[30] = i \n",
        "    predicao_lgbm = model.predict([result], num_iteration=model.best_iteration_)\n",
        "    lista_resultado.append(predicao_lgbm)\n"
      ],
      "metadata": {
        "id": "SJSUcp6Re3f3"
      },
      "execution_count": null,
      "outputs": []
    },
    {
      "cell_type": "code",
      "source": [
        "#Removendo colchetes de cada item da lista dos resultados\n",
        "lista_resultado = [i[0] for i in lista_resultado]"
      ],
      "metadata": {
        "id": "APk20GV_ib6E"
      },
      "execution_count": null,
      "outputs": []
    },
    {
      "cell_type": "markdown",
      "source": [
        "Fazendo a media a cada cinco e cinco minutos:"
      ],
      "metadata": {
        "id": "SQBEy-UPivvn"
      }
    },
    {
      "cell_type": "code",
      "source": [
        "media_rat = np.mean(lista_resultado)"
      ],
      "metadata": {
        "id": "GEhfIfOLigDD"
      },
      "execution_count": null,
      "outputs": []
    },
    {
      "cell_type": "code",
      "source": [
        "print('Esta é a média de audiência : ', media_rat)"
      ],
      "metadata": {
        "colab": {
          "base_uri": "https://localhost:8080/"
        },
        "id": "CA-9sf6zihAL",
        "outputId": "2f6aa187-a6d7-46cc-c5fb-d6a71a0c2773"
      },
      "execution_count": null,
      "outputs": [
        {
          "output_type": "stream",
          "name": "stdout",
          "text": [
            "Esta é a média de audiência :  8.172838998905236\n"
          ]
        }
      ]
    },
    {
      "cell_type": "markdown",
      "source": [
        "Plotando o grafico de audiencia da duração escolhida:"
      ],
      "metadata": {
        "id": "lWolcXIWi3ZU"
      }
    },
    {
      "cell_type": "code",
      "source": [
        "data_pred = pd.DataFrame({'Horarios':lista_horarios, 'Resultado':lista_resultado})\n"
      ],
      "metadata": {
        "id": "ioTfNzGMR_fm"
      },
      "execution_count": null,
      "outputs": []
    },
    {
      "cell_type": "code",
      "source": [
        "import seaborn as sns\n",
        "\n",
        "sns.relplot(data=data_pred, x=\"Horarios\", y=\"Resultado\", kind=\"line\")"
      ],
      "metadata": {
        "colab": {
          "base_uri": "https://localhost:8080/",
          "height": 386
        },
        "id": "mtIIaPEeObb_",
        "outputId": "0acf4a21-3272-4ea8-b4d4-afece1e2ad39"
      },
      "execution_count": null,
      "outputs": [
        {
          "output_type": "execute_result",
          "data": {
            "text/plain": [
              "<seaborn.axisgrid.FacetGrid at 0x7fefda396350>"
            ]
          },
          "metadata": {},
          "execution_count": 18
        },
        {
          "output_type": "display_data",
          "data": {
            "text/plain": [
              "<Figure size 360x360 with 1 Axes>"
            ],
            "image/png": "[encoded data removed]"
          },
          "metadata": {
            "needs_background": "light"
          }
        }
      ]
    },
    {
      "cell_type": "code",
      "source": [
        "sns.lineplot(data=data_pred, x=\"Horarios\", y=\"Resultado\", \n",
        "    markers=False, dashes=True)\n"
      ],
      "metadata": {
        "colab": {
          "base_uri": "https://localhost:8080/",
          "height": 296
        },
        "id": "yMTypSp5VxZ7",
        "outputId": "e11dcab5-c841-47fb-c195-915ad1f495b9"
      },
      "execution_count": null,
      "outputs": [
        {
          "output_type": "execute_result",
          "data": {
            "text/plain": [
              "<matplotlib.axes._subplots.AxesSubplot at 0x7fefd99e6a10>"
            ]
          },
          "metadata": {},
          "execution_count": 19
        },
        {
          "output_type": "display_data",
          "data": {
            "text/plain": [
              "<Figure size 432x288 with 1 Axes>"
            ],
            "image/png": "[encoded data removed]"
          },
          "metadata": {
            "needs_background": "light"
          }
        }
      ]
    },
    {
      "cell_type": "code",
      "source": [],
      "metadata": {
        "id": "cXh0yuDVWEUA"
      },
      "execution_count": null,
      "outputs": []
    }
  ]
}